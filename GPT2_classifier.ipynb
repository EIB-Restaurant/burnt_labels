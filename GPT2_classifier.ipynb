{
 "cells": [
  {
   "cell_type": "markdown",
   "metadata": {},
   "source": [
    "# Fine Tuning GPT2 model "
   ]
  },
  {
   "cell_type": "markdown",
   "metadata": {},
   "source": [
    "## Imports and Setup\n",
    "\n"
   ]
  },
  {
   "cell_type": "code",
   "execution_count": 56,
   "metadata": {},
   "outputs": [],
   "source": [
    "# Import necessary libraries\n",
    "import torch  # PyTorch for building and training neural networks\n",
    "import numpy as np  # NumPy for numerical operations\n",
    "import pandas as pd  # Pandas for data manipulation\n",
    "import matplotlib.pyplot as plt  # Matplotlib for plotting graphs\n",
    "from torch import nn  # Neural network module from PyTorch\n",
    "from torch.optim import Adam  # Adam optimizer for training\n",
    "from transformers import GPT2Model, GPT2Tokenizer  # GPT-2 model and tokenizer from Hugging Face\n",
    "from tqdm import tqdm  # Tqdm for progress bars\n",
    "from sklearn.metrics import confusion_matrix, ConfusionMatrixDisplay  # Metrics for model evaluation\n",
    "from sklearn.utils import resample  # Utility for data resampling\n",
    "import os  # Operating system interfaces\n",
    "from peft import get_peft_model, LoraConfig  # For handling parameter-efficient fine-tuning\n"
   ]
  },
  {
   "cell_type": "markdown",
   "metadata": {},
   "source": [
    "## Data Loading and Preprocessing\n",
    "\n",
    "This section focuses on loading the dataset from a CSV file, cleaning and preprocessing the data, splitting multi-label information into separate columns, and balancing the dataset to ensure each class has a similar number of samples.\n"
   ]
  },
  {
   "cell_type": "code",
   "execution_count": 58,
   "metadata": {},
   "outputs": [],
   "source": [
    "# Load data from CSV file\n",
    "file_path = 'est_food_bev_alc.csv'\n",
    "original_df = pd.read_csv(file_path)\n",
    "\n",
    "# Clean the data by dropping unnecessary columns\n",
    "data_cleaned = original_df.drop(columns=['link', 'typeID'])\n",
    "\n",
    "# Split the 'label' column into multiple parts\n",
    "label_split = data_cleaned['label'].str.split('/', expand=True)\n",
    "label_split.columns = [f'label_part_{i+1}' for i in range(label_split.shape[1])]\n",
    "\n",
    "# Combine the cleaned data with the split labels\n",
    "data_expanded = pd.concat([data_cleaned.drop(columns=['label']), label_split], axis=1)\n",
    "\n",
    "# Filter data to only include labels that have a minimum count\n",
    "filtered_df = data_expanded[data_expanded['label_part_2'].map(data_expanded['label_part_2'].value_counts()) >= 600]\n",
    "\n",
    "# Balance the dataset to have equal representation for each class\n",
    "min_sample_size = filtered_df['label_part_2'].value_counts().min()\n",
    "balanced_df_list = []\n",
    "for label in filtered_df['label_part_2'].unique():\n",
    "    label_df = filtered_df[filtered_df['label_part_2'] == label]\n",
    "    balanced_label_df = resample(label_df, \n",
    "                                 replace=len(label_df) < min_sample_size,  \n",
    "                                 n_samples=min_sample_size, \n",
    "                                 random_state=42)\n",
    "    balanced_df_list.append(balanced_label_df)\n",
    "\n",
    "# Concatenate balanced data\n",
    "balanced_df = pd.concat(balanced_df_list)\n"
   ]
  },
  {
   "cell_type": "markdown",
   "metadata": {},
   "source": [
    "##  Tokenization and Dataset Preparation\n",
    "\n",
    "Here, we initialize the GPT-2 tokenizer, set up the tokenization parameters, and define a custom PyTorch dataset class to handle text and label data. We also split the dataset into training, validation, and test sets.\n"
   ]
  },
  {
   "cell_type": "code",
   "execution_count": null,
   "metadata": {},
   "outputs": [],
   "source": [
    "# Map unique labels to numerical values for classification\n",
    "unique_labels = balanced_df['label_part_2'].unique()\n",
    "label_to_number = {label: idx for idx, label in enumerate(unique_labels, start=0)}\n",
    "\n",
    "# Define the number of classes\n",
    "num_classes = len(unique_labels)\n",
    "\n",
    "# Initialize the GPT-2 tokenizer\n",
    "tokenizer = GPT2Tokenizer.from_pretrained('gpt2')\n",
    "tokenizer.padding_side = \"left\"\n",
    "tokenizer.pad_token = tokenizer.eos_token\n",
    "\n",
    "# Mapping labels to numbers\n",
    "labels = label_to_number\n",
    "\n",
    "# Define a custom dataset class\n",
    "class Dataset(torch.utils.data.Dataset):\n",
    "    def __init__(self, df):\n",
    "        # Store labels and texts\n",
    "        self.labels = [labels[label] for label in df['label_part_2']]\n",
    "        self.texts = [tokenizer(text, padding='max_length', max_length=128, truncation=True, return_tensors=\"pt\") for text in df['product']]\n",
    "        \n",
    "    def classes(self):\n",
    "        # Return the class labels\n",
    "        return self.labels\n",
    "    \n",
    "    def __len__(self):\n",
    "        # Return the length of the dataset\n",
    "        return len(self.labels)\n",
    "    \n",
    "    def get_batch_labels(self, idx):\n",
    "        # Return a specific batch of labels\n",
    "        return np.array(self.labels[idx])\n",
    "    \n",
    "    def get_batch_texts(self, idx):\n",
    "        # Return a specific batch of texts\n",
    "        return self.texts[idx]\n",
    "    \n",
    "    def __getitem__(self, idx):\n",
    "        # Retrieve a batch of texts and labels\n",
    "        batch_texts = self.get_batch_texts(idx)\n",
    "        batch_y = self.get_batch_labels(idx)\n",
    "        return batch_texts, batch_y\n",
    "\n",
    "# Split data into training, validation, and test sets\n",
    "np.random.seed(112)\n",
    "df_train, df_val, df_test = np.split(balanced_df.sample(frac=1, random_state=35),\n",
    "                                     [int(0.8*len(balanced_df)), int(0.9*len(balanced_df))])\n",
    "\n",
    "print(len(df_train), len(df_val), len(df_test))\n"
   ]
  },
  {
   "cell_type": "markdown",
   "metadata": {},
   "source": [
    "## Model Definition\n",
    "\n",
    "We define the GPT-2 based sequence classifier model. The model consists of a pre-trained GPT-2 backbone followed by a linear layer that outputs class predictions.\n"
   ]
  },
  {
   "cell_type": "code",
   "execution_count": 59,
   "metadata": {},
   "outputs": [],
   "source": [
    "# Define the GPT-2 based sequence classifier\n",
    "class GPT2SequenceClassifier(nn.Module):\n",
    "    def __init__(self, hidden_size: int, num_classes:int ,max_seq_len:int, gpt_model_name:str):\n",
    "        super(GPT2SequenceClassifier, self).__init__()\n",
    "        # Load the pre-trained GPT-2 model\n",
    "        self.gpt2model = GPT2Model.from_pretrained(gpt_model_name)\n",
    "        # Define a linear layer for classification\n",
    "        self.fc1 = nn.Linear(hidden_size * max_seq_len, num_classes)\n",
    "\n",
    "    def forward(self, input_id, mask):\n",
    "        # Get output from GPT-2 model\n",
    "        gpt_out, _ = self.gpt2model(input_ids=input_id, attention_mask=mask, return_dict=False)\n",
    "        # Reshape output and pass through the linear layer\n",
    "        batch_size = gpt_out.shape[0]\n",
    "        linear_output = self.fc1(gpt_out.view(batch_size, -1))\n",
    "        return linear_output\n"
   ]
  },
  {
   "cell_type": "markdown",
   "metadata": {},
   "source": [
    "## Training Setup\n",
    "\n"
   ]
  },
  {
   "cell_type": "code",
   "execution_count": 60,
   "metadata": {},
   "outputs": [
    {
     "name": "stdout",
     "output_type": "stream",
     "text": [
      "Using device: mps\n"
     ]
    }
   ],
   "source": [
    "# Determine the device to use (MPS, CUDA, or CPU)\n",
    "if torch.backends.mps.is_available():\n",
    "    device = torch.device(\"mps\")\n",
    "elif torch.cuda.is_available():\n",
    "    device = torch.device(\"cuda\")\n",
    "else:\n",
    "    device = torch.device(\"cpu\")\n",
    "\n",
    "# Set learning rate and number of epochs\n",
    "LR = 1e-5\n",
    "EPOCHS = 10\n",
    "# Define loss function and optimizer\n",
    "criterion = nn.CrossEntropyLoss()\n",
    "print(f\"Using device: {device}\")\n",
    "\n",
    "# Initialize the model and optimizer\n",
    "model = GPT2SequenceClassifier(hidden_size=768, num_classes=num_classes, max_seq_len=128, gpt_model_name=\"gpt2\")\n",
    "optimizer = Adam(model.parameters(), lr=LR)\n",
    "\n",
    "# Move model to the appropriate device\n",
    "model.to(device)\n",
    "\n",
    "# Create a directory to save training logs and model checkpoints\n",
    "save_folder = 'training_logs'\n",
    "os.makedirs(save_folder, exist_ok=True)\n"
   ]
  },
  {
   "cell_type": "markdown",
   "metadata": {},
   "source": [
    "## Training Loop"
   ]
  },
  {
   "cell_type": "code",
   "execution_count": null,
   "metadata": {},
   "outputs": [],
   "source": [
    "# Define the training function\n",
    "def train(model, train_data, val_data, epochs):\n",
    "    # Prepare datasets and data loaders\n",
    "    train, val = Dataset(train_data), Dataset(val_data)\n",
    "    train_dataloader = torch.utils.data.DataLoader(train, batch_size=2, shuffle=True)\n",
    "    val_dataloader = torch.utils.data.DataLoader(val, batch_size=2)\n",
    "    \n",
    "    train_losses = []\n",
    "    val_losses = []\n",
    "\n",
    "    # Training over the specified number of epochs\n",
    "    for epoch_num in range(epochs):\n",
    "        total_acc_train = 0\n",
    "        total_loss_train = 0\n",
    "        \n",
    "        model.train()  # Set the model to training mode\n",
    "        for train_input, train_label in tqdm(train_dataloader, desc=f'Epoch {epoch_num+1} Training'):\n",
    "            train_label = train_label.to(device)\n",
    "            mask = train_input['attention_mask'].to(device)\n",
    "            input_id = train_input[\"input_ids\"].squeeze(1).to(device)\n",
    "            \n",
    "            model.zero_grad()  # Zero the gradients\n",
    "\n",
    "            output = model(input_id, mask)  # Forward pass\n",
    "            \n",
    "            batch_loss = criterion(output, train_label)  # Compute loss\n",
    "            total_loss_train += batch_loss.item()\n",
    "            \n",
    "            acc = (output.argmax(dim=1) == train_label).sum().item()  # Calculate accuracy\n",
    "            total_acc_train += acc\n",
    "\n",
    "            batch_loss.backward()  # Backpropagation\n",
    "            optimizer.step()  # Update model parameters\n",
    "        \n",
    "        # Record training loss\n",
    "        train_losses.append(total_loss_train / len(train_data))\n",
    "        \n",
    "        # Validation phase\n",
    "        total_acc_val = 0\n",
    "        total_loss_val = 0\n",
    "        \n",
    "        model.eval()  # Set the model to evaluation mode\n",
    "        with torch.no_grad():  # No need to track gradients\n",
    "            for val_input, val_label in tqdm(val_dataloader, desc=f'Epoch {epoch_num+1} Validation'):\n",
    "                val_label = val_label.to(device)\n",
    "                mask = val_input['attention_mask'].to(device)\n",
    "                input_id = val_input['input_ids'].squeeze(1).to(device)\n",
    "                \n",
    "                output = model(input_id, mask)  # Forward pass\n",
    "                \n",
    "                batch_loss = criterion(output, val_label)  # Compute loss\n",
    "                total_loss_val += batch_loss.item()\n",
    "                \n",
    "                acc = (output.argmax(dim=1) == val_label).sum().item()  # Calculate accuracy\n",
    "                total_acc_val += acc\n",
    "\n",
    "            # Record validation loss\n",
    "            val_losses.append(total_loss_val / len(val_data))\n",
    "\n",
    "            # Print training and validation statistics\n",
    "            print(\n",
    "                f\"Epochs: {epoch_num + 1} | Train Loss: {train_losses[-1]: .3f} \\\n",
    "                | Train Accuracy: {total_acc_train / len(train_data): .3f} \\\n",
    "                | Val Loss: {val_losses[-1]: .3f} \\\n",
    "                | Val Accuracy: {total_acc_val / len(val_data): .3f}\")\n",
    "\n",
    "        # Save model checkpoint\n",
    "        torch.save(model.state_dict(), os.path.join(save_folder, f'model_epoch_{epoch_num+1}.pt'))\n",
    "        \n",
    "    # Save loss data to a file\n",
    "    with open(os.path.join(save_folder, 'losses.txt'), 'w') as f:\n",
    "        for i in range(epochs):\n",
    "            f.write(f'Epoch {i+1}, Train Loss: {train_losses[i]}, Val Loss: {val_losses[i]}\\n')\n",
    "\n",
    "# Call the training function\n",
    "train(model, df_train, df_val, EPOCHS)\n"
   ]
  },
  {
   "cell_type": "markdown",
   "metadata": {},
   "source": [
    "## Evaluation and Testing\n"
   ]
  },
  {
   "cell_type": "code",
   "execution_count": null,
   "metadata": {},
   "outputs": [],
   "source": [
    "from sklearn.metrics import accuracy_score, recall_score, f1_score, precision_score, confusion_matrix, ConfusionMatrixDisplay, classification_report\n",
    "\n",
    "# Define the testing function\n",
    "def test(model, test_data):\n",
    "    # Create a dataset and dataloader for the test data\n",
    "    test_dataset = Dataset(test_data)\n",
    "    test_dataloader = torch.utils.data.DataLoader(test_dataset, batch_size=2)\n",
    "    \n",
    "    model.eval()  # Set the model to evaluation mode\n",
    "    \n",
    "    all_preds = []  # List to store all predictions\n",
    "    all_labels = []  # List to store all true labels\n",
    "\n",
    "    with torch.no_grad():  # No need to track gradients during testing\n",
    "        for test_input, test_label in tqdm(test_dataloader, desc='Testing'):\n",
    "            test_label = test_label.to(device)  # Move labels to device (CPU/GPU)\n",
    "            mask = test_input['attention_mask'].to(device)  # Move attention mask to device\n",
    "            input_id = test_input['input_ids'].squeeze(1).to(device)  # Move input IDs to device\n",
    "            \n",
    "            output = model(input_id, mask)  # Forward pass to get model predictions\n",
    "            \n",
    "            preds = output.argmax(dim=1)  # Get predicted class\n",
    "            all_preds.extend(preds.cpu().numpy())  # Store predictions\n",
    "            all_labels.extend(test_label.cpu().numpy())  # Store true labels\n",
    "    \n",
    "    # Calculate evaluation metrics\n",
    "    accuracy = accuracy_score(all_labels, all_preds)  # Calculate accuracy\n",
    "    recall = recall_score(all_labels, all_preds, average='weighted')  # Calculate recall\n",
    "    f1 = f1_score(all_labels, all_preds, average='weighted')  # Calculate F1 score\n",
    "    precision = precision_score(all_labels, all_preds, average='weighted')  # Calculate precision\n",
    "\n",
    "    # Print evaluation results\n",
    "    print(f'Accuracy: {accuracy:.3f}')\n",
    "    print(f'Recall: {recall:.3f}')\n",
    "    print(f'F1 Score: {f1:.3f}')\n",
    "    print(f'Precision: {precision:.3f}')\n",
    "    \n",
    "    # Print a detailed classification report\n",
    "    print(\"\\nClassification Report:\")\n",
    "    print(classification_report(all_labels, all_preds, target_names=unique_labels))  \n",
    "\n",
    "    return all_labels, all_preds  # Return true labels and predictions for further analysis\n",
    "\n",
    "# Call the test function to evaluate the model on the test dataset\n",
    "all_labels, all_preds = test(model, df_test)\n"
   ]
  },
  {
   "cell_type": "code",
   "execution_count": 53,
   "metadata": {},
   "outputs": [
    {
     "name": "stderr",
     "output_type": "stream",
     "text": [
      "Testing: 100%|██████████| 619/619 [00:29<00:00, 20.97it/s]"
     ]
    },
    {
     "name": "stdout",
     "output_type": "stream",
     "text": [
      "Accuracy: 0.834\n",
      "Recall: 0.834\n",
      "F1 Score: 0.831\n",
      "Precision: 0.840\n",
      "\n",
      "Classification Report:\n",
      "               precision    recall  f1-score   support\n",
      "\n",
      "         beer       0.95      0.89      0.92        93\n",
      "      spirits       0.94      0.90      0.92       115\n",
      "         wine       0.88      0.99      0.93       100\n",
      "        juice       0.94      0.95      0.95       103\n",
      "          tea       0.96      0.96      0.96        84\n",
      "         deli       0.64      0.71      0.68        97\n",
      "  baked goods       0.64      0.86      0.73        83\n",
      "        dairy       0.81      0.95      0.87       102\n",
      "         meat       0.90      0.83      0.86        95\n",
      "      seafood       0.85      0.86      0.85        71\n",
      "fresh produce       0.90      0.79      0.84       109\n",
      "  frozen food       0.79      0.48      0.60        93\n",
      "       pantry       0.67      0.65      0.66        93\n",
      "\n",
      "     accuracy                           0.83      1238\n",
      "    macro avg       0.84      0.83      0.83      1238\n",
      " weighted avg       0.84      0.83      0.83      1238\n",
      "\n"
     ]
    },
    {
     "name": "stderr",
     "output_type": "stream",
     "text": [
      "\n"
     ]
    }
   ],
   "source": [
    "model.load_state_dict(torch.load('gpt2_classifier.pth'),map_location=device)\n",
    "def test(model, test_data):\n",
    "    test_dataset = Dataset(test_data)\n",
    "    test_dataloader = torch.utils.data.DataLoader(test_dataset, batch_size=2)\n",
    "    \n",
    "    model.eval()\n",
    "    \n",
    "    all_preds = []\n",
    "    all_labels = []\n",
    "\n",
    "    with torch.no_grad():\n",
    "        for test_input, test_label in tqdm(test_dataloader, desc='Testing'):\n",
    "            test_label = test_label.to(device)\n",
    "            mask = test_input['attention_mask'].to(device)\n",
    "            input_id = test_input['input_ids'].squeeze(1).to(device)\n",
    "            \n",
    "            output = model(input_id, mask)\n",
    "            \n",
    "            preds = output.argmax(dim=1)\n",
    "            all_preds.extend(preds.cpu().numpy())\n",
    "            all_labels.extend(test_label.cpu().numpy())\n",
    "    \n",
    "    accuracy = accuracy_score(all_labels, all_preds)\n",
    "    recall = recall_score(all_labels, all_preds, average='weighted')\n",
    "    f1 = f1_score(all_labels, all_preds, average='weighted')\n",
    "    precision = precision_score(all_labels, all_preds, average='weighted')\n",
    "\n",
    "    print(f'Accuracy: {accuracy:.3f}')\n",
    "    print(f'Recall: {recall:.3f}')\n",
    "    print(f'F1 Score: {f1:.3f}')\n",
    "    print(f'Precision: {precision:.3f}')\n",
    "    \n",
    "    print(\"\\nClassification Report:\")\n",
    "    print(classification_report(all_labels, all_preds, target_names=unique_labels))  \n",
    "\n",
    "    return all_labels, all_preds\n",
    "\n",
    "all_labels, all_preds = test(model, df_test)\n"
   ]
  },
  {
   "cell_type": "code",
   "execution_count": 39,
   "metadata": {},
   "outputs": [
    {
     "data": {
      "application/vnd.plotly.v1+json": {
       "config": {
        "plotlyServerURL": "https://plot.ly"
       },
       "data": [
        {
         "colorbar": {
          "title": {
           "text": "Proportion"
          }
         },
         "colorscale": [
          [
           0,
           "#440154"
          ],
          [
           0.1111111111111111,
           "#482878"
          ],
          [
           0.2222222222222222,
           "#3e4989"
          ],
          [
           0.3333333333333333,
           "#31688e"
          ],
          [
           0.4444444444444444,
           "#26828e"
          ],
          [
           0.5555555555555556,
           "#1f9e89"
          ],
          [
           0.6666666666666666,
           "#35b779"
          ],
          [
           0.7777777777777778,
           "#6ece58"
          ],
          [
           0.8888888888888888,
           "#b5de2b"
          ],
          [
           1,
           "#fde725"
          ]
         ],
         "hoverongaps": false,
         "showscale": true,
         "type": "heatmap",
         "x": [
          0,
          1,
          2,
          3,
          4,
          5,
          6,
          7,
          8,
          9,
          10,
          11,
          12
         ],
         "y": [
          0,
          1,
          2,
          3,
          4,
          5,
          6,
          7,
          8,
          9,
          10,
          11,
          12
         ],
         "z": [
          [
           0.8924731182795699,
           0.043010752688172046,
           0.010752688172043012,
           0.03225806451612903,
           0,
           0,
           0.010752688172043012,
           0.010752688172043012,
           0,
           0,
           0,
           0,
           0
          ],
          [
           0.02608695652173913,
           0.8956521739130435,
           0.06956521739130435,
           0,
           0,
           0,
           0,
           0,
           0,
           0,
           0,
           0.008695652173913044,
           0
          ],
          [
           0,
           0.01,
           0.99,
           0,
           0,
           0,
           0,
           0,
           0,
           0,
           0,
           0,
           0
          ],
          [
           0,
           0,
           0.019417475728155338,
           0.9514563106796117,
           0.009708737864077669,
           0,
           0,
           0,
           0,
           0,
           0.009708737864077669,
           0,
           0.009708737864077669
          ],
          [
           0,
           0.011904761904761904,
           0,
           0,
           0.9642857142857143,
           0,
           0.011904761904761904,
           0.011904761904761904,
           0,
           0,
           0,
           0,
           0
          ],
          [
           0.010309278350515464,
           0,
           0,
           0,
           0,
           0.711340206185567,
           0.05154639175257732,
           0.061855670103092786,
           0.030927835051546393,
           0.041237113402061855,
           0.030927835051546393,
           0.010309278350515464,
           0.05154639175257732
          ],
          [
           0,
           0,
           0,
           0,
           0.012048192771084338,
           0,
           0.8554216867469879,
           0.03614457831325301,
           0,
           0.012048192771084338,
           0,
           0.012048192771084338,
           0.07228915662650602
          ],
          [
           0,
           0,
           0.00980392156862745,
           0.00980392156862745,
           0,
           0,
           0.0196078431372549,
           0.9509803921568627,
           0,
           0,
           0,
           0.00980392156862745,
           0
          ],
          [
           0,
           0,
           0,
           0,
           0,
           0.10526315789473684,
           0,
           0.010526315789473684,
           0.8315789473684211,
           0.010526315789473684,
           0.010526315789473684,
           0.031578947368421054,
           0
          ],
          [
           0,
           0,
           0,
           0,
           0.014084507042253521,
           0.04225352112676056,
           0.028169014084507043,
           0.014084507042253521,
           0,
           0.8591549295774648,
           0.014084507042253521,
           0.014084507042253521,
           0.014084507042253521
          ],
          [
           0,
           0,
           0,
           0.009174311926605505,
           0,
           0.027522935779816515,
           0.027522935779816515,
           0.009174311926605505,
           0.01834862385321101,
           0.009174311926605505,
           0.7889908256880734,
           0.027522935779816515,
           0.08256880733944955
          ],
          [
           0,
           0,
           0.010752688172043012,
           0,
           0,
           0.13978494623655913,
           0.15053763440860216,
           0.043010752688172046,
           0.043010752688172046,
           0.03225806451612903,
           0.010752688172043012,
           0.4838709677419355,
           0.08602150537634409
          ],
          [
           0,
           0.010752688172043012,
           0,
           0.010752688172043012,
           0,
           0.0967741935483871,
           0.12903225806451613,
           0.053763440860215055,
           0,
           0.010752688172043012,
           0.03225806451612903,
           0.010752688172043012,
           0.6451612903225806
          ]
         ],
         "zmax": 1,
         "zmin": 0
        }
       ],
       "layout": {
        "annotations": [
         {
          "font": {
           "color": "white",
           "size": 12
          },
          "showarrow": false,
          "text": "0.89",
          "x": 0,
          "y": 0
         },
         {
          "font": {
           "color": "black",
           "size": 12
          },
          "showarrow": false,
          "text": "0.04",
          "x": 1,
          "y": 0
         },
         {
          "font": {
           "color": "black",
           "size": 12
          },
          "showarrow": false,
          "text": "0.01",
          "x": 2,
          "y": 0
         },
         {
          "font": {
           "color": "black",
           "size": 12
          },
          "showarrow": false,
          "text": "0.03",
          "x": 3,
          "y": 0
         },
         {
          "font": {
           "color": "black",
           "size": 12
          },
          "showarrow": false,
          "text": "0.00",
          "x": 4,
          "y": 0
         },
         {
          "font": {
           "color": "black",
           "size": 12
          },
          "showarrow": false,
          "text": "0.00",
          "x": 5,
          "y": 0
         },
         {
          "font": {
           "color": "black",
           "size": 12
          },
          "showarrow": false,
          "text": "0.01",
          "x": 6,
          "y": 0
         },
         {
          "font": {
           "color": "black",
           "size": 12
          },
          "showarrow": false,
          "text": "0.01",
          "x": 7,
          "y": 0
         },
         {
          "font": {
           "color": "black",
           "size": 12
          },
          "showarrow": false,
          "text": "0.00",
          "x": 8,
          "y": 0
         },
         {
          "font": {
           "color": "black",
           "size": 12
          },
          "showarrow": false,
          "text": "0.00",
          "x": 9,
          "y": 0
         },
         {
          "font": {
           "color": "black",
           "size": 12
          },
          "showarrow": false,
          "text": "0.00",
          "x": 10,
          "y": 0
         },
         {
          "font": {
           "color": "black",
           "size": 12
          },
          "showarrow": false,
          "text": "0.00",
          "x": 11,
          "y": 0
         },
         {
          "font": {
           "color": "black",
           "size": 12
          },
          "showarrow": false,
          "text": "0.00",
          "x": 12,
          "y": 0
         },
         {
          "font": {
           "color": "black",
           "size": 12
          },
          "showarrow": false,
          "text": "0.03",
          "x": 0,
          "y": 1
         },
         {
          "font": {
           "color": "white",
           "size": 12
          },
          "showarrow": false,
          "text": "0.90",
          "x": 1,
          "y": 1
         },
         {
          "font": {
           "color": "black",
           "size": 12
          },
          "showarrow": false,
          "text": "0.07",
          "x": 2,
          "y": 1
         },
         {
          "font": {
           "color": "black",
           "size": 12
          },
          "showarrow": false,
          "text": "0.00",
          "x": 3,
          "y": 1
         },
         {
          "font": {
           "color": "black",
           "size": 12
          },
          "showarrow": false,
          "text": "0.00",
          "x": 4,
          "y": 1
         },
         {
          "font": {
           "color": "black",
           "size": 12
          },
          "showarrow": false,
          "text": "0.00",
          "x": 5,
          "y": 1
         },
         {
          "font": {
           "color": "black",
           "size": 12
          },
          "showarrow": false,
          "text": "0.00",
          "x": 6,
          "y": 1
         },
         {
          "font": {
           "color": "black",
           "size": 12
          },
          "showarrow": false,
          "text": "0.00",
          "x": 7,
          "y": 1
         },
         {
          "font": {
           "color": "black",
           "size": 12
          },
          "showarrow": false,
          "text": "0.00",
          "x": 8,
          "y": 1
         },
         {
          "font": {
           "color": "black",
           "size": 12
          },
          "showarrow": false,
          "text": "0.00",
          "x": 9,
          "y": 1
         },
         {
          "font": {
           "color": "black",
           "size": 12
          },
          "showarrow": false,
          "text": "0.00",
          "x": 10,
          "y": 1
         },
         {
          "font": {
           "color": "black",
           "size": 12
          },
          "showarrow": false,
          "text": "0.01",
          "x": 11,
          "y": 1
         },
         {
          "font": {
           "color": "black",
           "size": 12
          },
          "showarrow": false,
          "text": "0.00",
          "x": 12,
          "y": 1
         },
         {
          "font": {
           "color": "black",
           "size": 12
          },
          "showarrow": false,
          "text": "0.00",
          "x": 0,
          "y": 2
         },
         {
          "font": {
           "color": "black",
           "size": 12
          },
          "showarrow": false,
          "text": "0.01",
          "x": 1,
          "y": 2
         },
         {
          "font": {
           "color": "white",
           "size": 12
          },
          "showarrow": false,
          "text": "0.99",
          "x": 2,
          "y": 2
         },
         {
          "font": {
           "color": "black",
           "size": 12
          },
          "showarrow": false,
          "text": "0.00",
          "x": 3,
          "y": 2
         },
         {
          "font": {
           "color": "black",
           "size": 12
          },
          "showarrow": false,
          "text": "0.00",
          "x": 4,
          "y": 2
         },
         {
          "font": {
           "color": "black",
           "size": 12
          },
          "showarrow": false,
          "text": "0.00",
          "x": 5,
          "y": 2
         },
         {
          "font": {
           "color": "black",
           "size": 12
          },
          "showarrow": false,
          "text": "0.00",
          "x": 6,
          "y": 2
         },
         {
          "font": {
           "color": "black",
           "size": 12
          },
          "showarrow": false,
          "text": "0.00",
          "x": 7,
          "y": 2
         },
         {
          "font": {
           "color": "black",
           "size": 12
          },
          "showarrow": false,
          "text": "0.00",
          "x": 8,
          "y": 2
         },
         {
          "font": {
           "color": "black",
           "size": 12
          },
          "showarrow": false,
          "text": "0.00",
          "x": 9,
          "y": 2
         },
         {
          "font": {
           "color": "black",
           "size": 12
          },
          "showarrow": false,
          "text": "0.00",
          "x": 10,
          "y": 2
         },
         {
          "font": {
           "color": "black",
           "size": 12
          },
          "showarrow": false,
          "text": "0.00",
          "x": 11,
          "y": 2
         },
         {
          "font": {
           "color": "black",
           "size": 12
          },
          "showarrow": false,
          "text": "0.00",
          "x": 12,
          "y": 2
         },
         {
          "font": {
           "color": "black",
           "size": 12
          },
          "showarrow": false,
          "text": "0.00",
          "x": 0,
          "y": 3
         },
         {
          "font": {
           "color": "black",
           "size": 12
          },
          "showarrow": false,
          "text": "0.00",
          "x": 1,
          "y": 3
         },
         {
          "font": {
           "color": "black",
           "size": 12
          },
          "showarrow": false,
          "text": "0.02",
          "x": 2,
          "y": 3
         },
         {
          "font": {
           "color": "white",
           "size": 12
          },
          "showarrow": false,
          "text": "0.95",
          "x": 3,
          "y": 3
         },
         {
          "font": {
           "color": "black",
           "size": 12
          },
          "showarrow": false,
          "text": "0.01",
          "x": 4,
          "y": 3
         },
         {
          "font": {
           "color": "black",
           "size": 12
          },
          "showarrow": false,
          "text": "0.00",
          "x": 5,
          "y": 3
         },
         {
          "font": {
           "color": "black",
           "size": 12
          },
          "showarrow": false,
          "text": "0.00",
          "x": 6,
          "y": 3
         },
         {
          "font": {
           "color": "black",
           "size": 12
          },
          "showarrow": false,
          "text": "0.00",
          "x": 7,
          "y": 3
         },
         {
          "font": {
           "color": "black",
           "size": 12
          },
          "showarrow": false,
          "text": "0.00",
          "x": 8,
          "y": 3
         },
         {
          "font": {
           "color": "black",
           "size": 12
          },
          "showarrow": false,
          "text": "0.00",
          "x": 9,
          "y": 3
         },
         {
          "font": {
           "color": "black",
           "size": 12
          },
          "showarrow": false,
          "text": "0.01",
          "x": 10,
          "y": 3
         },
         {
          "font": {
           "color": "black",
           "size": 12
          },
          "showarrow": false,
          "text": "0.00",
          "x": 11,
          "y": 3
         },
         {
          "font": {
           "color": "black",
           "size": 12
          },
          "showarrow": false,
          "text": "0.01",
          "x": 12,
          "y": 3
         },
         {
          "font": {
           "color": "black",
           "size": 12
          },
          "showarrow": false,
          "text": "0.00",
          "x": 0,
          "y": 4
         },
         {
          "font": {
           "color": "black",
           "size": 12
          },
          "showarrow": false,
          "text": "0.01",
          "x": 1,
          "y": 4
         },
         {
          "font": {
           "color": "black",
           "size": 12
          },
          "showarrow": false,
          "text": "0.00",
          "x": 2,
          "y": 4
         },
         {
          "font": {
           "color": "black",
           "size": 12
          },
          "showarrow": false,
          "text": "0.00",
          "x": 3,
          "y": 4
         },
         {
          "font": {
           "color": "white",
           "size": 12
          },
          "showarrow": false,
          "text": "0.96",
          "x": 4,
          "y": 4
         },
         {
          "font": {
           "color": "black",
           "size": 12
          },
          "showarrow": false,
          "text": "0.00",
          "x": 5,
          "y": 4
         },
         {
          "font": {
           "color": "black",
           "size": 12
          },
          "showarrow": false,
          "text": "0.01",
          "x": 6,
          "y": 4
         },
         {
          "font": {
           "color": "black",
           "size": 12
          },
          "showarrow": false,
          "text": "0.01",
          "x": 7,
          "y": 4
         },
         {
          "font": {
           "color": "black",
           "size": 12
          },
          "showarrow": false,
          "text": "0.00",
          "x": 8,
          "y": 4
         },
         {
          "font": {
           "color": "black",
           "size": 12
          },
          "showarrow": false,
          "text": "0.00",
          "x": 9,
          "y": 4
         },
         {
          "font": {
           "color": "black",
           "size": 12
          },
          "showarrow": false,
          "text": "0.00",
          "x": 10,
          "y": 4
         },
         {
          "font": {
           "color": "black",
           "size": 12
          },
          "showarrow": false,
          "text": "0.00",
          "x": 11,
          "y": 4
         },
         {
          "font": {
           "color": "black",
           "size": 12
          },
          "showarrow": false,
          "text": "0.00",
          "x": 12,
          "y": 4
         },
         {
          "font": {
           "color": "black",
           "size": 12
          },
          "showarrow": false,
          "text": "0.01",
          "x": 0,
          "y": 5
         },
         {
          "font": {
           "color": "black",
           "size": 12
          },
          "showarrow": false,
          "text": "0.00",
          "x": 1,
          "y": 5
         },
         {
          "font": {
           "color": "black",
           "size": 12
          },
          "showarrow": false,
          "text": "0.00",
          "x": 2,
          "y": 5
         },
         {
          "font": {
           "color": "black",
           "size": 12
          },
          "showarrow": false,
          "text": "0.00",
          "x": 3,
          "y": 5
         },
         {
          "font": {
           "color": "black",
           "size": 12
          },
          "showarrow": false,
          "text": "0.00",
          "x": 4,
          "y": 5
         },
         {
          "font": {
           "color": "white",
           "size": 12
          },
          "showarrow": false,
          "text": "0.71",
          "x": 5,
          "y": 5
         },
         {
          "font": {
           "color": "black",
           "size": 12
          },
          "showarrow": false,
          "text": "0.05",
          "x": 6,
          "y": 5
         },
         {
          "font": {
           "color": "black",
           "size": 12
          },
          "showarrow": false,
          "text": "0.06",
          "x": 7,
          "y": 5
         },
         {
          "font": {
           "color": "black",
           "size": 12
          },
          "showarrow": false,
          "text": "0.03",
          "x": 8,
          "y": 5
         },
         {
          "font": {
           "color": "black",
           "size": 12
          },
          "showarrow": false,
          "text": "0.04",
          "x": 9,
          "y": 5
         },
         {
          "font": {
           "color": "black",
           "size": 12
          },
          "showarrow": false,
          "text": "0.03",
          "x": 10,
          "y": 5
         },
         {
          "font": {
           "color": "black",
           "size": 12
          },
          "showarrow": false,
          "text": "0.01",
          "x": 11,
          "y": 5
         },
         {
          "font": {
           "color": "black",
           "size": 12
          },
          "showarrow": false,
          "text": "0.05",
          "x": 12,
          "y": 5
         },
         {
          "font": {
           "color": "black",
           "size": 12
          },
          "showarrow": false,
          "text": "0.00",
          "x": 0,
          "y": 6
         },
         {
          "font": {
           "color": "black",
           "size": 12
          },
          "showarrow": false,
          "text": "0.00",
          "x": 1,
          "y": 6
         },
         {
          "font": {
           "color": "black",
           "size": 12
          },
          "showarrow": false,
          "text": "0.00",
          "x": 2,
          "y": 6
         },
         {
          "font": {
           "color": "black",
           "size": 12
          },
          "showarrow": false,
          "text": "0.00",
          "x": 3,
          "y": 6
         },
         {
          "font": {
           "color": "black",
           "size": 12
          },
          "showarrow": false,
          "text": "0.01",
          "x": 4,
          "y": 6
         },
         {
          "font": {
           "color": "black",
           "size": 12
          },
          "showarrow": false,
          "text": "0.00",
          "x": 5,
          "y": 6
         },
         {
          "font": {
           "color": "white",
           "size": 12
          },
          "showarrow": false,
          "text": "0.86",
          "x": 6,
          "y": 6
         },
         {
          "font": {
           "color": "black",
           "size": 12
          },
          "showarrow": false,
          "text": "0.04",
          "x": 7,
          "y": 6
         },
         {
          "font": {
           "color": "black",
           "size": 12
          },
          "showarrow": false,
          "text": "0.00",
          "x": 8,
          "y": 6
         },
         {
          "font": {
           "color": "black",
           "size": 12
          },
          "showarrow": false,
          "text": "0.01",
          "x": 9,
          "y": 6
         },
         {
          "font": {
           "color": "black",
           "size": 12
          },
          "showarrow": false,
          "text": "0.00",
          "x": 10,
          "y": 6
         },
         {
          "font": {
           "color": "black",
           "size": 12
          },
          "showarrow": false,
          "text": "0.01",
          "x": 11,
          "y": 6
         },
         {
          "font": {
           "color": "black",
           "size": 12
          },
          "showarrow": false,
          "text": "0.07",
          "x": 12,
          "y": 6
         },
         {
          "font": {
           "color": "black",
           "size": 12
          },
          "showarrow": false,
          "text": "0.00",
          "x": 0,
          "y": 7
         },
         {
          "font": {
           "color": "black",
           "size": 12
          },
          "showarrow": false,
          "text": "0.00",
          "x": 1,
          "y": 7
         },
         {
          "font": {
           "color": "black",
           "size": 12
          },
          "showarrow": false,
          "text": "0.01",
          "x": 2,
          "y": 7
         },
         {
          "font": {
           "color": "black",
           "size": 12
          },
          "showarrow": false,
          "text": "0.01",
          "x": 3,
          "y": 7
         },
         {
          "font": {
           "color": "black",
           "size": 12
          },
          "showarrow": false,
          "text": "0.00",
          "x": 4,
          "y": 7
         },
         {
          "font": {
           "color": "black",
           "size": 12
          },
          "showarrow": false,
          "text": "0.00",
          "x": 5,
          "y": 7
         },
         {
          "font": {
           "color": "black",
           "size": 12
          },
          "showarrow": false,
          "text": "0.02",
          "x": 6,
          "y": 7
         },
         {
          "font": {
           "color": "white",
           "size": 12
          },
          "showarrow": false,
          "text": "0.95",
          "x": 7,
          "y": 7
         },
         {
          "font": {
           "color": "black",
           "size": 12
          },
          "showarrow": false,
          "text": "0.00",
          "x": 8,
          "y": 7
         },
         {
          "font": {
           "color": "black",
           "size": 12
          },
          "showarrow": false,
          "text": "0.00",
          "x": 9,
          "y": 7
         },
         {
          "font": {
           "color": "black",
           "size": 12
          },
          "showarrow": false,
          "text": "0.00",
          "x": 10,
          "y": 7
         },
         {
          "font": {
           "color": "black",
           "size": 12
          },
          "showarrow": false,
          "text": "0.01",
          "x": 11,
          "y": 7
         },
         {
          "font": {
           "color": "black",
           "size": 12
          },
          "showarrow": false,
          "text": "0.00",
          "x": 12,
          "y": 7
         },
         {
          "font": {
           "color": "black",
           "size": 12
          },
          "showarrow": false,
          "text": "0.00",
          "x": 0,
          "y": 8
         },
         {
          "font": {
           "color": "black",
           "size": 12
          },
          "showarrow": false,
          "text": "0.00",
          "x": 1,
          "y": 8
         },
         {
          "font": {
           "color": "black",
           "size": 12
          },
          "showarrow": false,
          "text": "0.00",
          "x": 2,
          "y": 8
         },
         {
          "font": {
           "color": "black",
           "size": 12
          },
          "showarrow": false,
          "text": "0.00",
          "x": 3,
          "y": 8
         },
         {
          "font": {
           "color": "black",
           "size": 12
          },
          "showarrow": false,
          "text": "0.00",
          "x": 4,
          "y": 8
         },
         {
          "font": {
           "color": "black",
           "size": 12
          },
          "showarrow": false,
          "text": "0.11",
          "x": 5,
          "y": 8
         },
         {
          "font": {
           "color": "black",
           "size": 12
          },
          "showarrow": false,
          "text": "0.00",
          "x": 6,
          "y": 8
         },
         {
          "font": {
           "color": "black",
           "size": 12
          },
          "showarrow": false,
          "text": "0.01",
          "x": 7,
          "y": 8
         },
         {
          "font": {
           "color": "white",
           "size": 12
          },
          "showarrow": false,
          "text": "0.83",
          "x": 8,
          "y": 8
         },
         {
          "font": {
           "color": "black",
           "size": 12
          },
          "showarrow": false,
          "text": "0.01",
          "x": 9,
          "y": 8
         },
         {
          "font": {
           "color": "black",
           "size": 12
          },
          "showarrow": false,
          "text": "0.01",
          "x": 10,
          "y": 8
         },
         {
          "font": {
           "color": "black",
           "size": 12
          },
          "showarrow": false,
          "text": "0.03",
          "x": 11,
          "y": 8
         },
         {
          "font": {
           "color": "black",
           "size": 12
          },
          "showarrow": false,
          "text": "0.00",
          "x": 12,
          "y": 8
         },
         {
          "font": {
           "color": "black",
           "size": 12
          },
          "showarrow": false,
          "text": "0.00",
          "x": 0,
          "y": 9
         },
         {
          "font": {
           "color": "black",
           "size": 12
          },
          "showarrow": false,
          "text": "0.00",
          "x": 1,
          "y": 9
         },
         {
          "font": {
           "color": "black",
           "size": 12
          },
          "showarrow": false,
          "text": "0.00",
          "x": 2,
          "y": 9
         },
         {
          "font": {
           "color": "black",
           "size": 12
          },
          "showarrow": false,
          "text": "0.00",
          "x": 3,
          "y": 9
         },
         {
          "font": {
           "color": "black",
           "size": 12
          },
          "showarrow": false,
          "text": "0.01",
          "x": 4,
          "y": 9
         },
         {
          "font": {
           "color": "black",
           "size": 12
          },
          "showarrow": false,
          "text": "0.04",
          "x": 5,
          "y": 9
         },
         {
          "font": {
           "color": "black",
           "size": 12
          },
          "showarrow": false,
          "text": "0.03",
          "x": 6,
          "y": 9
         },
         {
          "font": {
           "color": "black",
           "size": 12
          },
          "showarrow": false,
          "text": "0.01",
          "x": 7,
          "y": 9
         },
         {
          "font": {
           "color": "black",
           "size": 12
          },
          "showarrow": false,
          "text": "0.00",
          "x": 8,
          "y": 9
         },
         {
          "font": {
           "color": "white",
           "size": 12
          },
          "showarrow": false,
          "text": "0.86",
          "x": 9,
          "y": 9
         },
         {
          "font": {
           "color": "black",
           "size": 12
          },
          "showarrow": false,
          "text": "0.01",
          "x": 10,
          "y": 9
         },
         {
          "font": {
           "color": "black",
           "size": 12
          },
          "showarrow": false,
          "text": "0.01",
          "x": 11,
          "y": 9
         },
         {
          "font": {
           "color": "black",
           "size": 12
          },
          "showarrow": false,
          "text": "0.01",
          "x": 12,
          "y": 9
         },
         {
          "font": {
           "color": "black",
           "size": 12
          },
          "showarrow": false,
          "text": "0.00",
          "x": 0,
          "y": 10
         },
         {
          "font": {
           "color": "black",
           "size": 12
          },
          "showarrow": false,
          "text": "0.00",
          "x": 1,
          "y": 10
         },
         {
          "font": {
           "color": "black",
           "size": 12
          },
          "showarrow": false,
          "text": "0.00",
          "x": 2,
          "y": 10
         },
         {
          "font": {
           "color": "black",
           "size": 12
          },
          "showarrow": false,
          "text": "0.01",
          "x": 3,
          "y": 10
         },
         {
          "font": {
           "color": "black",
           "size": 12
          },
          "showarrow": false,
          "text": "0.00",
          "x": 4,
          "y": 10
         },
         {
          "font": {
           "color": "black",
           "size": 12
          },
          "showarrow": false,
          "text": "0.03",
          "x": 5,
          "y": 10
         },
         {
          "font": {
           "color": "black",
           "size": 12
          },
          "showarrow": false,
          "text": "0.03",
          "x": 6,
          "y": 10
         },
         {
          "font": {
           "color": "black",
           "size": 12
          },
          "showarrow": false,
          "text": "0.01",
          "x": 7,
          "y": 10
         },
         {
          "font": {
           "color": "black",
           "size": 12
          },
          "showarrow": false,
          "text": "0.02",
          "x": 8,
          "y": 10
         },
         {
          "font": {
           "color": "black",
           "size": 12
          },
          "showarrow": false,
          "text": "0.01",
          "x": 9,
          "y": 10
         },
         {
          "font": {
           "color": "white",
           "size": 12
          },
          "showarrow": false,
          "text": "0.79",
          "x": 10,
          "y": 10
         },
         {
          "font": {
           "color": "black",
           "size": 12
          },
          "showarrow": false,
          "text": "0.03",
          "x": 11,
          "y": 10
         },
         {
          "font": {
           "color": "black",
           "size": 12
          },
          "showarrow": false,
          "text": "0.08",
          "x": 12,
          "y": 10
         },
         {
          "font": {
           "color": "black",
           "size": 12
          },
          "showarrow": false,
          "text": "0.00",
          "x": 0,
          "y": 11
         },
         {
          "font": {
           "color": "black",
           "size": 12
          },
          "showarrow": false,
          "text": "0.00",
          "x": 1,
          "y": 11
         },
         {
          "font": {
           "color": "black",
           "size": 12
          },
          "showarrow": false,
          "text": "0.01",
          "x": 2,
          "y": 11
         },
         {
          "font": {
           "color": "black",
           "size": 12
          },
          "showarrow": false,
          "text": "0.00",
          "x": 3,
          "y": 11
         },
         {
          "font": {
           "color": "black",
           "size": 12
          },
          "showarrow": false,
          "text": "0.00",
          "x": 4,
          "y": 11
         },
         {
          "font": {
           "color": "black",
           "size": 12
          },
          "showarrow": false,
          "text": "0.14",
          "x": 5,
          "y": 11
         },
         {
          "font": {
           "color": "black",
           "size": 12
          },
          "showarrow": false,
          "text": "0.15",
          "x": 6,
          "y": 11
         },
         {
          "font": {
           "color": "black",
           "size": 12
          },
          "showarrow": false,
          "text": "0.04",
          "x": 7,
          "y": 11
         },
         {
          "font": {
           "color": "black",
           "size": 12
          },
          "showarrow": false,
          "text": "0.04",
          "x": 8,
          "y": 11
         },
         {
          "font": {
           "color": "black",
           "size": 12
          },
          "showarrow": false,
          "text": "0.03",
          "x": 9,
          "y": 11
         },
         {
          "font": {
           "color": "black",
           "size": 12
          },
          "showarrow": false,
          "text": "0.01",
          "x": 10,
          "y": 11
         },
         {
          "font": {
           "color": "black",
           "size": 12
          },
          "showarrow": false,
          "text": "0.48",
          "x": 11,
          "y": 11
         },
         {
          "font": {
           "color": "black",
           "size": 12
          },
          "showarrow": false,
          "text": "0.09",
          "x": 12,
          "y": 11
         },
         {
          "font": {
           "color": "black",
           "size": 12
          },
          "showarrow": false,
          "text": "0.00",
          "x": 0,
          "y": 12
         },
         {
          "font": {
           "color": "black",
           "size": 12
          },
          "showarrow": false,
          "text": "0.01",
          "x": 1,
          "y": 12
         },
         {
          "font": {
           "color": "black",
           "size": 12
          },
          "showarrow": false,
          "text": "0.00",
          "x": 2,
          "y": 12
         },
         {
          "font": {
           "color": "black",
           "size": 12
          },
          "showarrow": false,
          "text": "0.01",
          "x": 3,
          "y": 12
         },
         {
          "font": {
           "color": "black",
           "size": 12
          },
          "showarrow": false,
          "text": "0.00",
          "x": 4,
          "y": 12
         },
         {
          "font": {
           "color": "black",
           "size": 12
          },
          "showarrow": false,
          "text": "0.10",
          "x": 5,
          "y": 12
         },
         {
          "font": {
           "color": "black",
           "size": 12
          },
          "showarrow": false,
          "text": "0.13",
          "x": 6,
          "y": 12
         },
         {
          "font": {
           "color": "black",
           "size": 12
          },
          "showarrow": false,
          "text": "0.05",
          "x": 7,
          "y": 12
         },
         {
          "font": {
           "color": "black",
           "size": 12
          },
          "showarrow": false,
          "text": "0.00",
          "x": 8,
          "y": 12
         },
         {
          "font": {
           "color": "black",
           "size": 12
          },
          "showarrow": false,
          "text": "0.01",
          "x": 9,
          "y": 12
         },
         {
          "font": {
           "color": "black",
           "size": 12
          },
          "showarrow": false,
          "text": "0.03",
          "x": 10,
          "y": 12
         },
         {
          "font": {
           "color": "black",
           "size": 12
          },
          "showarrow": false,
          "text": "0.01",
          "x": 11,
          "y": 12
         },
         {
          "font": {
           "color": "white",
           "size": 12
          },
          "showarrow": false,
          "text": "0.65",
          "x": 12,
          "y": 12
         }
        ],
        "autosize": false,
        "height": 800,
        "margin": {
         "b": 100,
         "l": 100,
         "r": 100,
         "t": 100
        },
        "template": {
         "data": {
          "bar": [
           {
            "error_x": {
             "color": "#2a3f5f"
            },
            "error_y": {
             "color": "#2a3f5f"
            },
            "marker": {
             "line": {
              "color": "#E5ECF6",
              "width": 0.5
             },
             "pattern": {
              "fillmode": "overlay",
              "size": 10,
              "solidity": 0.2
             }
            },
            "type": "bar"
           }
          ],
          "barpolar": [
           {
            "marker": {
             "line": {
              "color": "#E5ECF6",
              "width": 0.5
             },
             "pattern": {
              "fillmode": "overlay",
              "size": 10,
              "solidity": 0.2
             }
            },
            "type": "barpolar"
           }
          ],
          "carpet": [
           {
            "aaxis": {
             "endlinecolor": "#2a3f5f",
             "gridcolor": "white",
             "linecolor": "white",
             "minorgridcolor": "white",
             "startlinecolor": "#2a3f5f"
            },
            "baxis": {
             "endlinecolor": "#2a3f5f",
             "gridcolor": "white",
             "linecolor": "white",
             "minorgridcolor": "white",
             "startlinecolor": "#2a3f5f"
            },
            "type": "carpet"
           }
          ],
          "choropleth": [
           {
            "colorbar": {
             "outlinewidth": 0,
             "ticks": ""
            },
            "type": "choropleth"
           }
          ],
          "contour": [
           {
            "colorbar": {
             "outlinewidth": 0,
             "ticks": ""
            },
            "colorscale": [
             [
              0,
              "#0d0887"
             ],
             [
              0.1111111111111111,
              "#46039f"
             ],
             [
              0.2222222222222222,
              "#7201a8"
             ],
             [
              0.3333333333333333,
              "#9c179e"
             ],
             [
              0.4444444444444444,
              "#bd3786"
             ],
             [
              0.5555555555555556,
              "#d8576b"
             ],
             [
              0.6666666666666666,
              "#ed7953"
             ],
             [
              0.7777777777777778,
              "#fb9f3a"
             ],
             [
              0.8888888888888888,
              "#fdca26"
             ],
             [
              1,
              "#f0f921"
             ]
            ],
            "type": "contour"
           }
          ],
          "contourcarpet": [
           {
            "colorbar": {
             "outlinewidth": 0,
             "ticks": ""
            },
            "type": "contourcarpet"
           }
          ],
          "heatmap": [
           {
            "colorbar": {
             "outlinewidth": 0,
             "ticks": ""
            },
            "colorscale": [
             [
              0,
              "#0d0887"
             ],
             [
              0.1111111111111111,
              "#46039f"
             ],
             [
              0.2222222222222222,
              "#7201a8"
             ],
             [
              0.3333333333333333,
              "#9c179e"
             ],
             [
              0.4444444444444444,
              "#bd3786"
             ],
             [
              0.5555555555555556,
              "#d8576b"
             ],
             [
              0.6666666666666666,
              "#ed7953"
             ],
             [
              0.7777777777777778,
              "#fb9f3a"
             ],
             [
              0.8888888888888888,
              "#fdca26"
             ],
             [
              1,
              "#f0f921"
             ]
            ],
            "type": "heatmap"
           }
          ],
          "heatmapgl": [
           {
            "colorbar": {
             "outlinewidth": 0,
             "ticks": ""
            },
            "colorscale": [
             [
              0,
              "#0d0887"
             ],
             [
              0.1111111111111111,
              "#46039f"
             ],
             [
              0.2222222222222222,
              "#7201a8"
             ],
             [
              0.3333333333333333,
              "#9c179e"
             ],
             [
              0.4444444444444444,
              "#bd3786"
             ],
             [
              0.5555555555555556,
              "#d8576b"
             ],
             [
              0.6666666666666666,
              "#ed7953"
             ],
             [
              0.7777777777777778,
              "#fb9f3a"
             ],
             [
              0.8888888888888888,
              "#fdca26"
             ],
             [
              1,
              "#f0f921"
             ]
            ],
            "type": "heatmapgl"
           }
          ],
          "histogram": [
           {
            "marker": {
             "pattern": {
              "fillmode": "overlay",
              "size": 10,
              "solidity": 0.2
             }
            },
            "type": "histogram"
           }
          ],
          "histogram2d": [
           {
            "colorbar": {
             "outlinewidth": 0,
             "ticks": ""
            },
            "colorscale": [
             [
              0,
              "#0d0887"
             ],
             [
              0.1111111111111111,
              "#46039f"
             ],
             [
              0.2222222222222222,
              "#7201a8"
             ],
             [
              0.3333333333333333,
              "#9c179e"
             ],
             [
              0.4444444444444444,
              "#bd3786"
             ],
             [
              0.5555555555555556,
              "#d8576b"
             ],
             [
              0.6666666666666666,
              "#ed7953"
             ],
             [
              0.7777777777777778,
              "#fb9f3a"
             ],
             [
              0.8888888888888888,
              "#fdca26"
             ],
             [
              1,
              "#f0f921"
             ]
            ],
            "type": "histogram2d"
           }
          ],
          "histogram2dcontour": [
           {
            "colorbar": {
             "outlinewidth": 0,
             "ticks": ""
            },
            "colorscale": [
             [
              0,
              "#0d0887"
             ],
             [
              0.1111111111111111,
              "#46039f"
             ],
             [
              0.2222222222222222,
              "#7201a8"
             ],
             [
              0.3333333333333333,
              "#9c179e"
             ],
             [
              0.4444444444444444,
              "#bd3786"
             ],
             [
              0.5555555555555556,
              "#d8576b"
             ],
             [
              0.6666666666666666,
              "#ed7953"
             ],
             [
              0.7777777777777778,
              "#fb9f3a"
             ],
             [
              0.8888888888888888,
              "#fdca26"
             ],
             [
              1,
              "#f0f921"
             ]
            ],
            "type": "histogram2dcontour"
           }
          ],
          "mesh3d": [
           {
            "colorbar": {
             "outlinewidth": 0,
             "ticks": ""
            },
            "type": "mesh3d"
           }
          ],
          "parcoords": [
           {
            "line": {
             "colorbar": {
              "outlinewidth": 0,
              "ticks": ""
             }
            },
            "type": "parcoords"
           }
          ],
          "pie": [
           {
            "automargin": true,
            "type": "pie"
           }
          ],
          "scatter": [
           {
            "fillpattern": {
             "fillmode": "overlay",
             "size": 10,
             "solidity": 0.2
            },
            "type": "scatter"
           }
          ],
          "scatter3d": [
           {
            "line": {
             "colorbar": {
              "outlinewidth": 0,
              "ticks": ""
             }
            },
            "marker": {
             "colorbar": {
              "outlinewidth": 0,
              "ticks": ""
             }
            },
            "type": "scatter3d"
           }
          ],
          "scattercarpet": [
           {
            "marker": {
             "colorbar": {
              "outlinewidth": 0,
              "ticks": ""
             }
            },
            "type": "scattercarpet"
           }
          ],
          "scattergeo": [
           {
            "marker": {
             "colorbar": {
              "outlinewidth": 0,
              "ticks": ""
             }
            },
            "type": "scattergeo"
           }
          ],
          "scattergl": [
           {
            "marker": {
             "colorbar": {
              "outlinewidth": 0,
              "ticks": ""
             }
            },
            "type": "scattergl"
           }
          ],
          "scattermapbox": [
           {
            "marker": {
             "colorbar": {
              "outlinewidth": 0,
              "ticks": ""
             }
            },
            "type": "scattermapbox"
           }
          ],
          "scatterpolar": [
           {
            "marker": {
             "colorbar": {
              "outlinewidth": 0,
              "ticks": ""
             }
            },
            "type": "scatterpolar"
           }
          ],
          "scatterpolargl": [
           {
            "marker": {
             "colorbar": {
              "outlinewidth": 0,
              "ticks": ""
             }
            },
            "type": "scatterpolargl"
           }
          ],
          "scatterternary": [
           {
            "marker": {
             "colorbar": {
              "outlinewidth": 0,
              "ticks": ""
             }
            },
            "type": "scatterternary"
           }
          ],
          "surface": [
           {
            "colorbar": {
             "outlinewidth": 0,
             "ticks": ""
            },
            "colorscale": [
             [
              0,
              "#0d0887"
             ],
             [
              0.1111111111111111,
              "#46039f"
             ],
             [
              0.2222222222222222,
              "#7201a8"
             ],
             [
              0.3333333333333333,
              "#9c179e"
             ],
             [
              0.4444444444444444,
              "#bd3786"
             ],
             [
              0.5555555555555556,
              "#d8576b"
             ],
             [
              0.6666666666666666,
              "#ed7953"
             ],
             [
              0.7777777777777778,
              "#fb9f3a"
             ],
             [
              0.8888888888888888,
              "#fdca26"
             ],
             [
              1,
              "#f0f921"
             ]
            ],
            "type": "surface"
           }
          ],
          "table": [
           {
            "cells": {
             "fill": {
              "color": "#EBF0F8"
             },
             "line": {
              "color": "white"
             }
            },
            "header": {
             "fill": {
              "color": "#C8D4E3"
             },
             "line": {
              "color": "white"
             }
            },
            "type": "table"
           }
          ]
         },
         "layout": {
          "annotationdefaults": {
           "arrowcolor": "#2a3f5f",
           "arrowhead": 0,
           "arrowwidth": 1
          },
          "autotypenumbers": "strict",
          "coloraxis": {
           "colorbar": {
            "outlinewidth": 0,
            "ticks": ""
           }
          },
          "colorscale": {
           "diverging": [
            [
             0,
             "#8e0152"
            ],
            [
             0.1,
             "#c51b7d"
            ],
            [
             0.2,
             "#de77ae"
            ],
            [
             0.3,
             "#f1b6da"
            ],
            [
             0.4,
             "#fde0ef"
            ],
            [
             0.5,
             "#f7f7f7"
            ],
            [
             0.6,
             "#e6f5d0"
            ],
            [
             0.7,
             "#b8e186"
            ],
            [
             0.8,
             "#7fbc41"
            ],
            [
             0.9,
             "#4d9221"
            ],
            [
             1,
             "#276419"
            ]
           ],
           "sequential": [
            [
             0,
             "#0d0887"
            ],
            [
             0.1111111111111111,
             "#46039f"
            ],
            [
             0.2222222222222222,
             "#7201a8"
            ],
            [
             0.3333333333333333,
             "#9c179e"
            ],
            [
             0.4444444444444444,
             "#bd3786"
            ],
            [
             0.5555555555555556,
             "#d8576b"
            ],
            [
             0.6666666666666666,
             "#ed7953"
            ],
            [
             0.7777777777777778,
             "#fb9f3a"
            ],
            [
             0.8888888888888888,
             "#fdca26"
            ],
            [
             1,
             "#f0f921"
            ]
           ],
           "sequentialminus": [
            [
             0,
             "#0d0887"
            ],
            [
             0.1111111111111111,
             "#46039f"
            ],
            [
             0.2222222222222222,
             "#7201a8"
            ],
            [
             0.3333333333333333,
             "#9c179e"
            ],
            [
             0.4444444444444444,
             "#bd3786"
            ],
            [
             0.5555555555555556,
             "#d8576b"
            ],
            [
             0.6666666666666666,
             "#ed7953"
            ],
            [
             0.7777777777777778,
             "#fb9f3a"
            ],
            [
             0.8888888888888888,
             "#fdca26"
            ],
            [
             1,
             "#f0f921"
            ]
           ]
          },
          "colorway": [
           "#636efa",
           "#EF553B",
           "#00cc96",
           "#ab63fa",
           "#FFA15A",
           "#19d3f3",
           "#FF6692",
           "#B6E880",
           "#FF97FF",
           "#FECB52"
          ],
          "font": {
           "color": "#2a3f5f"
          },
          "geo": {
           "bgcolor": "white",
           "lakecolor": "white",
           "landcolor": "#E5ECF6",
           "showlakes": true,
           "showland": true,
           "subunitcolor": "white"
          },
          "hoverlabel": {
           "align": "left"
          },
          "hovermode": "closest",
          "mapbox": {
           "style": "light"
          },
          "paper_bgcolor": "white",
          "plot_bgcolor": "#E5ECF6",
          "polar": {
           "angularaxis": {
            "gridcolor": "white",
            "linecolor": "white",
            "ticks": ""
           },
           "bgcolor": "#E5ECF6",
           "radialaxis": {
            "gridcolor": "white",
            "linecolor": "white",
            "ticks": ""
           }
          },
          "scene": {
           "xaxis": {
            "backgroundcolor": "#E5ECF6",
            "gridcolor": "white",
            "gridwidth": 2,
            "linecolor": "white",
            "showbackground": true,
            "ticks": "",
            "zerolinecolor": "white"
           },
           "yaxis": {
            "backgroundcolor": "#E5ECF6",
            "gridcolor": "white",
            "gridwidth": 2,
            "linecolor": "white",
            "showbackground": true,
            "ticks": "",
            "zerolinecolor": "white"
           },
           "zaxis": {
            "backgroundcolor": "#E5ECF6",
            "gridcolor": "white",
            "gridwidth": 2,
            "linecolor": "white",
            "showbackground": true,
            "ticks": "",
            "zerolinecolor": "white"
           }
          },
          "shapedefaults": {
           "line": {
            "color": "#2a3f5f"
           }
          },
          "ternary": {
           "aaxis": {
            "gridcolor": "white",
            "linecolor": "white",
            "ticks": ""
           },
           "baxis": {
            "gridcolor": "white",
            "linecolor": "white",
            "ticks": ""
           },
           "bgcolor": "#E5ECF6",
           "caxis": {
            "gridcolor": "white",
            "linecolor": "white",
            "ticks": ""
           }
          },
          "title": {
           "x": 0.05
          },
          "xaxis": {
           "automargin": true,
           "gridcolor": "white",
           "linecolor": "white",
           "ticks": "",
           "title": {
            "standoff": 15
           },
           "zerolinecolor": "white",
           "zerolinewidth": 2
          },
          "yaxis": {
           "automargin": true,
           "gridcolor": "white",
           "linecolor": "white",
           "ticks": "",
           "title": {
            "standoff": 15
           },
           "zerolinecolor": "white",
           "zerolinewidth": 2
          }
         }
        },
        "title": {
         "text": "Normalized Confusion Matrix"
        },
        "width": 800,
        "xaxis": {
         "tickmode": "array",
         "ticktext": [
          0,
          1,
          2,
          3,
          4,
          5,
          6,
          7,
          8,
          9,
          10,
          11,
          12
         ],
         "tickvals": [
          0,
          1,
          2,
          3,
          4,
          5,
          6,
          7,
          8,
          9,
          10,
          11,
          12
         ],
         "title": {
          "text": "Predicted Label"
         }
        },
        "yaxis": {
         "tickmode": "array",
         "ticktext": [
          0,
          1,
          2,
          3,
          4,
          5,
          6,
          7,
          8,
          9,
          10,
          11,
          12
         ],
         "tickvals": [
          0,
          1,
          2,
          3,
          4,
          5,
          6,
          7,
          8,
          9,
          10,
          11,
          12
         ],
         "title": {
          "text": "True Label"
         }
        }
       }
      }
     },
     "metadata": {},
     "output_type": "display_data"
    }
   ],
   "source": [
    "import numpy as np\n",
    "import pandas as pd\n",
    "import plotly.graph_objects as go\n",
    "from sklearn.metrics import confusion_matrix\n",
    "\n",
    "\n",
    "cm = confusion_matrix(all_labels, all_preds)\n",
    "\n",
    "cm_normalized = cm.astype('float') / cm.sum(axis=1)[:, np.newaxis]\n",
    "\n",
    "unique_labels = sorted(set(all_labels))\n",
    "\n",
    "fig = go.Figure(\n",
    "    data=go.Heatmap(\n",
    "        z=cm_normalized,\n",
    "        x=unique_labels,  \n",
    "        y=unique_labels,  \n",
    "        colorscale='Viridis',\n",
    "        showscale=True,\n",
    "        zmin=0,\n",
    "        zmax=1,\n",
    "        hoverongaps=False,\n",
    "        colorbar=dict(title='Proportion')\n",
    "    )\n",
    ")\n",
    "\n",
    "for i in range(len(unique_labels)):\n",
    "    for j in range(len(unique_labels)):\n",
    "        fig.add_annotation(\n",
    "            x=unique_labels[j],\n",
    "            y=unique_labels[i],\n",
    "            text=f'{cm_normalized[i, j]:.2f}',\n",
    "            showarrow=False,\n",
    "            font=dict(size=12, color=\"white\" if cm_normalized[i, j] > 0.5 else \"black\")\n",
    "        )\n",
    "\n",
    "fig.update_layout(\n",
    "    title='Normalized Confusion Matrix',\n",
    "    xaxis_title='Predicted Label',\n",
    "    yaxis_title='True Label',\n",
    "    xaxis=dict(\n",
    "        tickmode='array',\n",
    "        tickvals=list(range(len(unique_labels))),\n",
    "        ticktext=unique_labels,\n",
    "        title='Predicted Label'\n",
    "    ),\n",
    "    yaxis=dict(\n",
    "        tickmode='array',\n",
    "        tickvals=list(range(len(unique_labels))),\n",
    "        ticktext=unique_labels,\n",
    "        title='True Label'\n",
    "    ),\n",
    "    autosize=False,\n",
    "    width=800,\n",
    "    height=800,  \n",
    "    margin=dict(l=100, r=100, t=100, b=100)  \n",
    ")\n",
    "\n",
    "fig.show()\n"
   ]
  },
  {
   "cell_type": "code",
   "execution_count": 51,
   "metadata": {},
   "outputs": [
    {
     "data": {
      "application/vnd.plotly.v1+json": {
       "config": {
        "plotlyServerURL": "https://plot.ly"
       },
       "data": [
        {
         "colorscale": [
          [
           0,
           "#440154"
          ],
          [
           0.1111111111111111,
           "#482878"
          ],
          [
           0.2222222222222222,
           "#3e4989"
          ],
          [
           0.3333333333333333,
           "#31688e"
          ],
          [
           0.4444444444444444,
           "#26828e"
          ],
          [
           0.5555555555555556,
           "#1f9e89"
          ],
          [
           0.6666666666666666,
           "#35b779"
          ],
          [
           0.7777777777777778,
           "#6ece58"
          ],
          [
           0.8888888888888888,
           "#b5de2b"
          ],
          [
           1,
           "#fde725"
          ]
         ],
         "hoverongaps": false,
         "text": [
          [
           "0.89",
           "0.04",
           "0.01",
           "0.03",
           "0.0",
           "0.0",
           "0.01",
           "0.01",
           "0.0",
           "0.0",
           "0.0",
           "0.0",
           "0.0"
          ],
          [
           "0.03",
           "0.9",
           "0.07",
           "0.0",
           "0.0",
           "0.0",
           "0.0",
           "0.0",
           "0.0",
           "0.0",
           "0.0",
           "0.01",
           "0.0"
          ],
          [
           "0.0",
           "0.01",
           "0.99",
           "0.0",
           "0.0",
           "0.0",
           "0.0",
           "0.0",
           "0.0",
           "0.0",
           "0.0",
           "0.0",
           "0.0"
          ],
          [
           "0.0",
           "0.0",
           "0.02",
           "0.95",
           "0.01",
           "0.0",
           "0.0",
           "0.0",
           "0.0",
           "0.0",
           "0.01",
           "0.0",
           "0.01"
          ],
          [
           "0.0",
           "0.01",
           "0.0",
           "0.0",
           "0.96",
           "0.0",
           "0.01",
           "0.01",
           "0.0",
           "0.0",
           "0.0",
           "0.0",
           "0.0"
          ],
          [
           "0.01",
           "0.0",
           "0.0",
           "0.0",
           "0.0",
           "0.71",
           "0.05",
           "0.06",
           "0.03",
           "0.04",
           "0.03",
           "0.01",
           "0.05"
          ],
          [
           "0.0",
           "0.0",
           "0.0",
           "0.0",
           "0.01",
           "0.0",
           "0.86",
           "0.04",
           "0.0",
           "0.01",
           "0.0",
           "0.01",
           "0.07"
          ],
          [
           "0.0",
           "0.0",
           "0.01",
           "0.01",
           "0.0",
           "0.0",
           "0.02",
           "0.95",
           "0.0",
           "0.0",
           "0.0",
           "0.01",
           "0.0"
          ],
          [
           "0.0",
           "0.0",
           "0.0",
           "0.0",
           "0.0",
           "0.11",
           "0.0",
           "0.01",
           "0.83",
           "0.01",
           "0.01",
           "0.03",
           "0.0"
          ],
          [
           "0.0",
           "0.0",
           "0.0",
           "0.0",
           "0.01",
           "0.04",
           "0.03",
           "0.01",
           "0.0",
           "0.86",
           "0.01",
           "0.01",
           "0.01"
          ],
          [
           "0.0",
           "0.0",
           "0.0",
           "0.01",
           "0.0",
           "0.03",
           "0.03",
           "0.01",
           "0.02",
           "0.01",
           "0.79",
           "0.03",
           "0.08"
          ],
          [
           "0.0",
           "0.0",
           "0.01",
           "0.0",
           "0.0",
           "0.14",
           "0.15",
           "0.04",
           "0.04",
           "0.03",
           "0.01",
           "0.48",
           "0.09"
          ],
          [
           "0.0",
           "0.01",
           "0.0",
           "0.01",
           "0.0",
           "0.1",
           "0.13",
           "0.05",
           "0.0",
           "0.01",
           "0.03",
           "0.01",
           "0.65"
          ]
         ],
         "texttemplate": "%{text}",
         "type": "heatmap",
         "x": [
          "beer",
          "spirits",
          "wine",
          "juice",
          "tea",
          "deli",
          "baked goods",
          "dairy",
          "meat",
          "seafood",
          "fresh produce",
          "frozen food",
          "pantry"
         ],
         "y": [
          "beer",
          "spirits",
          "wine",
          "juice",
          "tea",
          "deli",
          "baked goods",
          "dairy",
          "meat",
          "seafood",
          "fresh produce",
          "frozen food",
          "pantry"
         ],
         "z": [
          [
           0.8924731182795699,
           0.043010752688172046,
           0.010752688172043012,
           0.03225806451612903,
           0,
           0,
           0.010752688172043012,
           0.010752688172043012,
           0,
           0,
           0,
           0,
           0
          ],
          [
           0.02608695652173913,
           0.8956521739130435,
           0.06956521739130435,
           0,
           0,
           0,
           0,
           0,
           0,
           0,
           0,
           0.008695652173913044,
           0
          ],
          [
           0,
           0.01,
           0.99,
           0,
           0,
           0,
           0,
           0,
           0,
           0,
           0,
           0,
           0
          ],
          [
           0,
           0,
           0.019417475728155338,
           0.9514563106796117,
           0.009708737864077669,
           0,
           0,
           0,
           0,
           0,
           0.009708737864077669,
           0,
           0.009708737864077669
          ],
          [
           0,
           0.011904761904761904,
           0,
           0,
           0.9642857142857143,
           0,
           0.011904761904761904,
           0.011904761904761904,
           0,
           0,
           0,
           0,
           0
          ],
          [
           0.010309278350515464,
           0,
           0,
           0,
           0,
           0.711340206185567,
           0.05154639175257732,
           0.061855670103092786,
           0.030927835051546393,
           0.041237113402061855,
           0.030927835051546393,
           0.010309278350515464,
           0.05154639175257732
          ],
          [
           0,
           0,
           0,
           0,
           0.012048192771084338,
           0,
           0.8554216867469879,
           0.03614457831325301,
           0,
           0.012048192771084338,
           0,
           0.012048192771084338,
           0.07228915662650602
          ],
          [
           0,
           0,
           0.00980392156862745,
           0.00980392156862745,
           0,
           0,
           0.0196078431372549,
           0.9509803921568627,
           0,
           0,
           0,
           0.00980392156862745,
           0
          ],
          [
           0,
           0,
           0,
           0,
           0,
           0.10526315789473684,
           0,
           0.010526315789473684,
           0.8315789473684211,
           0.010526315789473684,
           0.010526315789473684,
           0.031578947368421054,
           0
          ],
          [
           0,
           0,
           0,
           0,
           0.014084507042253521,
           0.04225352112676056,
           0.028169014084507043,
           0.014084507042253521,
           0,
           0.8591549295774648,
           0.014084507042253521,
           0.014084507042253521,
           0.014084507042253521
          ],
          [
           0,
           0,
           0,
           0.009174311926605505,
           0,
           0.027522935779816515,
           0.027522935779816515,
           0.009174311926605505,
           0.01834862385321101,
           0.009174311926605505,
           0.7889908256880734,
           0.027522935779816515,
           0.08256880733944955
          ],
          [
           0,
           0,
           0.010752688172043012,
           0,
           0,
           0.13978494623655913,
           0.15053763440860216,
           0.043010752688172046,
           0.043010752688172046,
           0.03225806451612903,
           0.010752688172043012,
           0.4838709677419355,
           0.08602150537634409
          ],
          [
           0,
           0.010752688172043012,
           0,
           0.010752688172043012,
           0,
           0.0967741935483871,
           0.12903225806451613,
           0.053763440860215055,
           0,
           0.010752688172043012,
           0.03225806451612903,
           0.010752688172043012,
           0.6451612903225806
          ]
         ],
         "zmax": 1,
         "zmin": 0
        }
       ],
       "layout": {
        "height": 800,
        "margin": {
         "b": 50,
         "l": 50,
         "r": 50,
         "t": 50
        },
        "template": {
         "data": {
          "bar": [
           {
            "error_x": {
             "color": "#2a3f5f"
            },
            "error_y": {
             "color": "#2a3f5f"
            },
            "marker": {
             "line": {
              "color": "#E5ECF6",
              "width": 0.5
             },
             "pattern": {
              "fillmode": "overlay",
              "size": 10,
              "solidity": 0.2
             }
            },
            "type": "bar"
           }
          ],
          "barpolar": [
           {
            "marker": {
             "line": {
              "color": "#E5ECF6",
              "width": 0.5
             },
             "pattern": {
              "fillmode": "overlay",
              "size": 10,
              "solidity": 0.2
             }
            },
            "type": "barpolar"
           }
          ],
          "carpet": [
           {
            "aaxis": {
             "endlinecolor": "#2a3f5f",
             "gridcolor": "white",
             "linecolor": "white",
             "minorgridcolor": "white",
             "startlinecolor": "#2a3f5f"
            },
            "baxis": {
             "endlinecolor": "#2a3f5f",
             "gridcolor": "white",
             "linecolor": "white",
             "minorgridcolor": "white",
             "startlinecolor": "#2a3f5f"
            },
            "type": "carpet"
           }
          ],
          "choropleth": [
           {
            "colorbar": {
             "outlinewidth": 0,
             "ticks": ""
            },
            "type": "choropleth"
           }
          ],
          "contour": [
           {
            "colorbar": {
             "outlinewidth": 0,
             "ticks": ""
            },
            "colorscale": [
             [
              0,
              "#0d0887"
             ],
             [
              0.1111111111111111,
              "#46039f"
             ],
             [
              0.2222222222222222,
              "#7201a8"
             ],
             [
              0.3333333333333333,
              "#9c179e"
             ],
             [
              0.4444444444444444,
              "#bd3786"
             ],
             [
              0.5555555555555556,
              "#d8576b"
             ],
             [
              0.6666666666666666,
              "#ed7953"
             ],
             [
              0.7777777777777778,
              "#fb9f3a"
             ],
             [
              0.8888888888888888,
              "#fdca26"
             ],
             [
              1,
              "#f0f921"
             ]
            ],
            "type": "contour"
           }
          ],
          "contourcarpet": [
           {
            "colorbar": {
             "outlinewidth": 0,
             "ticks": ""
            },
            "type": "contourcarpet"
           }
          ],
          "heatmap": [
           {
            "colorbar": {
             "outlinewidth": 0,
             "ticks": ""
            },
            "colorscale": [
             [
              0,
              "#0d0887"
             ],
             [
              0.1111111111111111,
              "#46039f"
             ],
             [
              0.2222222222222222,
              "#7201a8"
             ],
             [
              0.3333333333333333,
              "#9c179e"
             ],
             [
              0.4444444444444444,
              "#bd3786"
             ],
             [
              0.5555555555555556,
              "#d8576b"
             ],
             [
              0.6666666666666666,
              "#ed7953"
             ],
             [
              0.7777777777777778,
              "#fb9f3a"
             ],
             [
              0.8888888888888888,
              "#fdca26"
             ],
             [
              1,
              "#f0f921"
             ]
            ],
            "type": "heatmap"
           }
          ],
          "heatmapgl": [
           {
            "colorbar": {
             "outlinewidth": 0,
             "ticks": ""
            },
            "colorscale": [
             [
              0,
              "#0d0887"
             ],
             [
              0.1111111111111111,
              "#46039f"
             ],
             [
              0.2222222222222222,
              "#7201a8"
             ],
             [
              0.3333333333333333,
              "#9c179e"
             ],
             [
              0.4444444444444444,
              "#bd3786"
             ],
             [
              0.5555555555555556,
              "#d8576b"
             ],
             [
              0.6666666666666666,
              "#ed7953"
             ],
             [
              0.7777777777777778,
              "#fb9f3a"
             ],
             [
              0.8888888888888888,
              "#fdca26"
             ],
             [
              1,
              "#f0f921"
             ]
            ],
            "type": "heatmapgl"
           }
          ],
          "histogram": [
           {
            "marker": {
             "pattern": {
              "fillmode": "overlay",
              "size": 10,
              "solidity": 0.2
             }
            },
            "type": "histogram"
           }
          ],
          "histogram2d": [
           {
            "colorbar": {
             "outlinewidth": 0,
             "ticks": ""
            },
            "colorscale": [
             [
              0,
              "#0d0887"
             ],
             [
              0.1111111111111111,
              "#46039f"
             ],
             [
              0.2222222222222222,
              "#7201a8"
             ],
             [
              0.3333333333333333,
              "#9c179e"
             ],
             [
              0.4444444444444444,
              "#bd3786"
             ],
             [
              0.5555555555555556,
              "#d8576b"
             ],
             [
              0.6666666666666666,
              "#ed7953"
             ],
             [
              0.7777777777777778,
              "#fb9f3a"
             ],
             [
              0.8888888888888888,
              "#fdca26"
             ],
             [
              1,
              "#f0f921"
             ]
            ],
            "type": "histogram2d"
           }
          ],
          "histogram2dcontour": [
           {
            "colorbar": {
             "outlinewidth": 0,
             "ticks": ""
            },
            "colorscale": [
             [
              0,
              "#0d0887"
             ],
             [
              0.1111111111111111,
              "#46039f"
             ],
             [
              0.2222222222222222,
              "#7201a8"
             ],
             [
              0.3333333333333333,
              "#9c179e"
             ],
             [
              0.4444444444444444,
              "#bd3786"
             ],
             [
              0.5555555555555556,
              "#d8576b"
             ],
             [
              0.6666666666666666,
              "#ed7953"
             ],
             [
              0.7777777777777778,
              "#fb9f3a"
             ],
             [
              0.8888888888888888,
              "#fdca26"
             ],
             [
              1,
              "#f0f921"
             ]
            ],
            "type": "histogram2dcontour"
           }
          ],
          "mesh3d": [
           {
            "colorbar": {
             "outlinewidth": 0,
             "ticks": ""
            },
            "type": "mesh3d"
           }
          ],
          "parcoords": [
           {
            "line": {
             "colorbar": {
              "outlinewidth": 0,
              "ticks": ""
             }
            },
            "type": "parcoords"
           }
          ],
          "pie": [
           {
            "automargin": true,
            "type": "pie"
           }
          ],
          "scatter": [
           {
            "fillpattern": {
             "fillmode": "overlay",
             "size": 10,
             "solidity": 0.2
            },
            "type": "scatter"
           }
          ],
          "scatter3d": [
           {
            "line": {
             "colorbar": {
              "outlinewidth": 0,
              "ticks": ""
             }
            },
            "marker": {
             "colorbar": {
              "outlinewidth": 0,
              "ticks": ""
             }
            },
            "type": "scatter3d"
           }
          ],
          "scattercarpet": [
           {
            "marker": {
             "colorbar": {
              "outlinewidth": 0,
              "ticks": ""
             }
            },
            "type": "scattercarpet"
           }
          ],
          "scattergeo": [
           {
            "marker": {
             "colorbar": {
              "outlinewidth": 0,
              "ticks": ""
             }
            },
            "type": "scattergeo"
           }
          ],
          "scattergl": [
           {
            "marker": {
             "colorbar": {
              "outlinewidth": 0,
              "ticks": ""
             }
            },
            "type": "scattergl"
           }
          ],
          "scattermapbox": [
           {
            "marker": {
             "colorbar": {
              "outlinewidth": 0,
              "ticks": ""
             }
            },
            "type": "scattermapbox"
           }
          ],
          "scatterpolar": [
           {
            "marker": {
             "colorbar": {
              "outlinewidth": 0,
              "ticks": ""
             }
            },
            "type": "scatterpolar"
           }
          ],
          "scatterpolargl": [
           {
            "marker": {
             "colorbar": {
              "outlinewidth": 0,
              "ticks": ""
             }
            },
            "type": "scatterpolargl"
           }
          ],
          "scatterternary": [
           {
            "marker": {
             "colorbar": {
              "outlinewidth": 0,
              "ticks": ""
             }
            },
            "type": "scatterternary"
           }
          ],
          "surface": [
           {
            "colorbar": {
             "outlinewidth": 0,
             "ticks": ""
            },
            "colorscale": [
             [
              0,
              "#0d0887"
             ],
             [
              0.1111111111111111,
              "#46039f"
             ],
             [
              0.2222222222222222,
              "#7201a8"
             ],
             [
              0.3333333333333333,
              "#9c179e"
             ],
             [
              0.4444444444444444,
              "#bd3786"
             ],
             [
              0.5555555555555556,
              "#d8576b"
             ],
             [
              0.6666666666666666,
              "#ed7953"
             ],
             [
              0.7777777777777778,
              "#fb9f3a"
             ],
             [
              0.8888888888888888,
              "#fdca26"
             ],
             [
              1,
              "#f0f921"
             ]
            ],
            "type": "surface"
           }
          ],
          "table": [
           {
            "cells": {
             "fill": {
              "color": "#EBF0F8"
             },
             "line": {
              "color": "white"
             }
            },
            "header": {
             "fill": {
              "color": "#C8D4E3"
             },
             "line": {
              "color": "white"
             }
            },
            "type": "table"
           }
          ]
         },
         "layout": {
          "annotationdefaults": {
           "arrowcolor": "#2a3f5f",
           "arrowhead": 0,
           "arrowwidth": 1
          },
          "autotypenumbers": "strict",
          "coloraxis": {
           "colorbar": {
            "outlinewidth": 0,
            "ticks": ""
           }
          },
          "colorscale": {
           "diverging": [
            [
             0,
             "#8e0152"
            ],
            [
             0.1,
             "#c51b7d"
            ],
            [
             0.2,
             "#de77ae"
            ],
            [
             0.3,
             "#f1b6da"
            ],
            [
             0.4,
             "#fde0ef"
            ],
            [
             0.5,
             "#f7f7f7"
            ],
            [
             0.6,
             "#e6f5d0"
            ],
            [
             0.7,
             "#b8e186"
            ],
            [
             0.8,
             "#7fbc41"
            ],
            [
             0.9,
             "#4d9221"
            ],
            [
             1,
             "#276419"
            ]
           ],
           "sequential": [
            [
             0,
             "#0d0887"
            ],
            [
             0.1111111111111111,
             "#46039f"
            ],
            [
             0.2222222222222222,
             "#7201a8"
            ],
            [
             0.3333333333333333,
             "#9c179e"
            ],
            [
             0.4444444444444444,
             "#bd3786"
            ],
            [
             0.5555555555555556,
             "#d8576b"
            ],
            [
             0.6666666666666666,
             "#ed7953"
            ],
            [
             0.7777777777777778,
             "#fb9f3a"
            ],
            [
             0.8888888888888888,
             "#fdca26"
            ],
            [
             1,
             "#f0f921"
            ]
           ],
           "sequentialminus": [
            [
             0,
             "#0d0887"
            ],
            [
             0.1111111111111111,
             "#46039f"
            ],
            [
             0.2222222222222222,
             "#7201a8"
            ],
            [
             0.3333333333333333,
             "#9c179e"
            ],
            [
             0.4444444444444444,
             "#bd3786"
            ],
            [
             0.5555555555555556,
             "#d8576b"
            ],
            [
             0.6666666666666666,
             "#ed7953"
            ],
            [
             0.7777777777777778,
             "#fb9f3a"
            ],
            [
             0.8888888888888888,
             "#fdca26"
            ],
            [
             1,
             "#f0f921"
            ]
           ]
          },
          "colorway": [
           "#636efa",
           "#EF553B",
           "#00cc96",
           "#ab63fa",
           "#FFA15A",
           "#19d3f3",
           "#FF6692",
           "#B6E880",
           "#FF97FF",
           "#FECB52"
          ],
          "font": {
           "color": "#2a3f5f"
          },
          "geo": {
           "bgcolor": "white",
           "lakecolor": "white",
           "landcolor": "#E5ECF6",
           "showlakes": true,
           "showland": true,
           "subunitcolor": "white"
          },
          "hoverlabel": {
           "align": "left"
          },
          "hovermode": "closest",
          "mapbox": {
           "style": "light"
          },
          "paper_bgcolor": "white",
          "plot_bgcolor": "#E5ECF6",
          "polar": {
           "angularaxis": {
            "gridcolor": "white",
            "linecolor": "white",
            "ticks": ""
           },
           "bgcolor": "#E5ECF6",
           "radialaxis": {
            "gridcolor": "white",
            "linecolor": "white",
            "ticks": ""
           }
          },
          "scene": {
           "xaxis": {
            "backgroundcolor": "#E5ECF6",
            "gridcolor": "white",
            "gridwidth": 2,
            "linecolor": "white",
            "showbackground": true,
            "ticks": "",
            "zerolinecolor": "white"
           },
           "yaxis": {
            "backgroundcolor": "#E5ECF6",
            "gridcolor": "white",
            "gridwidth": 2,
            "linecolor": "white",
            "showbackground": true,
            "ticks": "",
            "zerolinecolor": "white"
           },
           "zaxis": {
            "backgroundcolor": "#E5ECF6",
            "gridcolor": "white",
            "gridwidth": 2,
            "linecolor": "white",
            "showbackground": true,
            "ticks": "",
            "zerolinecolor": "white"
           }
          },
          "shapedefaults": {
           "line": {
            "color": "#2a3f5f"
           }
          },
          "ternary": {
           "aaxis": {
            "gridcolor": "white",
            "linecolor": "white",
            "ticks": ""
           },
           "baxis": {
            "gridcolor": "white",
            "linecolor": "white",
            "ticks": ""
           },
           "bgcolor": "#E5ECF6",
           "caxis": {
            "gridcolor": "white",
            "linecolor": "white",
            "ticks": ""
           }
          },
          "title": {
           "x": 0.05
          },
          "xaxis": {
           "automargin": true,
           "gridcolor": "white",
           "linecolor": "white",
           "ticks": "",
           "title": {
            "standoff": 15
           },
           "zerolinecolor": "white",
           "zerolinewidth": 2
          },
          "yaxis": {
           "automargin": true,
           "gridcolor": "white",
           "linecolor": "white",
           "ticks": "",
           "title": {
            "standoff": 15
           },
           "zerolinecolor": "white",
           "zerolinewidth": 2
          }
         }
        },
        "title": {
         "text": "Normalized Confusion Matrix"
        },
        "width": 800,
        "xaxis": {
         "title": {
          "text": "Predicted Label"
         }
        },
        "yaxis": {
         "title": {
          "text": "True Label"
         }
        }
       }
      }
     },
     "metadata": {},
     "output_type": "display_data"
    }
   ],
   "source": [
    "cm = confusion_matrix(all_labels, all_preds)\n",
    "\n",
    "cm_normalized = cm.astype('float') / cm.sum(axis=1)[:, np.newaxis]\n",
    "\n",
    "cm_text = np.around(cm_normalized, decimals=2).astype(str)\n",
    "\n",
    "fig = go.Figure(data=go.Heatmap(\n",
    "    z=cm_normalized,\n",
    "    x=unique_labels,  \n",
    "    y=unique_labels, \n",
    "    text=cm_text, \n",
    "    texttemplate=\"%{text}\",  \n",
    "    hoverongaps=False,\n",
    "    colorscale='Viridis',  \n",
    "    zmin=0, zmax=1\n",
    "))\n",
    "\n",
    "fig.update_layout(\n",
    "    title='Normalized Confusion Matrix',\n",
    "    xaxis=dict(title='Predicted Label'),\n",
    "    yaxis=dict(title='True Label'),\n",
    "    margin=dict(l=50, r=50, t=50, b=50),\n",
    "    height=800, width=800\n",
    "    \n",
    ")\n",
    "\n",
    "fig.show()"
   ]
  },
  {
   "cell_type": "code",
   "execution_count": null,
   "metadata": {},
   "outputs": [],
   "source": []
  },
  {
   "cell_type": "code",
   "execution_count": null,
   "metadata": {},
   "outputs": [],
   "source": []
  },
  {
   "cell_type": "code",
   "execution_count": null,
   "metadata": {},
   "outputs": [],
   "source": []
  },
  {
   "cell_type": "code",
   "execution_count": null,
   "metadata": {},
   "outputs": [],
   "source": []
  }
 ],
 "metadata": {
  "kernelspec": {
   "display_name": ".erdos",
   "language": "python",
   "name": "python3"
  },
  "language_info": {
   "codemirror_mode": {
    "name": "ipython",
    "version": 3
   },
   "file_extension": ".py",
   "mimetype": "text/x-python",
   "name": "python",
   "nbconvert_exporter": "python",
   "pygments_lexer": "ipython3",
   "version": "3.11.7"
  }
 },
 "nbformat": 4,
 "nbformat_minor": 2
}
