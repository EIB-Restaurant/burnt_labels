{
 "cells": [
  {
   "cell_type": "markdown",
   "metadata": {},
   "source": [
    "# Fine Tuning BERT For Classification "
   ]
  },
  {
   "cell_type": "markdown",
   "metadata": {},
   "source": [
    "## Imports and Setup\n",
    "\n",
    "\n"
   ]
  },
  {
   "cell_type": "code",
   "execution_count": 38,
   "metadata": {},
   "outputs": [],
   "source": [
    "import torch  \n",
    "import numpy as np \n",
    "import pandas as pd  \n",
    "from torch import nn \n",
    "from torch.optim import Adam \n",
    "from transformers import BertTokenizer, BertForSequenceClassification  # BERT model and tokenizer\n",
    "from tqdm import tqdm \n",
    "from peft import get_peft_model, LoraConfig  # For parameter-efficient fine-tuning of models\n",
    "import os  \n",
    "\n",
    "# Define the directory to save the output files\n",
    "save_dir = 'output'\n",
    "os.makedirs(save_dir, exist_ok=True)\n"
   ]
  },
  {
   "cell_type": "markdown",
   "metadata": {},
   "source": [
    "## Data Loading and Preprocessing\n",
    "\n",
    "This section involves loading the dataset from a CSV file, cleaning and preprocessing the data by removing unnecessary columns, splitting multi-label information into separate columns, and filtering labels based on their frequency. It also splits the data into training, validation, and test sets.\n"
   ]
  },
  {
   "cell_type": "code",
   "execution_count": null,
   "metadata": {},
   "outputs": [],
   "source": [
    "# Load data from CSV file\n",
    "df = pd.read_csv('test_food_bev_alc.csv')\n",
    "\n",
    "# Clean the data by dropping unnecessary columns\n",
    "data_cleaned = df.drop(columns=['link', 'typeID'])\n",
    "\n",
    "# Split the 'label' column into multiple parts\n",
    "label_split = data_cleaned['label'].str.split('/', expand=True)\n",
    "label_split.columns = [f'label_part_{i+1}' for i in range(label_split.shape[1])]\n",
    "\n",
    "# Combine the cleaned data with the split labels\n",
    "data_expanded = pd.concat([data_cleaned.drop(columns=['label']), label_split], axis=1)\n",
    "\n",
    "# Filter data to include labels with a minimum count\n",
    "label_counts = data_expanded['label_part_2'].value_counts()\n",
    "label_counts_cutoff = label_counts[label_counts >= 1000]\n",
    "selected_labels = label_counts_cutoff.index\n",
    "df_filtered = data_expanded[data_expanded['label_part_2'].isin(selected_labels)]\n",
    "\n",
    "# Split data into training, validation, and test sets\n",
    "df_train, df_val, df_test = np.split(df_filtered.sample(frac=1, random_state=35),\n",
    "                                     [int(0.8*len(df_filtered)), int(0.9*len(df_filtered))])\n",
    "\n"
   ]
  },
  {
   "cell_type": "markdown",
   "metadata": {},
   "source": [
    "## Tokenization and Dataset Preparation\n",
    "\n",
    "This section initializes the BERT tokenizer and defines a custom PyTorch dataset class for handling text and label data. It maps labels to numerical values suitable for classification tasks.\n"
   ]
  },
  {
   "cell_type": "code",
   "execution_count": 39,
   "metadata": {},
   "outputs": [],
   "source": [
    "# Map unique labels to numerical values for classification\n",
    "unique_labels = df_filtered['label_part_2'].unique()\n",
    "label_to_number = {label: idx for idx, label in enumerate(unique_labels, start=0)}\n",
    "\n",
    "# Initialize the BERT tokenizer\n",
    "tokenizer = BertTokenizer.from_pretrained('bert-base-uncased')\n",
    "\n",
    "# Define a custom dataset class\n",
    "class Dataset(torch.utils.data.Dataset):\n",
    "    def __init__(self, df):\n",
    "        # Store labels and texts\n",
    "        self.labels = [label_to_number[label] for label in df['label_part_2']]\n",
    "        self.texts = [tokenizer(text,\n",
    "                                padding='max_length',\n",
    "                                max_length=128,\n",
    "                                truncation=True,\n",
    "                                return_tensors=\"pt\") for text in df['product']]\n",
    "        \n",
    "    def classes(self):\n",
    "        # Return the class labels\n",
    "        return self.labels\n",
    "    \n",
    "    def __len__(self):\n",
    "        # Return the length of the dataset\n",
    "        return len(self.labels)\n",
    "    \n",
    "    def get_batch_labels(self, idx):\n",
    "        # Return a specific batch of labels\n",
    "        return np.array(self.labels[idx])\n",
    "    \n",
    "    def get_batch_texts(self, idx):\n",
    "        # Return a specific batch of texts\n",
    "        return self.texts[idx]\n",
    "    \n",
    "    def __getitem__(self, idx):\n",
    "        # Retrieve a batch of texts and labels\n",
    "        batch_texts = self.get_batch_texts(idx)\n",
    "        batch_y = self.get_batch_labels(idx)\n",
    "        return batch_texts, batch_y\n"
   ]
  },
  {
   "cell_type": "markdown",
   "metadata": {},
   "source": [
    "## Model Definition\n",
    "\n",
    "This part defines the BERT-based sequence classifier model, incorporating a parameter-efficient fine-tuning technique (PEFT) using LoraConfig. The model uses BERT as a backbone for sequence classification tasks.\n"
   ]
  },
  {
   "cell_type": "code",
   "execution_count": 40,
   "metadata": {},
   "outputs": [],
   "source": [
    "# Define the BERT-based sequence classifier\n",
    "class BertSequenceClassifier(nn.Module):\n",
    "    def __init__(self, num_classes: int):\n",
    "        super(BertSequenceClassifier, self).__init__()\n",
    "        # Load the pre-trained BERT model with sequence classification head\n",
    "        self.bert_model = BertForSequenceClassification.from_pretrained('bert-base-uncased', num_labels=num_classes)\n",
    "        \n",
    "        # Configure parameter-efficient fine-tuning (PEFT) using LoraConfig\n",
    "        peft_config = LoraConfig(\n",
    "            task_type=\"SEQ_CLS\",\n",
    "            r=4,\n",
    "            lora_alpha=32,\n",
    "            lora_dropout=0.01,\n",
    "            target_modules=['query', 'key', 'value'],\n",
    "        )\n",
    "        \n",
    "        # Apply PEFT configuration to the model\n",
    "        self.bert_model = get_peft_model(self.bert_model, peft_config)\n",
    "\n",
    "    def forward(self, input_ids, attention_mask, labels=None):\n",
    "        # Forward pass through the model\n",
    "        return self.bert_model(input_ids=input_ids, attention_mask=attention_mask, labels=labels)\n"
   ]
  },
  {
   "cell_type": "markdown",
   "metadata": {},
   "source": [
    "## Training Setup\n",
    "\n"
   ]
  },
  {
   "cell_type": "code",
   "execution_count": null,
   "metadata": {},
   "outputs": [],
   "source": [
    "# Determine the device to use (MPS, CUDA, or CPU)\n",
    "if torch.backends.mps.is_available():\n",
    "    device = torch.device(\"mps\")\n",
    "elif torch.cuda.is_available():\n",
    "    device = torch.device(\"cuda\")\n",
    "else:\n",
    "    device = torch.device(\"cpu\")\n",
    "\n",
    "# Set training parameters\n",
    "EPOCHS = 10\n",
    "LR = 1e-4  \n",
    "\n",
    "# Initialize the BERT sequence classifier and optimizer\n",
    "model = BertSequenceClassifier(num_classes=len(unique_labels))\n",
    "optimizer = Adam(model.parameters(), lr=LR)\n",
    "\n",
    "# Display the device being used\n",
    "print(f\"Using device: {device}\")\n",
    "model.to(device)\n"
   ]
  },
  {
   "cell_type": "markdown",
   "metadata": {},
   "source": [
    "## Training Loop\n",
    "\n"
   ]
  },
  {
   "cell_type": "code",
   "execution_count": null,
   "metadata": {},
   "outputs": [],
   "source": [
    "# Define the training function\n",
    "def train(model, train_data, val_data, epochs):\n",
    "    # Prepare datasets and data loaders\n",
    "    train, val = Dataset(train_data), Dataset(val_data)\n",
    "    \n",
    "    train_dataloader = torch.utils.data.DataLoader(train, batch_size=20, shuffle=True)\n",
    "    val_dataloader = torch.utils.data.DataLoader(val, batch_size=20)\n",
    "    \n",
    "    train_losses = []\n",
    "    val_losses = []\n",
    "    \n",
    "    # Training over the specified number of epochs\n",
    "    for epoch_num in range(epochs):\n",
    "        total_acc_train = 0\n",
    "        total_loss_train = 0\n",
    "        \n",
    "        # Training phase\n",
    "        for train_input, train_label in tqdm(train_dataloader):\n",
    "            train_label = train_label.to(device)  # Move labels to device\n",
    "            mask = train_input['attention_mask'].squeeze(1).to(device)  # Move attention mask to device\n",
    "            input_id = train_input[\"input_ids\"].squeeze(1).to(device)  # Move input IDs to device\n",
    "            \n",
    "            model.zero_grad()  # Zero the gradients\n",
    "\n",
    "            # Forward pass\n",
    "            outputs = model(input_ids=input_id, attention_mask=mask, labels=train_label)\n",
    "            loss = outputs.loss  # Compute loss\n",
    "            logits = outputs.logits  # Get the logits\n",
    "            \n",
    "            total_loss_train += loss.item()  # Accumulate training loss\n",
    "            \n",
    "            acc = (logits.argmax(dim=1) == train_label).sum().item()  # Calculate accuracy\n",
    "            total_acc_train += acc\n",
    "\n",
    "            loss.backward()  # Backpropagation\n",
    "            optimizer.step()  # Update model parameters\n",
    "            \n",
    "        total_acc_val = 0\n",
    "        total_loss_val = 0\n",
    "        \n",
    "        # Validation phase\n",
    "        with torch.no_grad():  # No need to track gradients during validation\n",
    "            for val_input, val_label in val_dataloader:\n",
    "                val_label = val_label.to(device)\n",
    "                mask = val_input['attention_mask'].squeeze(1).to(device)\n",
    "                input_id = val_input['input_ids'].squeeze(1).to(device)\n",
    "                \n",
    "                outputs = model(input_ids=input_id, attention_mask=mask, labels=val_label)\n",
    "                loss = outputs.loss\n",
    "                logits = outputs.logits\n",
    "                \n",
    "                total_loss_val += loss.item()\n",
    "                \n",
    "                acc = (logits.argmax(dim=1) == val_label).sum().item()\n",
    "                total_acc_val += acc\n",
    "                \n",
    "        avg_train_loss = total_loss_train / len(train_data)\n",
    "        avg_val_loss = total_loss_val / len(val_data)\n",
    "        \n",
    "        train_losses.append(avg_train_loss)\n",
    "        val_losses.append(avg_val_loss)\n",
    "        \n",
    "        # Print training and validation statistics\n",
    "        print(\n",
    "            f\"Epochs: {epoch_num + 1} | Train Loss: {avg_train_loss: .3f} \\\n",
    "            | Train Accuracy: {total_acc_train / len(train_data): .3f} \\\n",
    "            | Val Loss: {avg_val_loss: .3f} \\\n",
    "            | Val Accuracy: {total_acc_val / len(val_data): .3f}\")\n",
    "    \n",
    "    # Save the losses to .npy files in the specified save_dir\n",
    "    np.save(os.path.join(save_dir, 'train_losses.npy'), np.array(train_losses))\n",
    "    np.save(os.path.join(save_dir, 'val_losses.npy'), np.array(val_losses))\n",
    "    print(\"Training and validation losses saved to train_losses.npy and val_losses.npy\")\n",
    "    \n",
    "    # Save the model state dictionary\n",
    "    torch.save(model.state_dict(), os.path.join(save_dir, 'bert_sequence_classifier.pth'))\n",
    "    print(f\"Model state dictionary saved to {os.path.join(save_dir, 'bert_sequence_classifier.pth')}\")\n",
    "\n",
    "# Start the training process\n",
    "train(model, df_train, df_val, EPOCHS)\n"
   ]
  },
  {
   "cell_type": "markdown",
   "metadata": {},
   "source": [
    "## Load the saved model"
   ]
  },
  {
   "cell_type": "code",
   "execution_count": 27,
   "metadata": {},
   "outputs": [
    {
     "name": "stderr",
     "output_type": "stream",
     "text": [
      "A parameter name that contains `beta` will be renamed internally to `bias`. Please use a different name to suppress this warning.\n",
      "A parameter name that contains `gamma` will be renamed internally to `weight`. Please use a different name to suppress this warning.\n",
      "A parameter name that contains `beta` will be renamed internally to `bias`. Please use a different name to suppress this warning.\n",
      "A parameter name that contains `gamma` will be renamed internally to `weight`. Please use a different name to suppress this warning.\n",
      "A parameter name that contains `beta` will be renamed internally to `bias`. Please use a different name to suppress this warning.\n",
      "A parameter name that contains `gamma` will be renamed internally to `weight`. Please use a different name to suppress this warning.\n",
      "A parameter name that contains `beta` will be renamed internally to `bias`. Please use a different name to suppress this warning.\n",
      "A parameter name that contains `gamma` will be renamed internally to `weight`. Please use a different name to suppress this warning.\n",
      "A parameter name that contains `beta` will be renamed internally to `bias`. Please use a different name to suppress this warning.\n",
      "A parameter name that contains `gamma` will be renamed internally to `weight`. Please use a different name to suppress this warning.\n",
      "A parameter name that contains `beta` will be renamed internally to `bias`. Please use a different name to suppress this warning.\n",
      "A parameter name that contains `gamma` will be renamed internally to `weight`. Please use a different name to suppress this warning.\n",
      "A parameter name that contains `beta` will be renamed internally to `bias`. Please use a different name to suppress this warning.\n",
      "A parameter name that contains `gamma` will be renamed internally to `weight`. Please use a different name to suppress this warning.\n",
      "A parameter name that contains `beta` will be renamed internally to `bias`. Please use a different name to suppress this warning.\n",
      "A parameter name that contains `gamma` will be renamed internally to `weight`. Please use a different name to suppress this warning.\n",
      "A parameter name that contains `beta` will be renamed internally to `bias`. Please use a different name to suppress this warning.\n",
      "A parameter name that contains `gamma` will be renamed internally to `weight`. Please use a different name to suppress this warning.\n",
      "A parameter name that contains `beta` will be renamed internally to `bias`. Please use a different name to suppress this warning.\n",
      "A parameter name that contains `gamma` will be renamed internally to `weight`. Please use a different name to suppress this warning.\n",
      "A parameter name that contains `beta` will be renamed internally to `bias`. Please use a different name to suppress this warning.\n",
      "A parameter name that contains `gamma` will be renamed internally to `weight`. Please use a different name to suppress this warning.\n",
      "A parameter name that contains `beta` will be renamed internally to `bias`. Please use a different name to suppress this warning.\n",
      "A parameter name that contains `gamma` will be renamed internally to `weight`. Please use a different name to suppress this warning.\n",
      "A parameter name that contains `beta` will be renamed internally to `bias`. Please use a different name to suppress this warning.\n",
      "A parameter name that contains `gamma` will be renamed internally to `weight`. Please use a different name to suppress this warning.\n",
      "A parameter name that contains `beta` will be renamed internally to `bias`. Please use a different name to suppress this warning.\n",
      "A parameter name that contains `gamma` will be renamed internally to `weight`. Please use a different name to suppress this warning.\n",
      "A parameter name that contains `beta` will be renamed internally to `bias`. Please use a different name to suppress this warning.\n",
      "A parameter name that contains `gamma` will be renamed internally to `weight`. Please use a different name to suppress this warning.\n",
      "A parameter name that contains `beta` will be renamed internally to `bias`. Please use a different name to suppress this warning.\n",
      "A parameter name that contains `gamma` will be renamed internally to `weight`. Please use a different name to suppress this warning.\n",
      "A parameter name that contains `beta` will be renamed internally to `bias`. Please use a different name to suppress this warning.\n",
      "A parameter name that contains `gamma` will be renamed internally to `weight`. Please use a different name to suppress this warning.\n",
      "A parameter name that contains `beta` will be renamed internally to `bias`. Please use a different name to suppress this warning.\n",
      "A parameter name that contains `gamma` will be renamed internally to `weight`. Please use a different name to suppress this warning.\n",
      "A parameter name that contains `beta` will be renamed internally to `bias`. Please use a different name to suppress this warning.\n",
      "A parameter name that contains `gamma` will be renamed internally to `weight`. Please use a different name to suppress this warning.\n",
      "A parameter name that contains `beta` will be renamed internally to `bias`. Please use a different name to suppress this warning.\n",
      "A parameter name that contains `gamma` will be renamed internally to `weight`. Please use a different name to suppress this warning.\n",
      "A parameter name that contains `beta` will be renamed internally to `bias`. Please use a different name to suppress this warning.\n",
      "A parameter name that contains `gamma` will be renamed internally to `weight`. Please use a different name to suppress this warning.\n",
      "A parameter name that contains `beta` will be renamed internally to `bias`. Please use a different name to suppress this warning.\n",
      "A parameter name that contains `gamma` will be renamed internally to `weight`. Please use a different name to suppress this warning.\n",
      "A parameter name that contains `beta` will be renamed internally to `bias`. Please use a different name to suppress this warning.\n",
      "A parameter name that contains `gamma` will be renamed internally to `weight`. Please use a different name to suppress this warning.\n",
      "A parameter name that contains `beta` will be renamed internally to `bias`. Please use a different name to suppress this warning.\n",
      "A parameter name that contains `gamma` will be renamed internally to `weight`. Please use a different name to suppress this warning.\n",
      "A parameter name that contains `beta` will be renamed internally to `bias`. Please use a different name to suppress this warning.\n",
      "A parameter name that contains `gamma` will be renamed internally to `weight`. Please use a different name to suppress this warning.\n",
      "A parameter name that contains `beta` will be renamed internally to `bias`. Please use a different name to suppress this warning.\n",
      "A parameter name that contains `gamma` will be renamed internally to `weight`. Please use a different name to suppress this warning.\n",
      "Some weights of BertForSequenceClassification were not initialized from the model checkpoint at bert-base-uncased and are newly initialized: ['classifier.bias', 'classifier.weight']\n",
      "You should probably TRAIN this model on a down-stream task to be able to use it for predictions and inference.\n"
     ]
    },
    {
     "name": "stdout",
     "output_type": "stream",
     "text": [
      "Model loaded successfully.\n"
     ]
    }
   ],
   "source": [
    "model = BertSequenceClassifier(num_classes=len(unique_labels))\n",
    "# Load the saved state dictionary\n",
    "model_path = \"output/bert_sequence_classifier.pth\"\n",
    "model.load_state_dict(torch.load(model_path, map_location=device))\n",
    "\n",
    "print(\"Model loaded successfully.\")\n"
   ]
  },
  {
   "cell_type": "markdown",
   "metadata": {},
   "source": [
    "## Testing Loop"
   ]
  },
  {
   "cell_type": "code",
   "execution_count": 37,
   "metadata": {},
   "outputs": [
    {
     "name": "stderr",
     "output_type": "stream",
     "text": [
      "100%|██████████| 912/912 [01:27<00:00, 10.37it/s]\n"
     ]
    },
    {
     "name": "stdout",
     "output_type": "stream",
     "text": [
      "Test Accuracy:  0.900\n",
      "\n",
      "Classification Report:\n",
      "               precision    recall  f1-score   support\n",
      "\n",
      "         beer       0.95      0.90      0.93       233\n",
      "      spirits       0.91      0.92      0.91       175\n",
      "         wine       0.95      0.98      0.96       371\n",
      "        juice       0.91      0.90      0.91       141\n",
      "         deli       0.69      0.68      0.68       287\n",
      "  baked goods       0.86      0.88      0.87       413\n",
      "        dairy       0.94      0.93      0.94       399\n",
      "         meat       0.91      0.92      0.92       632\n",
      "      seafood       0.83      0.88      0.85       220\n",
      "fresh produce       0.92      0.94      0.93      1362\n",
      "  frozen food       0.80      0.72      0.76       617\n",
      "       pantry       0.93      0.93      0.93      2442\n",
      "\n",
      "     accuracy                           0.90      7292\n",
      "    macro avg       0.88      0.88      0.88      7292\n",
      " weighted avg       0.90      0.90      0.90      7292\n",
      "\n"
     ]
    }
   ],
   "source": [
    "import torch\n",
    "import numpy as np\n",
    "from sklearn.metrics import classification_report\n",
    "from tqdm import tqdm\n",
    "\n",
    "def evaluate(model, test_data):\n",
    "    model.eval()  \n",
    "    test = Dataset(test_data)\n",
    "    test_dataloader = torch.utils.data.DataLoader(test, batch_size=8)\n",
    "    \n",
    "    predictions_labels = []\n",
    "    true_labels = []\n",
    "    total_acc_test = 0\n",
    "    \n",
    "    with torch.no_grad():\n",
    "        for test_input, test_label in tqdm(test_dataloader):\n",
    "            test_label = test_label.to(device)  \n",
    "            mask = test_input['attention_mask'].squeeze(1).to(device) \n",
    "            input_id = test_input['input_ids'].squeeze(1).to(device)  \n",
    "\n",
    "            outputs = model(input_ids=input_id, attention_mask=mask, labels=test_label) \n",
    "            logits = outputs.logits\n",
    "\n",
    "            acc = (logits.argmax(dim=1) == test_label).sum().item()\n",
    "            total_acc_test += acc\n",
    "            \n",
    "            true_labels += test_label.cpu().numpy().flatten().tolist()\n",
    "            predictions_labels += logits.argmax(dim=1).cpu().numpy().flatten().tolist()\n",
    "    \n",
    "    accuracy = total_acc_test / len(test_data)\n",
    "    print(f'Test Accuracy: {accuracy: .3f}')\n",
    "    \n",
    "    print(\"\\nClassification Report:\")\n",
    "    print(classification_report(true_labels, predictions_labels, target_names=unique_labels))\n",
    "\n",
    "\n",
    "    return true_labels, predictions_labels\n",
    "\n",
    "if torch.backends.mps.is_available():\n",
    "    device = torch.device(\"mps\")\n",
    "elif torch.cuda.is_available():\n",
    "    device = torch.device(\"cuda\")\n",
    "else:\n",
    "    device = torch.device(\"cpu\")\n",
    "\n",
    "model.to(device)\n",
    "\n",
    "true_labels, pred_labels = evaluate(model, df_test)\n"
   ]
  },
  {
   "cell_type": "code",
   "execution_count": 30,
   "metadata": {},
   "outputs": [
    {
     "name": "stderr",
     "output_type": "stream",
     "text": [
      "100%|██████████| 912/912 [01:18<00:00, 11.55it/s]"
     ]
    },
    {
     "name": "stdout",
     "output_type": "stream",
     "text": [
      "Test Accuracy:  0.900\n",
      "\n",
      "Classification Report:\n",
      "               precision    recall  f1-score   support\n",
      "\n",
      "         beer       0.95      0.90      0.93       233\n",
      "      spirits       0.91      0.92      0.91       175\n",
      "         wine       0.95      0.98      0.96       371\n",
      "        juice       0.91      0.90      0.91       141\n",
      "         deli       0.69      0.68      0.68       287\n",
      "  baked goods       0.86      0.88      0.87       413\n",
      "        dairy       0.94      0.93      0.94       399\n",
      "         meat       0.91      0.92      0.92       632\n",
      "      seafood       0.83      0.88      0.85       220\n",
      "fresh produce       0.92      0.94      0.93      1362\n",
      "  frozen food       0.80      0.72      0.76       617\n",
      "       pantry       0.93      0.93      0.93      2442\n",
      "\n",
      "     accuracy                           0.90      7292\n",
      "    macro avg       0.88      0.88      0.88      7292\n",
      " weighted avg       0.90      0.90      0.90      7292\n",
      "\n"
     ]
    },
    {
     "name": "stderr",
     "output_type": "stream",
     "text": [
      "\n"
     ]
    },
    {
     "data": {
      "application/vnd.plotly.v1+json": {
       "config": {
        "plotlyServerURL": "https://plot.ly"
       },
       "data": [
        {
         "colorscale": [
          [
           0,
           "#440154"
          ],
          [
           0.1111111111111111,
           "#482878"
          ],
          [
           0.2222222222222222,
           "#3e4989"
          ],
          [
           0.3333333333333333,
           "#31688e"
          ],
          [
           0.4444444444444444,
           "#26828e"
          ],
          [
           0.5555555555555556,
           "#1f9e89"
          ],
          [
           0.6666666666666666,
           "#35b779"
          ],
          [
           0.7777777777777778,
           "#6ece58"
          ],
          [
           0.8888888888888888,
           "#b5de2b"
          ],
          [
           1,
           "#fde725"
          ]
         ],
         "hoverongaps": false,
         "text": [
          [
           "0.9",
           "0.03",
           "0.03",
           "0.02",
           "0.0",
           "0.01",
           "0.01",
           "0.0",
           "0.0",
           "0.01",
           "0.0",
           "0.0"
          ],
          [
           "0.01",
           "0.92",
           "0.05",
           "0.0",
           "0.0",
           "0.0",
           "0.01",
           "0.0",
           "0.0",
           "0.0",
           "0.01",
           "0.0"
          ],
          [
           "0.0",
           "0.01",
           "0.98",
           "0.0",
           "0.0",
           "0.0",
           "0.0",
           "0.0",
           "0.0",
           "0.0",
           "0.0",
           "0.01"
          ],
          [
           "0.01",
           "0.02",
           "0.02",
           "0.9",
           "0.0",
           "0.01",
           "0.0",
           "0.0",
           "0.0",
           "0.01",
           "0.01",
           "0.02"
          ],
          [
           "0.0",
           "0.0",
           "0.0",
           "0.0",
           "0.68",
           "0.01",
           "0.01",
           "0.06",
           "0.02",
           "0.03",
           "0.08",
           "0.11"
          ],
          [
           "0.0",
           "0.0",
           "0.0",
           "0.0",
           "0.02",
           "0.88",
           "0.01",
           "0.0",
           "0.0",
           "0.0",
           "0.03",
           "0.05"
          ],
          [
           "0.01",
           "0.0",
           "0.0",
           "0.01",
           "0.01",
           "0.0",
           "0.93",
           "0.0",
           "0.0",
           "0.01",
           "0.01",
           "0.03"
          ],
          [
           "0.0",
           "0.0",
           "0.0",
           "0.0",
           "0.03",
           "0.0",
           "0.0",
           "0.92",
           "0.0",
           "0.0",
           "0.03",
           "0.01"
          ],
          [
           "0.0",
           "0.0",
           "0.0",
           "0.0",
           "0.02",
           "0.0",
           "0.0",
           "0.0",
           "0.88",
           "0.01",
           "0.05",
           "0.04"
          ],
          [
           "0.0",
           "0.0",
           "0.0",
           "0.0",
           "0.0",
           "0.0",
           "0.0",
           "0.0",
           "0.0",
           "0.94",
           "0.01",
           "0.04"
          ],
          [
           "0.0",
           "0.0",
           "0.0",
           "0.01",
           "0.04",
           "0.04",
           "0.01",
           "0.05",
           "0.03",
           "0.04",
           "0.72",
           "0.07"
          ],
          [
           "0.0",
           "0.0",
           "0.0",
           "0.0",
           "0.01",
           "0.01",
           "0.0",
           "0.0",
           "0.0",
           "0.03",
           "0.01",
           "0.93"
          ]
         ],
         "texttemplate": "%{text}",
         "type": "heatmap",
         "x": [
          "beer",
          "spirits",
          "wine",
          "juice",
          "deli",
          "baked goods",
          "dairy",
          "meat",
          "seafood",
          "fresh produce",
          "frozen food",
          "pantry"
         ],
         "y": [
          "beer",
          "spirits",
          "wine",
          "juice",
          "deli",
          "baked goods",
          "dairy",
          "meat",
          "seafood",
          "fresh produce",
          "frozen food",
          "pantry"
         ],
         "z": [
          [
           0.9012875536480687,
           0.02575107296137339,
           0.02575107296137339,
           0.017167381974248927,
           0,
           0.008583690987124463,
           0.008583690987124463,
           0,
           0,
           0.012875536480686695,
           0,
           0
          ],
          [
           0.011428571428571429,
           0.92,
           0.05142857142857143,
           0,
           0,
           0,
           0.005714285714285714,
           0,
           0,
           0,
           0.011428571428571429,
           0
          ],
          [
           0.0026954177897574125,
           0.008086253369272238,
           0.9811320754716981,
           0,
           0,
           0,
           0,
           0,
           0,
           0.0026954177897574125,
           0,
           0.005390835579514825
          ],
          [
           0.014184397163120567,
           0.02127659574468085,
           0.02127659574468085,
           0.900709219858156,
           0,
           0.0070921985815602835,
           0,
           0,
           0,
           0.0070921985815602835,
           0.0070921985815602835,
           0.02127659574468085
          ],
          [
           0,
           0,
           0,
           0,
           0.6759581881533101,
           0.013937282229965157,
           0.010452961672473868,
           0.059233449477351915,
           0.017421602787456445,
           0.0313588850174216,
           0.08013937282229965,
           0.11149825783972125
          ],
          [
           0,
           0,
           0,
           0,
           0.021791767554479417,
           0.8813559322033898,
           0.009685230024213076,
           0,
           0,
           0.002421307506053269,
           0.03389830508474576,
           0.05084745762711865
          ],
          [
           0.010025062656641603,
           0,
           0,
           0.005012531328320802,
           0.007518796992481203,
           0.002506265664160401,
           0.9273182957393483,
           0.002506265664160401,
           0.002506265664160401,
           0.005012531328320802,
           0.005012531328320802,
           0.03258145363408521
          ],
          [
           0,
           0,
           0.0015822784810126582,
           0.0015822784810126582,
           0.03164556962025317,
           0.0031645569620253164,
           0,
           0.9193037974683544,
           0.0015822784810126582,
           0.004746835443037975,
           0.02531645569620253,
           0.011075949367088608
          ],
          [
           0,
           0.004545454545454545,
           0,
           0,
           0.022727272727272728,
           0,
           0,
           0,
           0.8772727272727273,
           0.00909090909090909,
           0.045454545454545456,
           0.04090909090909091
          ],
          [
           0.0007342143906020558,
           0,
           0.0007342143906020558,
           0,
           0.003671071953010279,
           0.003671071953010279,
           0,
           0.0022026431718061676,
           0.002936857562408223,
           0.9383259911894273,
           0.009544787077826725,
           0.0381791483113069
          ],
          [
           0.0016207455429497568,
           0.0032414910858995136,
           0,
           0.006482982171799027,
           0.04051863857374392,
           0.03727714748784441,
           0.006482982171799027,
           0.050243111831442464,
           0.027552674230145867,
           0.03889789303079417,
           0.7196110210696921,
           0.06807131280388978
          ],
          [
           0,
           0.0004095004095004095,
           0,
           0.0004095004095004095,
           0.009009009009009009,
           0.009009009009009009,
           0.003276003276003276,
           0.001638001638001638,
           0.0045045045045045045,
           0.025389025389025387,
           0.012694512694512694,
           0.9336609336609336
          ]
         ],
         "zmax": 1,
         "zmin": 0
        }
       ],
       "layout": {
        "height": 1000,
        "margin": {
         "b": 50,
         "l": 50,
         "r": 50,
         "t": 50
        },
        "template": {
         "data": {
          "bar": [
           {
            "error_x": {
             "color": "#2a3f5f"
            },
            "error_y": {
             "color": "#2a3f5f"
            },
            "marker": {
             "line": {
              "color": "#E5ECF6",
              "width": 0.5
             },
             "pattern": {
              "fillmode": "overlay",
              "size": 10,
              "solidity": 0.2
             }
            },
            "type": "bar"
           }
          ],
          "barpolar": [
           {
            "marker": {
             "line": {
              "color": "#E5ECF6",
              "width": 0.5
             },
             "pattern": {
              "fillmode": "overlay",
              "size": 10,
              "solidity": 0.2
             }
            },
            "type": "barpolar"
           }
          ],
          "carpet": [
           {
            "aaxis": {
             "endlinecolor": "#2a3f5f",
             "gridcolor": "white",
             "linecolor": "white",
             "minorgridcolor": "white",
             "startlinecolor": "#2a3f5f"
            },
            "baxis": {
             "endlinecolor": "#2a3f5f",
             "gridcolor": "white",
             "linecolor": "white",
             "minorgridcolor": "white",
             "startlinecolor": "#2a3f5f"
            },
            "type": "carpet"
           }
          ],
          "choropleth": [
           {
            "colorbar": {
             "outlinewidth": 0,
             "ticks": ""
            },
            "type": "choropleth"
           }
          ],
          "contour": [
           {
            "colorbar": {
             "outlinewidth": 0,
             "ticks": ""
            },
            "colorscale": [
             [
              0,
              "#0d0887"
             ],
             [
              0.1111111111111111,
              "#46039f"
             ],
             [
              0.2222222222222222,
              "#7201a8"
             ],
             [
              0.3333333333333333,
              "#9c179e"
             ],
             [
              0.4444444444444444,
              "#bd3786"
             ],
             [
              0.5555555555555556,
              "#d8576b"
             ],
             [
              0.6666666666666666,
              "#ed7953"
             ],
             [
              0.7777777777777778,
              "#fb9f3a"
             ],
             [
              0.8888888888888888,
              "#fdca26"
             ],
             [
              1,
              "#f0f921"
             ]
            ],
            "type": "contour"
           }
          ],
          "contourcarpet": [
           {
            "colorbar": {
             "outlinewidth": 0,
             "ticks": ""
            },
            "type": "contourcarpet"
           }
          ],
          "heatmap": [
           {
            "colorbar": {
             "outlinewidth": 0,
             "ticks": ""
            },
            "colorscale": [
             [
              0,
              "#0d0887"
             ],
             [
              0.1111111111111111,
              "#46039f"
             ],
             [
              0.2222222222222222,
              "#7201a8"
             ],
             [
              0.3333333333333333,
              "#9c179e"
             ],
             [
              0.4444444444444444,
              "#bd3786"
             ],
             [
              0.5555555555555556,
              "#d8576b"
             ],
             [
              0.6666666666666666,
              "#ed7953"
             ],
             [
              0.7777777777777778,
              "#fb9f3a"
             ],
             [
              0.8888888888888888,
              "#fdca26"
             ],
             [
              1,
              "#f0f921"
             ]
            ],
            "type": "heatmap"
           }
          ],
          "heatmapgl": [
           {
            "colorbar": {
             "outlinewidth": 0,
             "ticks": ""
            },
            "colorscale": [
             [
              0,
              "#0d0887"
             ],
             [
              0.1111111111111111,
              "#46039f"
             ],
             [
              0.2222222222222222,
              "#7201a8"
             ],
             [
              0.3333333333333333,
              "#9c179e"
             ],
             [
              0.4444444444444444,
              "#bd3786"
             ],
             [
              0.5555555555555556,
              "#d8576b"
             ],
             [
              0.6666666666666666,
              "#ed7953"
             ],
             [
              0.7777777777777778,
              "#fb9f3a"
             ],
             [
              0.8888888888888888,
              "#fdca26"
             ],
             [
              1,
              "#f0f921"
             ]
            ],
            "type": "heatmapgl"
           }
          ],
          "histogram": [
           {
            "marker": {
             "pattern": {
              "fillmode": "overlay",
              "size": 10,
              "solidity": 0.2
             }
            },
            "type": "histogram"
           }
          ],
          "histogram2d": [
           {
            "colorbar": {
             "outlinewidth": 0,
             "ticks": ""
            },
            "colorscale": [
             [
              0,
              "#0d0887"
             ],
             [
              0.1111111111111111,
              "#46039f"
             ],
             [
              0.2222222222222222,
              "#7201a8"
             ],
             [
              0.3333333333333333,
              "#9c179e"
             ],
             [
              0.4444444444444444,
              "#bd3786"
             ],
             [
              0.5555555555555556,
              "#d8576b"
             ],
             [
              0.6666666666666666,
              "#ed7953"
             ],
             [
              0.7777777777777778,
              "#fb9f3a"
             ],
             [
              0.8888888888888888,
              "#fdca26"
             ],
             [
              1,
              "#f0f921"
             ]
            ],
            "type": "histogram2d"
           }
          ],
          "histogram2dcontour": [
           {
            "colorbar": {
             "outlinewidth": 0,
             "ticks": ""
            },
            "colorscale": [
             [
              0,
              "#0d0887"
             ],
             [
              0.1111111111111111,
              "#46039f"
             ],
             [
              0.2222222222222222,
              "#7201a8"
             ],
             [
              0.3333333333333333,
              "#9c179e"
             ],
             [
              0.4444444444444444,
              "#bd3786"
             ],
             [
              0.5555555555555556,
              "#d8576b"
             ],
             [
              0.6666666666666666,
              "#ed7953"
             ],
             [
              0.7777777777777778,
              "#fb9f3a"
             ],
             [
              0.8888888888888888,
              "#fdca26"
             ],
             [
              1,
              "#f0f921"
             ]
            ],
            "type": "histogram2dcontour"
           }
          ],
          "mesh3d": [
           {
            "colorbar": {
             "outlinewidth": 0,
             "ticks": ""
            },
            "type": "mesh3d"
           }
          ],
          "parcoords": [
           {
            "line": {
             "colorbar": {
              "outlinewidth": 0,
              "ticks": ""
             }
            },
            "type": "parcoords"
           }
          ],
          "pie": [
           {
            "automargin": true,
            "type": "pie"
           }
          ],
          "scatter": [
           {
            "fillpattern": {
             "fillmode": "overlay",
             "size": 10,
             "solidity": 0.2
            },
            "type": "scatter"
           }
          ],
          "scatter3d": [
           {
            "line": {
             "colorbar": {
              "outlinewidth": 0,
              "ticks": ""
             }
            },
            "marker": {
             "colorbar": {
              "outlinewidth": 0,
              "ticks": ""
             }
            },
            "type": "scatter3d"
           }
          ],
          "scattercarpet": [
           {
            "marker": {
             "colorbar": {
              "outlinewidth": 0,
              "ticks": ""
             }
            },
            "type": "scattercarpet"
           }
          ],
          "scattergeo": [
           {
            "marker": {
             "colorbar": {
              "outlinewidth": 0,
              "ticks": ""
             }
            },
            "type": "scattergeo"
           }
          ],
          "scattergl": [
           {
            "marker": {
             "colorbar": {
              "outlinewidth": 0,
              "ticks": ""
             }
            },
            "type": "scattergl"
           }
          ],
          "scattermapbox": [
           {
            "marker": {
             "colorbar": {
              "outlinewidth": 0,
              "ticks": ""
             }
            },
            "type": "scattermapbox"
           }
          ],
          "scatterpolar": [
           {
            "marker": {
             "colorbar": {
              "outlinewidth": 0,
              "ticks": ""
             }
            },
            "type": "scatterpolar"
           }
          ],
          "scatterpolargl": [
           {
            "marker": {
             "colorbar": {
              "outlinewidth": 0,
              "ticks": ""
             }
            },
            "type": "scatterpolargl"
           }
          ],
          "scatterternary": [
           {
            "marker": {
             "colorbar": {
              "outlinewidth": 0,
              "ticks": ""
             }
            },
            "type": "scatterternary"
           }
          ],
          "surface": [
           {
            "colorbar": {
             "outlinewidth": 0,
             "ticks": ""
            },
            "colorscale": [
             [
              0,
              "#0d0887"
             ],
             [
              0.1111111111111111,
              "#46039f"
             ],
             [
              0.2222222222222222,
              "#7201a8"
             ],
             [
              0.3333333333333333,
              "#9c179e"
             ],
             [
              0.4444444444444444,
              "#bd3786"
             ],
             [
              0.5555555555555556,
              "#d8576b"
             ],
             [
              0.6666666666666666,
              "#ed7953"
             ],
             [
              0.7777777777777778,
              "#fb9f3a"
             ],
             [
              0.8888888888888888,
              "#fdca26"
             ],
             [
              1,
              "#f0f921"
             ]
            ],
            "type": "surface"
           }
          ],
          "table": [
           {
            "cells": {
             "fill": {
              "color": "#EBF0F8"
             },
             "line": {
              "color": "white"
             }
            },
            "header": {
             "fill": {
              "color": "#C8D4E3"
             },
             "line": {
              "color": "white"
             }
            },
            "type": "table"
           }
          ]
         },
         "layout": {
          "annotationdefaults": {
           "arrowcolor": "#2a3f5f",
           "arrowhead": 0,
           "arrowwidth": 1
          },
          "autotypenumbers": "strict",
          "coloraxis": {
           "colorbar": {
            "outlinewidth": 0,
            "ticks": ""
           }
          },
          "colorscale": {
           "diverging": [
            [
             0,
             "#8e0152"
            ],
            [
             0.1,
             "#c51b7d"
            ],
            [
             0.2,
             "#de77ae"
            ],
            [
             0.3,
             "#f1b6da"
            ],
            [
             0.4,
             "#fde0ef"
            ],
            [
             0.5,
             "#f7f7f7"
            ],
            [
             0.6,
             "#e6f5d0"
            ],
            [
             0.7,
             "#b8e186"
            ],
            [
             0.8,
             "#7fbc41"
            ],
            [
             0.9,
             "#4d9221"
            ],
            [
             1,
             "#276419"
            ]
           ],
           "sequential": [
            [
             0,
             "#0d0887"
            ],
            [
             0.1111111111111111,
             "#46039f"
            ],
            [
             0.2222222222222222,
             "#7201a8"
            ],
            [
             0.3333333333333333,
             "#9c179e"
            ],
            [
             0.4444444444444444,
             "#bd3786"
            ],
            [
             0.5555555555555556,
             "#d8576b"
            ],
            [
             0.6666666666666666,
             "#ed7953"
            ],
            [
             0.7777777777777778,
             "#fb9f3a"
            ],
            [
             0.8888888888888888,
             "#fdca26"
            ],
            [
             1,
             "#f0f921"
            ]
           ],
           "sequentialminus": [
            [
             0,
             "#0d0887"
            ],
            [
             0.1111111111111111,
             "#46039f"
            ],
            [
             0.2222222222222222,
             "#7201a8"
            ],
            [
             0.3333333333333333,
             "#9c179e"
            ],
            [
             0.4444444444444444,
             "#bd3786"
            ],
            [
             0.5555555555555556,
             "#d8576b"
            ],
            [
             0.6666666666666666,
             "#ed7953"
            ],
            [
             0.7777777777777778,
             "#fb9f3a"
            ],
            [
             0.8888888888888888,
             "#fdca26"
            ],
            [
             1,
             "#f0f921"
            ]
           ]
          },
          "colorway": [
           "#636efa",
           "#EF553B",
           "#00cc96",
           "#ab63fa",
           "#FFA15A",
           "#19d3f3",
           "#FF6692",
           "#B6E880",
           "#FF97FF",
           "#FECB52"
          ],
          "font": {
           "color": "#2a3f5f"
          },
          "geo": {
           "bgcolor": "white",
           "lakecolor": "white",
           "landcolor": "#E5ECF6",
           "showlakes": true,
           "showland": true,
           "subunitcolor": "white"
          },
          "hoverlabel": {
           "align": "left"
          },
          "hovermode": "closest",
          "mapbox": {
           "style": "light"
          },
          "paper_bgcolor": "white",
          "plot_bgcolor": "#E5ECF6",
          "polar": {
           "angularaxis": {
            "gridcolor": "white",
            "linecolor": "white",
            "ticks": ""
           },
           "bgcolor": "#E5ECF6",
           "radialaxis": {
            "gridcolor": "white",
            "linecolor": "white",
            "ticks": ""
           }
          },
          "scene": {
           "xaxis": {
            "backgroundcolor": "#E5ECF6",
            "gridcolor": "white",
            "gridwidth": 2,
            "linecolor": "white",
            "showbackground": true,
            "ticks": "",
            "zerolinecolor": "white"
           },
           "yaxis": {
            "backgroundcolor": "#E5ECF6",
            "gridcolor": "white",
            "gridwidth": 2,
            "linecolor": "white",
            "showbackground": true,
            "ticks": "",
            "zerolinecolor": "white"
           },
           "zaxis": {
            "backgroundcolor": "#E5ECF6",
            "gridcolor": "white",
            "gridwidth": 2,
            "linecolor": "white",
            "showbackground": true,
            "ticks": "",
            "zerolinecolor": "white"
           }
          },
          "shapedefaults": {
           "line": {
            "color": "#2a3f5f"
           }
          },
          "ternary": {
           "aaxis": {
            "gridcolor": "white",
            "linecolor": "white",
            "ticks": ""
           },
           "baxis": {
            "gridcolor": "white",
            "linecolor": "white",
            "ticks": ""
           },
           "bgcolor": "#E5ECF6",
           "caxis": {
            "gridcolor": "white",
            "linecolor": "white",
            "ticks": ""
           }
          },
          "title": {
           "x": 0.05
          },
          "xaxis": {
           "automargin": true,
           "gridcolor": "white",
           "linecolor": "white",
           "ticks": "",
           "title": {
            "standoff": 15
           },
           "zerolinecolor": "white",
           "zerolinewidth": 2
          },
          "yaxis": {
           "automargin": true,
           "gridcolor": "white",
           "linecolor": "white",
           "ticks": "",
           "title": {
            "standoff": 15
           },
           "zerolinecolor": "white",
           "zerolinewidth": 2
          }
         }
        },
        "title": {
         "text": "Normalized Confusion Matrix"
        },
        "width": 1000,
        "xaxis": {
         "title": {
          "text": "Predicted Label"
         }
        },
        "yaxis": {
         "title": {
          "text": "True Label"
         }
        }
       }
      }
     },
     "metadata": {},
     "output_type": "display_data"
    }
   ],
   "source": [
    "import torch\n",
    "import numpy as np\n",
    "from sklearn.metrics import classification_report, confusion_matrix\n",
    "import plotly.graph_objects as go\n",
    "from tqdm import tqdm\n",
    "\n",
    "def evaluate(model, test_data):\n",
    "    model.eval() \n",
    "    test = Dataset(test_data)\n",
    "    test_dataloader = torch.utils.data.DataLoader(test, batch_size=8)\n",
    "    \n",
    "    predictions_labels = []\n",
    "    true_labels = []\n",
    "    total_acc_test = 0\n",
    "    \n",
    "    with torch.no_grad():\n",
    "        for test_input, test_label in tqdm(test_dataloader):\n",
    "            test_label = test_label.to(device)  \n",
    "            mask = test_input['attention_mask'].squeeze(1).to(device) \n",
    "            input_id = test_input['input_ids'].squeeze(1).to(device)  \n",
    "\n",
    "            outputs = model(input_ids=input_id, attention_mask=mask, labels=test_label)  \n",
    "            logits = outputs.logits\n",
    "\n",
    "            acc = (logits.argmax(dim=1) == test_label).sum().item()\n",
    "            total_acc_test += acc\n",
    "            \n",
    "            true_labels += test_label.cpu().numpy().flatten().tolist()\n",
    "            predictions_labels += logits.argmax(dim=1).cpu().numpy().flatten().tolist()\n",
    "    \n",
    "    accuracy = total_acc_test / len(test_data)\n",
    "    print(f'Test Accuracy: {accuracy: .3f}')\n",
    "    \n",
    "    print(\"\\nClassification Report:\")\n",
    "    print(classification_report(true_labels, predictions_labels, target_names=unique_labels))\n",
    "\n",
    "    cm = confusion_matrix(true_labels, predictions_labels)\n",
    "\n",
    "    cm_normalized = cm.astype('float') / cm.sum(axis=1)[:, np.newaxis]\n",
    "\n",
    "    cm_text = np.around(cm_normalized, decimals=2).astype(str)\n",
    "\n",
    "    fig = go.Figure(data=go.Heatmap(\n",
    "        z=cm_normalized,\n",
    "        x=unique_labels,  \n",
    "        y=unique_labels, \n",
    "        text=cm_text,  \n",
    "        texttemplate=\"%{text}\",  \n",
    "        hoverongaps=False,\n",
    "        colorscale='Viridis', \n",
    "        zmin=0, zmax=1\n",
    "    ))\n",
    "\n",
    "    fig.update_layout(\n",
    "        title='Normalized Confusion Matrix',\n",
    "        xaxis=dict(title='Predicted Label'),\n",
    "        yaxis=dict(title='True Label'),\n",
    "        margin=dict(l=50, r=50, t=50, b=50),\n",
    "        height=1000, width=1000\n",
    "    )\n",
    "\n",
    "    fig.show()\n",
    "\n",
    "    return true_labels, predictions_labels\n",
    "\n",
    "if torch.backends.mps.is_available():\n",
    "    device = torch.device(\"mps\")\n",
    "elif torch.cuda.is_available():\n",
    "    device = torch.device(\"cuda\")\n",
    "else:\n",
    "    device = torch.device(\"cpu\")\n",
    "\n",
    "model.to(device)\n",
    "\n",
    "true_labels, pred_labels = evaluate(model, df_test)\n"
   ]
  },
  {
   "cell_type": "markdown",
   "metadata": {},
   "source": [
    "# Comparing GPT2 and Bert"
   ]
  },
  {
   "cell_type": "code",
   "execution_count": 15,
   "metadata": {},
   "outputs": [
    {
     "data": {
      "image/png": "[encoded data removed]",
      "text/plain": [
       "<Figure size 1200x600 with 1 Axes>"
      ]
     },
     "metadata": {},
     "output_type": "display_data"
    }
   ],
   "source": [
    "import matplotlib.pyplot as plt\n",
    "import numpy as np\n",
    "\n",
    "# Categories and precision scores for both models\n",
    "categories = ['beer', 'spirits', 'wine', 'juice', 'tea', 'deli', 'baked goods', 'dairy', 'meat', \n",
    "              'seafood', 'fresh produce', 'frozen food', 'pantry']\n",
    "\n",
    "gpt2_precision = [0.95, 0.91, 0.95, 0.91, 0.9, 0.69, 0.86, 0.94, 0.91, 0.83, 0.92, 0.80, 0.93]\n",
    "bert_precision = [0.95, 0.94, 0.88, 0.94, 0.96, 0.64, 0.64, 0.81, 0.90, 0.85, 0.90, 0.79, 0.67]\n",
    "\n",
    "bar_width = 0.35\n",
    "index = np.arange(len(categories))\n",
    "\n",
    "plt.figure(figsize=(12, 6))\n",
    "plt.bar(index, gpt2_precision, bar_width, label='GPT-2', color='blue')\n",
    "plt.bar(index + bar_width, bert_precision, bar_width, label='BERT', color='orange')\n",
    "\n",
    "plt.xlabel('Category')\n",
    "plt.ylabel('Precision Score')\n",
    "plt.title('Precision Scores by Category for GPT-2 and BERT Models')\n",
    "plt.xticks(index + bar_width / 2, categories, rotation=45)\n",
    "plt.ylim(0, 1)\n",
    "plt.legend()\n",
    "\n",
    "plt.tight_layout()\n",
    "plt.show()\n"
   ]
  },
  {
   "cell_type": "code",
   "execution_count": 21,
   "metadata": {},
   "outputs": [
    {
     "data": {
      "application/vnd.plotly.v1+json": {
       "config": {
        "plotlyServerURL": "https://plot.ly"
       },
       "data": [
        {
         "marker": {
          "color": "blue"
         },
         "name": "GPT-2",
         "type": "bar",
         "x": [
          "beer",
          "spirits",
          "wine",
          "juice",
          "tea",
          "deli",
          "baked goods",
          "dairy",
          "meat",
          "seafood",
          "fresh produce",
          "frozen food",
          "pantry"
         ],
         "y": [
          0.95,
          0.91,
          0.95,
          0.91,
          0.9,
          0.69,
          0.86,
          0.94,
          0.91,
          0.83,
          0.92,
          0.8,
          0.93
         ]
        },
        {
         "marker": {
          "color": "orange"
         },
         "name": "BERT Uncased",
         "type": "bar",
         "x": [
          "beer",
          "spirits",
          "wine",
          "juice",
          "tea",
          "deli",
          "baked goods",
          "dairy",
          "meat",
          "seafood",
          "fresh produce",
          "frozen food",
          "pantry"
         ],
         "y": [
          0.95,
          0.94,
          0.88,
          0.94,
          0.96,
          0.64,
          0.64,
          0.81,
          0.9,
          0.85,
          0.9,
          0.79,
          0.67
         ]
        }
       ],
       "layout": {
        "barmode": "group",
        "height": 800,
        "legend": {
         "font": {
          "size": 16
         },
         "x": 0.8,
         "y": 1.2
        },
        "margin": {
         "b": 100,
         "l": 100,
         "r": 100,
         "t": 100
        },
        "template": {
         "data": {
          "bar": [
           {
            "error_x": {
             "color": "#2a3f5f"
            },
            "error_y": {
             "color": "#2a3f5f"
            },
            "marker": {
             "line": {
              "color": "#E5ECF6",
              "width": 0.5
             },
             "pattern": {
              "fillmode": "overlay",
              "size": 10,
              "solidity": 0.2
             }
            },
            "type": "bar"
           }
          ],
          "barpolar": [
           {
            "marker": {
             "line": {
              "color": "#E5ECF6",
              "width": 0.5
             },
             "pattern": {
              "fillmode": "overlay",
              "size": 10,
              "solidity": 0.2
             }
            },
            "type": "barpolar"
           }
          ],
          "carpet": [
           {
            "aaxis": {
             "endlinecolor": "#2a3f5f",
             "gridcolor": "white",
             "linecolor": "white",
             "minorgridcolor": "white",
             "startlinecolor": "#2a3f5f"
            },
            "baxis": {
             "endlinecolor": "#2a3f5f",
             "gridcolor": "white",
             "linecolor": "white",
             "minorgridcolor": "white",
             "startlinecolor": "#2a3f5f"
            },
            "type": "carpet"
           }
          ],
          "choropleth": [
           {
            "colorbar": {
             "outlinewidth": 0,
             "ticks": ""
            },
            "type": "choropleth"
           }
          ],
          "contour": [
           {
            "colorbar": {
             "outlinewidth": 0,
             "ticks": ""
            },
            "colorscale": [
             [
              0,
              "#0d0887"
             ],
             [
              0.1111111111111111,
              "#46039f"
             ],
             [
              0.2222222222222222,
              "#7201a8"
             ],
             [
              0.3333333333333333,
              "#9c179e"
             ],
             [
              0.4444444444444444,
              "#bd3786"
             ],
             [
              0.5555555555555556,
              "#d8576b"
             ],
             [
              0.6666666666666666,
              "#ed7953"
             ],
             [
              0.7777777777777778,
              "#fb9f3a"
             ],
             [
              0.8888888888888888,
              "#fdca26"
             ],
             [
              1,
              "#f0f921"
             ]
            ],
            "type": "contour"
           }
          ],
          "contourcarpet": [
           {
            "colorbar": {
             "outlinewidth": 0,
             "ticks": ""
            },
            "type": "contourcarpet"
           }
          ],
          "heatmap": [
           {
            "colorbar": {
             "outlinewidth": 0,
             "ticks": ""
            },
            "colorscale": [
             [
              0,
              "#0d0887"
             ],
             [
              0.1111111111111111,
              "#46039f"
             ],
             [
              0.2222222222222222,
              "#7201a8"
             ],
             [
              0.3333333333333333,
              "#9c179e"
             ],
             [
              0.4444444444444444,
              "#bd3786"
             ],
             [
              0.5555555555555556,
              "#d8576b"
             ],
             [
              0.6666666666666666,
              "#ed7953"
             ],
             [
              0.7777777777777778,
              "#fb9f3a"
             ],
             [
              0.8888888888888888,
              "#fdca26"
             ],
             [
              1,
              "#f0f921"
             ]
            ],
            "type": "heatmap"
           }
          ],
          "heatmapgl": [
           {
            "colorbar": {
             "outlinewidth": 0,
             "ticks": ""
            },
            "colorscale": [
             [
              0,
              "#0d0887"
             ],
             [
              0.1111111111111111,
              "#46039f"
             ],
             [
              0.2222222222222222,
              "#7201a8"
             ],
             [
              0.3333333333333333,
              "#9c179e"
             ],
             [
              0.4444444444444444,
              "#bd3786"
             ],
             [
              0.5555555555555556,
              "#d8576b"
             ],
             [
              0.6666666666666666,
              "#ed7953"
             ],
             [
              0.7777777777777778,
              "#fb9f3a"
             ],
             [
              0.8888888888888888,
              "#fdca26"
             ],
             [
              1,
              "#f0f921"
             ]
            ],
            "type": "heatmapgl"
           }
          ],
          "histogram": [
           {
            "marker": {
             "pattern": {
              "fillmode": "overlay",
              "size": 10,
              "solidity": 0.2
             }
            },
            "type": "histogram"
           }
          ],
          "histogram2d": [
           {
            "colorbar": {
             "outlinewidth": 0,
             "ticks": ""
            },
            "colorscale": [
             [
              0,
              "#0d0887"
             ],
             [
              0.1111111111111111,
              "#46039f"
             ],
             [
              0.2222222222222222,
              "#7201a8"
             ],
             [
              0.3333333333333333,
              "#9c179e"
             ],
             [
              0.4444444444444444,
              "#bd3786"
             ],
             [
              0.5555555555555556,
              "#d8576b"
             ],
             [
              0.6666666666666666,
              "#ed7953"
             ],
             [
              0.7777777777777778,
              "#fb9f3a"
             ],
             [
              0.8888888888888888,
              "#fdca26"
             ],
             [
              1,
              "#f0f921"
             ]
            ],
            "type": "histogram2d"
           }
          ],
          "histogram2dcontour": [
           {
            "colorbar": {
             "outlinewidth": 0,
             "ticks": ""
            },
            "colorscale": [
             [
              0,
              "#0d0887"
             ],
             [
              0.1111111111111111,
              "#46039f"
             ],
             [
              0.2222222222222222,
              "#7201a8"
             ],
             [
              0.3333333333333333,
              "#9c179e"
             ],
             [
              0.4444444444444444,
              "#bd3786"
             ],
             [
              0.5555555555555556,
              "#d8576b"
             ],
             [
              0.6666666666666666,
              "#ed7953"
             ],
             [
              0.7777777777777778,
              "#fb9f3a"
             ],
             [
              0.8888888888888888,
              "#fdca26"
             ],
             [
              1,
              "#f0f921"
             ]
            ],
            "type": "histogram2dcontour"
           }
          ],
          "mesh3d": [
           {
            "colorbar": {
             "outlinewidth": 0,
             "ticks": ""
            },
            "type": "mesh3d"
           }
          ],
          "parcoords": [
           {
            "line": {
             "colorbar": {
              "outlinewidth": 0,
              "ticks": ""
             }
            },
            "type": "parcoords"
           }
          ],
          "pie": [
           {
            "automargin": true,
            "type": "pie"
           }
          ],
          "scatter": [
           {
            "fillpattern": {
             "fillmode": "overlay",
             "size": 10,
             "solidity": 0.2
            },
            "type": "scatter"
           }
          ],
          "scatter3d": [
           {
            "line": {
             "colorbar": {
              "outlinewidth": 0,
              "ticks": ""
             }
            },
            "marker": {
             "colorbar": {
              "outlinewidth": 0,
              "ticks": ""
             }
            },
            "type": "scatter3d"
           }
          ],
          "scattercarpet": [
           {
            "marker": {
             "colorbar": {
              "outlinewidth": 0,
              "ticks": ""
             }
            },
            "type": "scattercarpet"
           }
          ],
          "scattergeo": [
           {
            "marker": {
             "colorbar": {
              "outlinewidth": 0,
              "ticks": ""
             }
            },
            "type": "scattergeo"
           }
          ],
          "scattergl": [
           {
            "marker": {
             "colorbar": {
              "outlinewidth": 0,
              "ticks": ""
             }
            },
            "type": "scattergl"
           }
          ],
          "scattermapbox": [
           {
            "marker": {
             "colorbar": {
              "outlinewidth": 0,
              "ticks": ""
             }
            },
            "type": "scattermapbox"
           }
          ],
          "scatterpolar": [
           {
            "marker": {
             "colorbar": {
              "outlinewidth": 0,
              "ticks": ""
             }
            },
            "type": "scatterpolar"
           }
          ],
          "scatterpolargl": [
           {
            "marker": {
             "colorbar": {
              "outlinewidth": 0,
              "ticks": ""
             }
            },
            "type": "scatterpolargl"
           }
          ],
          "scatterternary": [
           {
            "marker": {
             "colorbar": {
              "outlinewidth": 0,
              "ticks": ""
             }
            },
            "type": "scatterternary"
           }
          ],
          "surface": [
           {
            "colorbar": {
             "outlinewidth": 0,
             "ticks": ""
            },
            "colorscale": [
             [
              0,
              "#0d0887"
             ],
             [
              0.1111111111111111,
              "#46039f"
             ],
             [
              0.2222222222222222,
              "#7201a8"
             ],
             [
              0.3333333333333333,
              "#9c179e"
             ],
             [
              0.4444444444444444,
              "#bd3786"
             ],
             [
              0.5555555555555556,
              "#d8576b"
             ],
             [
              0.6666666666666666,
              "#ed7953"
             ],
             [
              0.7777777777777778,
              "#fb9f3a"
             ],
             [
              0.8888888888888888,
              "#fdca26"
             ],
             [
              1,
              "#f0f921"
             ]
            ],
            "type": "surface"
           }
          ],
          "table": [
           {
            "cells": {
             "fill": {
              "color": "#EBF0F8"
             },
             "line": {
              "color": "white"
             }
            },
            "header": {
             "fill": {
              "color": "#C8D4E3"
             },
             "line": {
              "color": "white"
             }
            },
            "type": "table"
           }
          ]
         },
         "layout": {
          "annotationdefaults": {
           "arrowcolor": "#2a3f5f",
           "arrowhead": 0,
           "arrowwidth": 1
          },
          "autotypenumbers": "strict",
          "coloraxis": {
           "colorbar": {
            "outlinewidth": 0,
            "ticks": ""
           }
          },
          "colorscale": {
           "diverging": [
            [
             0,
             "#8e0152"
            ],
            [
             0.1,
             "#c51b7d"
            ],
            [
             0.2,
             "#de77ae"
            ],
            [
             0.3,
             "#f1b6da"
            ],
            [
             0.4,
             "#fde0ef"
            ],
            [
             0.5,
             "#f7f7f7"
            ],
            [
             0.6,
             "#e6f5d0"
            ],
            [
             0.7,
             "#b8e186"
            ],
            [
             0.8,
             "#7fbc41"
            ],
            [
             0.9,
             "#4d9221"
            ],
            [
             1,
             "#276419"
            ]
           ],
           "sequential": [
            [
             0,
             "#0d0887"
            ],
            [
             0.1111111111111111,
             "#46039f"
            ],
            [
             0.2222222222222222,
             "#7201a8"
            ],
            [
             0.3333333333333333,
             "#9c179e"
            ],
            [
             0.4444444444444444,
             "#bd3786"
            ],
            [
             0.5555555555555556,
             "#d8576b"
            ],
            [
             0.6666666666666666,
             "#ed7953"
            ],
            [
             0.7777777777777778,
             "#fb9f3a"
            ],
            [
             0.8888888888888888,
             "#fdca26"
            ],
            [
             1,
             "#f0f921"
            ]
           ],
           "sequentialminus": [
            [
             0,
             "#0d0887"
            ],
            [
             0.1111111111111111,
             "#46039f"
            ],
            [
             0.2222222222222222,
             "#7201a8"
            ],
            [
             0.3333333333333333,
             "#9c179e"
            ],
            [
             0.4444444444444444,
             "#bd3786"
            ],
            [
             0.5555555555555556,
             "#d8576b"
            ],
            [
             0.6666666666666666,
             "#ed7953"
            ],
            [
             0.7777777777777778,
             "#fb9f3a"
            ],
            [
             0.8888888888888888,
             "#fdca26"
            ],
            [
             1,
             "#f0f921"
            ]
           ]
          },
          "colorway": [
           "#636efa",
           "#EF553B",
           "#00cc96",
           "#ab63fa",
           "#FFA15A",
           "#19d3f3",
           "#FF6692",
           "#B6E880",
           "#FF97FF",
           "#FECB52"
          ],
          "font": {
           "color": "#2a3f5f"
          },
          "geo": {
           "bgcolor": "white",
           "lakecolor": "white",
           "landcolor": "#E5ECF6",
           "showlakes": true,
           "showland": true,
           "subunitcolor": "white"
          },
          "hoverlabel": {
           "align": "left"
          },
          "hovermode": "closest",
          "mapbox": {
           "style": "light"
          },
          "paper_bgcolor": "white",
          "plot_bgcolor": "#E5ECF6",
          "polar": {
           "angularaxis": {
            "gridcolor": "white",
            "linecolor": "white",
            "ticks": ""
           },
           "bgcolor": "#E5ECF6",
           "radialaxis": {
            "gridcolor": "white",
            "linecolor": "white",
            "ticks": ""
           }
          },
          "scene": {
           "xaxis": {
            "backgroundcolor": "#E5ECF6",
            "gridcolor": "white",
            "gridwidth": 2,
            "linecolor": "white",
            "showbackground": true,
            "ticks": "",
            "zerolinecolor": "white"
           },
           "yaxis": {
            "backgroundcolor": "#E5ECF6",
            "gridcolor": "white",
            "gridwidth": 2,
            "linecolor": "white",
            "showbackground": true,
            "ticks": "",
            "zerolinecolor": "white"
           },
           "zaxis": {
            "backgroundcolor": "#E5ECF6",
            "gridcolor": "white",
            "gridwidth": 2,
            "linecolor": "white",
            "showbackground": true,
            "ticks": "",
            "zerolinecolor": "white"
           }
          },
          "shapedefaults": {
           "line": {
            "color": "#2a3f5f"
           }
          },
          "ternary": {
           "aaxis": {
            "gridcolor": "white",
            "linecolor": "white",
            "ticks": ""
           },
           "baxis": {
            "gridcolor": "white",
            "linecolor": "white",
            "ticks": ""
           },
           "bgcolor": "#E5ECF6",
           "caxis": {
            "gridcolor": "white",
            "linecolor": "white",
            "ticks": ""
           }
          },
          "title": {
           "x": 0.05
          },
          "xaxis": {
           "automargin": true,
           "gridcolor": "white",
           "linecolor": "white",
           "ticks": "",
           "title": {
            "standoff": 15
           },
           "zerolinecolor": "white",
           "zerolinewidth": 2
          },
          "yaxis": {
           "automargin": true,
           "gridcolor": "white",
           "linecolor": "white",
           "ticks": "",
           "title": {
            "standoff": 15
           },
           "zerolinecolor": "white",
           "zerolinewidth": 2
          }
         }
        },
        "title": {
         "font": {
          "size": 24
         },
         "text": "Precision Scores by Category for GPT-2 and BERT Uncased Models"
        },
        "width": 1600,
        "xaxis": {
         "tickangle": -45,
         "tickfont": {
          "size": 14
         },
         "title": {
          "font": {
           "size": 18
          },
          "text": "Category"
         }
        },
        "yaxis": {
         "range": [
          0,
          1
         ],
         "tickfont": {
          "size": 14
         },
         "title": {
          "font": {
           "size": 18
          },
          "text": "Precision Score"
         }
        }
       }
      }
     },
     "metadata": {},
     "output_type": "display_data"
    }
   ],
   "source": [
    "import plotly.graph_objects as go\n",
    "\n",
    "fig = go.Figure()\n",
    "\n",
    "fig.add_trace(go.Bar(\n",
    "    x=categories,\n",
    "    y=gpt2_precision,\n",
    "    name='GPT-2',\n",
    "    marker_color='blue'\n",
    "))\n",
    "\n",
    "fig.add_trace(go.Bar(\n",
    "    x=categories,\n",
    "    y=bert_precision,\n",
    "    name='BERT Uncased',\n",
    "    marker_color='orange'\n",
    "))\n",
    "\n",
    "fig.update_layout(\n",
    "    title='Precision Scores by Category for GPT-2 and BERT Uncased Models',\n",
    "    title_font_size=24,  \n",
    "    xaxis_title='Category',\n",
    "    xaxis_title_font_size=18, \n",
    "    yaxis_title='Precision Score',\n",
    "    yaxis_title_font_size=18,  \n",
    "    barmode='group',\n",
    "    xaxis_tickangle=-45,\n",
    "    xaxis_tickfont_size=14,  \n",
    "    yaxis_tickfont_size=14,  \n",
    "    yaxis_range=[0, 1],\n",
    "    legend=dict(x=0.8, y=1.2, font_size=16),  \n",
    "    width=1600, \n",
    "    height=800, \n",
    "    margin=dict(l=100, r=100, t=100, b=100)  \n",
    ")\n",
    "\n",
    "\n",
    "fig.show()\n"
   ]
  },
  {
   "cell_type": "code",
   "execution_count": null,
   "metadata": {},
   "outputs": [],
   "source": []
  }
 ],
 "metadata": {
  "kernelspec": {
   "display_name": ".erdos",
   "language": "python",
   "name": "python3"
  },
  "language_info": {
   "codemirror_mode": {
    "name": "ipython",
    "version": 3
   },
   "file_extension": ".py",
   "mimetype": "text/x-python",
   "name": "python",
   "nbconvert_exporter": "python",
   "pygments_lexer": "ipython3",
   "version": "3.11.7"
  }
 },
 "nbformat": 4,
 "nbformat_minor": 2
}
