{
 "cells": [
  {
   "cell_type": "code",
   "execution_count": 1,
   "metadata": {},
   "outputs": [],
   "source": [
    "from scrape import url_soup\n",
    "from scrape import crawl_type\n",
    "from functools import reduce\n",
    "import numpy as np\n"
   ]
  },
  {
   "cell_type": "code",
   "execution_count": 2,
   "metadata": {},
   "outputs": [],
   "source": [
    "def unique(list1):\n",
    "\n",
    "    # Print directly by using * symbol\n",
    "    return reduce(lambda re, x: re+[x] if x not in re else re, list1, [])\n"
   ]
  },
  {
   "cell_type": "code",
   "execution_count": 3,
   "metadata": {},
   "outputs": [
    {
     "data": {
      "text/plain": [
       "['316-food',\n",
       " '243-beverages',\n",
       " '2-alcohol',\n",
       " '2964-automotive',\n",
       " '1728-baby',\n",
       " '1484-beauty',\n",
       " '2720-apparel',\n",
       " '1772-electronics',\n",
       " '4041-floral',\n",
       " '2739-furniture',\n",
       " '1662-health-care',\n",
       " '1779-home-and-garden',\n",
       " '1361-household-essentials',\n",
       " '1805-ice',\n",
       " '1764-office-supplies',\n",
       " '1790-party-and-occasions',\n",
       " '1602-personal-care',\n",
       " '1447-pet-care',\n",
       " '1776-sports-and-outdoors',\n",
       " '4270-craft-and-hobby',\n",
       " '4471-books-newspapers-and-magazines',\n",
       " '4619-home-improvement-and-hardware',\n",
       " '5059-toys-and-games']"
      ]
     },
     "execution_count": 3,
     "metadata": {},
     "output_type": "execute_result"
    }
   ],
   "source": [
    "your_url = 'https://www.instacart.com/categories/316-food/'\n",
    "test_sp = url_soup(your_url)\n",
    "cat_spl = [f.split('/') for f in test_sp.get_a_hrefs('categories/')]\n",
    "uni_cats = unique([f[f.index('categories')+1].split('?')[0] for f in cat_spl])\n",
    "uni_cats"
   ]
  },
  {
   "cell_type": "code",
   "execution_count": 15,
   "metadata": {},
   "outputs": [
    {
     "data": {
      "text/plain": [
       "['https://www.instacart.com/categories/316-food/844-pantry',\n",
       " 'https://www.instacart.com/categories/316-food/1974-seafood',\n",
       " 'https://www.instacart.com/categories/316-food/1300-baked-goods',\n",
       " 'https://www.instacart.com/categories/316-food/1326-dairy',\n",
       " 'https://www.instacart.com/categories/316-food/317-fresh-produce',\n",
       " 'https://www.instacart.com/categories/316-food/1268-deli',\n",
       " 'https://www.instacart.com/categories/316-food/627-frozen-food',\n",
       " 'https://www.instacart.com/categories/316-food/1807-meat',\n",
       " 'https://www.instacart.com/categories/316-food/831-meat-alternatives',\n",
       " 'https://www.instacart.com/categories/316-food/5273-ready-to-cook-meals']"
      ]
     },
     "execution_count": 15,
     "metadata": {},
     "output_type": "execute_result"
    }
   ],
   "source": [
    "# your_url = 'https://www.instacart.com/categories/2-alcohol/'\n",
    "# your_url = 'https://www.instacart.com/categories/243-beverages/'\n",
    "your_url = 'https://www.instacart.com/categories/316-food/'\n",
    "test_sp = url_soup(your_url)\n",
    "sub_types = unique(test_sp.get_cont_hrefs())\n",
    "sub_types"
   ]
  },
  {
   "cell_type": "code",
   "execution_count": 16,
   "metadata": {},
   "outputs": [
    {
     "name": "stdout",
     "output_type": "stream",
     "text": [
      "2024-08-09 01:33:57.024342 there are 17 child pages in https://www.instacart.com/categories/316-food/844-pantry\n",
      "2024-08-09 01:33:57.874710 there are 3 child pages in b-0\n",
      "2024-08-09 01:34:05.777969 there are 6 child pages in b-1\n",
      "2024-08-09 01:34:19.467671 there are 17 child pages in b-2\n",
      "2024-08-09 01:34:49.800079 there are 8 child pages in b-2-15\n",
      "2024-08-09 01:35:09.098145 there are 17 child pages in b-3\n",
      "2024-08-09 01:35:45.226283 there are 6 child pages in b-4\n",
      "2024-08-09 01:35:58.856618 there are 25 child pages in b-5\n",
      "2024-08-09 01:36:01.845014 there are 5 child pages in b-5-1\n",
      "2024-08-09 01:36:34.678887 there are 3 child pages in b-5-12\n",
      "2024-08-09 01:36:45.737723 there are 14 child pages in b-5-15\n",
      "2024-08-09 01:37:15.831280 there are 37 child pages in b-5-17\n",
      "2024-08-09 01:37:46.689216 there are 11 child pages in b-5-17-16\n",
      "2024-08-09 01:39:01.549071 there are 6 child pages in b-6\n",
      "2024-08-09 01:39:12.477721 there are 5 child pages in b-6-5\n",
      "2024-08-09 01:39:25.043644 there are 9 child pages in b-7\n",
      "2024-08-09 01:39:45.769269 there are 8 child pages in b-8\n",
      "2024-08-09 01:40:04.185410 there are 11 child pages in b-9\n",
      "2024-08-09 01:40:05.031656 there are 12 child pages in b-9-0\n",
      "2024-08-09 01:40:33.420580 there are 15 child pages in b-9-3\n",
      "2024-08-09 01:41:02.933118 there are 1 child pages in b-9-4\n",
      "2024-08-09 01:41:06.516835 there are 5 child pages in b-9-5\n",
      "2024-08-09 01:41:18.094455 there are 14 child pages in b-9-6\n",
      "2024-08-09 01:41:44.742517 there are 6 child pages in b-9-7\n",
      "2024-08-09 01:41:57.498353 there are 23 child pages in b-9-8\n",
      "2024-08-09 01:42:31.906845 there are 5 child pages in b-9-8-19\n",
      "2024-08-09 01:42:53.846456 there are 19 child pages in b-10\n",
      "2024-08-09 01:42:54.851555 there are 14 child pages in b-10-0\n",
      "2024-08-09 01:43:25.717876 there are 14 child pages in b-10-2\n",
      "2024-08-09 01:44:04.169432 there are 18 child pages in b-10-8\n",
      "2024-08-09 01:44:51.020424 there are 7 child pages in b-10-15\n",
      "2024-08-09 01:45:12.903156 there are 29 child pages in b-11\n",
      "2024-08-09 01:46:13.055736 there are 20 child pages in b-12\n",
      "2024-08-09 01:46:14.092966 there are 11 child pages in b-12-0\n",
      "2024-08-09 01:46:39.730739 there are 7 child pages in b-12-3\n",
      "2024-08-09 01:46:55.770681 there are 11 child pages in b-12-5\n",
      "2024-08-09 01:46:56.536327 there are 5 child pages in b-12-5-0\n",
      "2024-08-09 01:47:30.867891 there are 13 child pages in b-12-8\n",
      "2024-08-09 01:47:55.583036 there are 18 child pages in b-12-9\n",
      "2024-08-09 01:48:31.276518 there are 22 child pages in b-12-10\n",
      "2024-08-09 01:49:15.711277 there are 5 child pages in b-12-12\n",
      "2024-08-09 01:49:26.547274 there are 8 child pages in b-12-13\n",
      "2024-08-09 01:49:37.658916 there are 14 child pages in b-12-13-5\n",
      "2024-08-09 01:50:05.257994 there are 43 child pages in b-12-13-6\n",
      "2024-08-09 01:51:28.099344 there are 7 child pages in b-12-15\n",
      "2024-08-09 01:51:45.867223 there are 13 child pages in b-12-17\n",
      "2024-08-09 01:52:13.042237 there are 7 child pages in b-12-19\n",
      "2024-08-09 01:52:28.730010 there are 9 child pages in b-13\n",
      "2024-08-09 01:52:48.916837 there are 26 child pages in b-14\n",
      "2024-08-09 01:53:42.483163 there are 14 child pages in b-15\n",
      "2024-08-09 01:54:11.793903 there are 4 child pages in b-16\n",
      "2024-08-09 01:54:19.024719 there are 5 child pages in b-16-3\n",
      "2024-08-09 01:54:30.462693 there are 6 child pages in https://www.instacart.com/categories/316-food/1974-seafood\n",
      "2024-08-09 01:54:31.333933 there are 42 child pages in b-0\n",
      "2024-08-09 01:54:34.177493 there are 3 child pages in b-0-1\n",
      "2024-08-09 01:54:41.920760 there are 3 child pages in b-0-2\n",
      "2024-08-09 01:54:51.450951 there are 1 child pages in b-0-4\n",
      "2024-08-09 01:54:54.940109 there are 2 child pages in b-0-5\n",
      "2024-08-09 01:55:00.510925 there are 1 child pages in b-0-6\n",
      "2024-08-09 01:55:04.262383 there are 3 child pages in b-0-7\n",
      "2024-08-09 01:55:11.334676 there are 3 child pages in b-0-8\n",
      "2024-08-09 01:55:18.736533 there are 3 child pages in b-0-9\n",
      "2024-08-09 01:55:26.028283 there are 3 child pages in b-0-10\n",
      "2024-08-09 01:55:33.776126 there are 2 child pages in b-0-11\n",
      "2024-08-09 01:55:38.997025 there are 5 child pages in b-0-12\n",
      "2024-08-09 01:55:50.207746 there are 3 child pages in b-0-13\n",
      "2024-08-09 01:55:57.237801 there are 2 child pages in b-0-14\n",
      "2024-08-09 01:56:02.652866 there are 2 child pages in b-0-15\n",
      "2024-08-09 01:56:08.213322 there are 2 child pages in b-0-16\n",
      "2024-08-09 01:56:13.708915 there are 3 child pages in b-0-17\n",
      "2024-08-09 01:56:21.304005 there are 4 child pages in b-0-18\n",
      "2024-08-09 01:56:32.443428 there are 3 child pages in b-0-20\n",
      "2024-08-09 01:56:41.626281 there are 1 child pages in b-0-22\n",
      "2024-08-09 01:56:45.113141 there are 3 child pages in b-0-23\n",
      "2024-08-09 01:56:52.374988 there are 2 child pages in b-0-24\n",
      "2024-08-09 01:57:31.968426 there are 11 child pages in b-1\n",
      "2024-08-09 01:57:36.984028 there are 5 child pages in b-1-2\n",
      "2024-08-09 01:57:49.871954 there are 2 child pages in b-1-4\n",
      "2024-08-09 01:58:15.950034 there are 6 child pages in https://www.instacart.com/categories/316-food/1300-baked-goods\n",
      "2024-08-09 01:58:16.909030 there are 18 child pages in b-0\n",
      "2024-08-09 01:58:55.081635 there are 15 child pages in b-1\n",
      "2024-08-09 01:58:58.052261 there are 9 child pages in b-1-1\n",
      "2024-08-09 01:59:16.889489 there are 13 child pages in b-1-2\n",
      "2024-08-09 01:59:45.124379 there are 8 child pages in b-1-4\n",
      "2024-08-09 02:00:02.428777 there are 4 child pages in b-1-5\n",
      "2024-08-09 02:00:30.336264 there are 8 child pages in b-2\n",
      "2024-08-09 02:00:47.907534 there are 5 child pages in b-3\n",
      "2024-08-09 02:01:00.163862 there are 14 child pages in b-4\n",
      "2024-08-09 02:01:30.994205 there are 5 child pages in b-5\n",
      "2024-08-09 02:01:42.749303 there are 11 child pages in https://www.instacart.com/categories/316-food/1326-dairy\n",
      "2024-08-09 02:01:43.625482 there are 3 child pages in b-0\n",
      "2024-08-09 02:01:44.572410 there are 3 child pages in b-0-0\n",
      "2024-08-09 02:01:58.680603 there are 72 child pages in b-2\n",
      "2024-08-09 02:04:23.082823 there are 2 child pages in b-3\n",
      "2024-08-09 02:04:31.008417 there are 3 child pages in b-5\n",
      "2024-08-09 02:04:40.795202 there are 6 child pages in b-7\n",
      "2024-08-09 02:04:45.723205 there are 5 child pages in b-7-2\n",
      "2024-08-09 02:04:58.221450 there are 11 child pages in b-7-4\n",
      "2024-08-09 02:05:22.456283 there are 6 child pages in b-8\n",
      "2024-08-09 02:05:36.496451 there are 4 child pages in b-9\n",
      "2024-08-09 02:05:46.738127 there are 4 child pages in b-10\n",
      "2024-08-09 02:05:56.707538 there are 2 child pages in https://www.instacart.com/categories/316-food/317-fresh-produce\n",
      "2024-08-09 02:05:57.690451 there are 39 child pages in b-0\n",
      "2024-08-09 02:06:04.432740 there are 30 child pages in b-0-3\n",
      "2024-08-09 02:07:01.080807 there are 4 child pages in b-0-5\n",
      "2024-08-09 02:07:09.876049 there are 3 child pages in b-0-6\n",
      "2024-08-09 02:07:24.728246 there are 19 child pages in b-0-11\n",
      "2024-08-09 02:07:29.033339 there are 3 child pages in b-0-11-2\n",
      "2024-08-09 02:07:53.511081 there are 3 child pages in b-0-11-13\n",
      "2024-08-09 02:08:10.660956 there are 3 child pages in b-0-12\n",
      "2024-08-09 02:08:19.538830 there are 2 child pages in b-0-14\n",
      "2024-08-09 02:08:30.465360 there are 2 child pages in b-0-18\n",
      "2024-08-09 02:08:35.759783 there are 15 child pages in b-0-19\n",
      "2024-08-09 02:09:08.813282 there are 6 child pages in b-0-22\n",
      "2024-08-09 02:09:24.646767 there are 78 child pages in b-0-25\n",
      "2024-08-09 02:11:41.877257 there are 6 child pages in b-0-26\n",
      "2024-08-09 02:11:56.970207 there are 3 child pages in b-0-28\n",
      "2024-08-09 02:12:04.138296 there are 10 child pages in b-0-29\n",
      "2024-08-09 02:12:25.791777 there are 11 child pages in b-0-31\n",
      "2024-08-09 02:12:26.420623 there are 3 child pages in b-0-31-0\n",
      "2024-08-09 02:12:33.022477 there are 7 child pages in b-0-31-1\n",
      "2024-08-09 02:12:48.631566 there are 5 child pages in b-0-31-3\n",
      "2024-08-09 02:12:59.212646 there are 6 child pages in b-0-31-4\n",
      "2024-08-09 02:13:11.436297 there are 5 child pages in b-0-31-5\n",
      "2024-08-09 02:13:32.674886 there are 8 child pages in b-0-32\n",
      "2024-08-09 02:13:57.729400 there are 18 child pages in b-0-38\n",
      "2024-08-09 02:13:58.504333 there are 4 child pages in b-0-38-0\n",
      "2024-08-09 02:14:08.964010 there are 3 child pages in b-0-38-2\n",
      "2024-08-09 02:14:15.780842 there are 5 child pages in b-0-38-3\n",
      "2024-08-09 02:14:26.292999 there are 16 child pages in b-0-38-4\n",
      "2024-08-09 02:15:20.456550 there are 38 child pages in b-1\n",
      "2024-08-09 02:15:21.379417 there are 9 child pages in b-1-0\n",
      "2024-08-09 02:15:39.211816 there are 13 child pages in b-1-1\n",
      "2024-08-09 02:16:07.808190 there are 5 child pages in b-1-4\n",
      "2024-08-09 02:16:23.098346 there are 5 child pages in b-1-6\n",
      "2024-08-09 02:16:37.749405 there are 3 child pages in b-1-9\n",
      "2024-08-09 02:16:47.183226 there are 23 child pages in b-1-11\n",
      "2024-08-09 02:17:29.676345 there are 3 child pages in b-1-12\n",
      "2024-08-09 02:17:38.943191 there are 28 child pages in b-1-14\n",
      "2024-08-09 02:17:43.192681 there are 9 child pages in b-1-14-2\n",
      "2024-08-09 02:18:00.298617 there are 4 child pages in b-1-14-3\n",
      "2024-08-09 02:18:16.209625 there are 3 child pages in b-1-14-8\n",
      "2024-08-09 02:18:28.553237 there are 4 child pages in b-1-14-12\n",
      "2024-08-09 02:19:05.674655 there are 2 child pages in b-1-15\n",
      "2024-08-09 02:19:11.051580 there are 6 child pages in b-1-16\n",
      "2024-08-09 02:19:23.466174 there are 27 child pages in b-1-17\n",
      "2024-08-09 02:19:24.183623 there are 3 child pages in b-1-17-0\n",
      "2024-08-09 02:19:40.129325 there are 5 child pages in b-1-17-6\n",
      "2024-08-09 02:19:52.390022 there are 2 child pages in b-1-17-8\n",
      "2024-08-09 02:19:59.365467 there are 2 child pages in b-1-17-10\n",
      "2024-08-09 02:20:10.126654 there are 2 child pages in b-1-17-14\n",
      "2024-08-09 02:20:39.853544 there are 9 child pages in b-1-19\n",
      "2024-08-09 02:21:06.035206 there are 29 child pages in b-1-24\n",
      "2024-08-09 02:21:08.797666 there are 3 child pages in b-1-24-1\n",
      "2024-08-09 02:21:17.423539 there are 10 child pages in b-1-24-3\n",
      "2024-08-09 02:21:37.890288 there are 4 child pages in b-1-24-5\n",
      "2024-08-09 02:21:48.247386 there are 17 child pages in b-1-24-7\n",
      "2024-08-09 02:22:20.996671 there are 11 child pages in b-1-24-9\n",
      "2024-08-09 02:23:18.584352 there are 2 child pages in b-1-25\n",
      "2024-08-09 02:23:24.520000 there are 7 child pages in b-1-26\n",
      "2024-08-09 02:23:38.527326 there are 3 child pages in b-1-27\n",
      "2024-08-09 02:23:46.061529 there are 11 child pages in b-1-28\n",
      "2024-08-09 02:24:06.990387 there are 6 child pages in b-1-29\n",
      "2024-08-09 02:24:19.913567 there are 10 child pages in b-1-30\n",
      "2024-08-09 02:24:40.098931 there are 28 child pages in b-1-31\n",
      "2024-08-09 02:25:05.253199 there are 4 child pages in b-1-31-14\n",
      "2024-08-09 02:25:42.244855 there are 4 child pages in b-1-34\n",
      "2024-08-09 02:25:52.825981 there are 28 child pages in b-1-36\n",
      "2024-08-09 02:26:47.865481 there are 4 child pages in https://www.instacart.com/categories/316-food/1268-deli\n",
      "2024-08-09 02:26:48.916412 there are 18 child pages in b-0\n",
      "2024-08-09 02:27:26.940955 there are 19 child pages in b-1\n",
      "2024-08-09 02:27:27.917258 there are 8 child pages in b-1-0\n",
      "2024-08-09 02:28:21.467699 there are 6 child pages in b-2\n",
      "2024-08-09 02:28:22.451656 there are 5 child pages in b-2-0\n",
      "2024-08-09 02:28:40.670506 there are 3 child pages in b-2-4\n",
      "2024-08-09 02:28:48.650493 there are 4 child pages in b-2-5\n",
      "2024-08-09 02:28:58.531872 there are 11 child pages in b-3\n",
      "2024-08-09 02:29:23.214610 there are 10 child pages in https://www.instacart.com/categories/316-food/627-frozen-food\n",
      "2024-08-09 02:29:24.463009 there are 10 child pages in b-0\n",
      "2024-08-09 02:29:46.278035 there are 4 child pages in b-1\n",
      "2024-08-09 02:29:55.824298 there are 15 child pages in b-2\n",
      "2024-08-09 02:30:26.793898 there are 10 child pages in b-3\n",
      "2024-08-09 02:30:52.261373 there are 12 child pages in b-4\n",
      "2024-08-09 02:31:09.691765 there are 6 child pages in b-4-8\n",
      "2024-08-09 02:31:29.859920 there are 12 child pages in b-5\n",
      "2024-08-09 02:31:55.112531 there are 9 child pages in b-6\n",
      "2024-08-09 02:31:56.078249 there are 6 child pages in b-6-0\n",
      "2024-08-09 02:32:06.727576 there are 7 child pages in b-6-0-5\n",
      "2024-08-09 02:32:22.461346 there are 4 child pages in b-6-1\n",
      "2024-08-09 02:32:33.107461 there are 9 child pages in b-6-3\n",
      "2024-08-09 02:32:51.128098 there are 4 child pages in b-6-4\n",
      "2024-08-09 02:33:06.356102 there are 5 child pages in b-6-8\n",
      "2024-08-09 02:33:18.438620 there are 17 child pages in b-7\n",
      "2024-08-09 02:33:56.263642 there are 15 child pages in b-8\n",
      "2024-08-09 02:34:29.134113 there are 3 child pages in b-9\n",
      "2024-08-09 02:34:36.812314 there are 7 child pages in https://www.instacart.com/categories/316-food/1807-meat\n",
      "2024-08-09 02:34:38.145153 there are 10 child pages in b-0\n",
      "2024-08-09 02:35:01.447803 there are 24 child pages in b-1\n",
      "2024-08-09 02:35:04.108053 there are 3 child pages in b-1-1\n",
      "2024-08-09 02:35:11.690473 there are 19 child pages in b-1-2\n",
      "2024-08-09 02:35:49.658567 there are 39 child pages in b-1-3\n",
      "2024-08-09 02:37:10.114524 there are 3 child pages in b-1-9\n",
      "2024-08-09 02:37:29.705693 there are 1 child pages in b-1-16\n",
      "2024-08-09 02:37:48.137544 there are 13 child pages in b-2\n",
      "2024-08-09 02:38:16.591516 there are 21 child pages in b-3\n",
      "2024-08-09 02:38:17.435104 there are 3 child pages in b-3-0\n",
      "2024-08-09 02:38:27.134320 there are 6 child pages in b-3-2\n",
      "2024-08-09 02:38:40.244002 there are 14 child pages in b-3-3\n",
      "2024-08-09 02:39:10.368049 there are 15 child pages in b-3-5\n",
      "2024-08-09 02:40:09.691449 there are 4 child pages in b-4\n",
      "2024-08-09 02:40:10.679217 there are 21 child pages in b-4-0\n",
      "2024-08-09 02:40:51.269918 there are 16 child pages in b-4-1\n",
      "2024-08-09 02:41:21.769228 there are 8 child pages in b-4-2\n",
      "2024-08-09 02:41:42.495477 there are 10 child pages in b-6\n",
      "2024-08-09 02:41:50.780591 there are 1 child pages in b-6-4\n",
      "2024-08-09 02:42:01.966447 there are 1 child pages in b-6-9\n",
      "2024-08-09 02:42:42.202452 error in crawling https://www.instacart.com/categories/316-food/1807-meat/1873-game-meats/2970-frog-0\n",
      "2024-08-09 02:42:44.162656 there are 1 child pages in b-6-9\n",
      "2024-08-09 02:42:48.728397 there are 4 child pages in https://www.instacart.com/categories/316-food/831-meat-alternatives\n",
      "2024-08-09 02:42:49.618387 there are 11 child pages in b-0\n",
      "2024-08-09 02:43:19.825577 there are 0 child pages in https://www.instacart.com/categories/316-food/5273-ready-to-cook-meals\n"
     ]
    }
   ],
   "source": [
    "for it_sub in sub_types:\n",
    "    sub_type = it_sub.split('https://www.instacart.com/categories/')[-1]\n",
    "    # print(sub_type)\n",
    "    sub_url = f'https://www.instacart.com/categories/{sub_type}'\n",
    "    test_sp = crawl_type(sub_url, f'{sub_type.replace(\"/\", \"_\")}_type-dict.npy', n = 1, nchild = 3)"
   ]
  },
  {
   "cell_type": "code",
   "execution_count": 17,
   "metadata": {},
   "outputs": [
    {
     "ename": "AttributeError",
     "evalue": "'DataFrame' object has no attribute 'append'",
     "output_type": "error",
     "traceback": [
      "\u001b[0;31m---------------------------------------------------------------------------\u001b[0m",
      "\u001b[0;31mAttributeError\u001b[0m                            Traceback (most recent call last)",
      "\u001b[0;32m/var/folders/wh/c8q3566x2gncdpnx0x68jtlr0000gn/T/ipykernel_30905/1778786014.py\u001b[0m in \u001b[0;36m?\u001b[0;34m()\u001b[0m\n\u001b[0;32m---> 10\u001b[0;31m \u001b[0;32mimport\u001b[0m \u001b[0mpandas\u001b[0m \u001b[0;32mas\u001b[0m \u001b[0mpd\u001b[0m\u001b[0;34m\u001b[0m\u001b[0;34m\u001b[0m\u001b[0m\n\u001b[0m\u001b[1;32m     11\u001b[0m \u001b[0;34m\u001b[0m\u001b[0m\n\u001b[1;32m     12\u001b[0m \u001b[0;31m# create a DataFrame\u001b[0m\u001b[0;34m\u001b[0m\u001b[0;34m\u001b[0m\u001b[0m\n\u001b[1;32m     13\u001b[0m \u001b[0mdf\u001b[0m \u001b[0;34m=\u001b[0m \u001b[0mpd\u001b[0m\u001b[0;34m.\u001b[0m\u001b[0mDataFrame\u001b[0m\u001b[0;34m(\u001b[0m\u001b[0;34m{\u001b[0m\u001b[0;34m'A'\u001b[0m\u001b[0;34m:\u001b[0m \u001b[0;34m[\u001b[0m\u001b[0;36m1\u001b[0m\u001b[0;34m,\u001b[0m \u001b[0;36m2\u001b[0m\u001b[0;34m,\u001b[0m \u001b[0;36m3\u001b[0m\u001b[0;34m]\u001b[0m\u001b[0;34m,\u001b[0m \u001b[0;34m'B'\u001b[0m\u001b[0;34m:\u001b[0m \u001b[0;34m[\u001b[0m\u001b[0;36m4\u001b[0m\u001b[0;34m,\u001b[0m \u001b[0;36m5\u001b[0m\u001b[0;34m,\u001b[0m \u001b[0;36m6\u001b[0m\u001b[0;34m]\u001b[0m\u001b[0;34m}\u001b[0m\u001b[0;34m)\u001b[0m\u001b[0;34m\u001b[0m\u001b[0;34m\u001b[0m\u001b[0m\n",
      "\u001b[0;32m/Applications/conda/miniconda3/envs/test_burnt/lib/python3.9/site-packages/pandas/core/generic.py\u001b[0m in \u001b[0;36m?\u001b[0;34m(self, name)\u001b[0m\n\u001b[1;32m   6295\u001b[0m             \u001b[0;32mand\u001b[0m \u001b[0mname\u001b[0m \u001b[0;32mnot\u001b[0m \u001b[0;32min\u001b[0m \u001b[0mself\u001b[0m\u001b[0;34m.\u001b[0m\u001b[0m_accessors\u001b[0m\u001b[0;34m\u001b[0m\u001b[0;34m\u001b[0m\u001b[0m\n\u001b[1;32m   6296\u001b[0m             \u001b[0;32mand\u001b[0m \u001b[0mself\u001b[0m\u001b[0;34m.\u001b[0m\u001b[0m_info_axis\u001b[0m\u001b[0;34m.\u001b[0m\u001b[0m_can_hold_identifiers_and_holds_name\u001b[0m\u001b[0;34m(\u001b[0m\u001b[0mname\u001b[0m\u001b[0;34m)\u001b[0m\u001b[0;34m\u001b[0m\u001b[0;34m\u001b[0m\u001b[0m\n\u001b[1;32m   6297\u001b[0m         ):\n\u001b[1;32m   6298\u001b[0m             \u001b[0;32mreturn\u001b[0m \u001b[0mself\u001b[0m\u001b[0;34m[\u001b[0m\u001b[0mname\u001b[0m\u001b[0;34m]\u001b[0m\u001b[0;34m\u001b[0m\u001b[0;34m\u001b[0m\u001b[0m\n\u001b[0;32m-> 6299\u001b[0;31m         \u001b[0;32mreturn\u001b[0m \u001b[0mobject\u001b[0m\u001b[0;34m.\u001b[0m\u001b[0m__getattribute__\u001b[0m\u001b[0;34m(\u001b[0m\u001b[0mself\u001b[0m\u001b[0;34m,\u001b[0m \u001b[0mname\u001b[0m\u001b[0;34m)\u001b[0m\u001b[0;34m\u001b[0m\u001b[0;34m\u001b[0m\u001b[0m\n\u001b[0m",
      "\u001b[0;31mAttributeError\u001b[0m: 'DataFrame' object has no attribute 'append'"
     ]
    }
   ],
   "source": [
    "import pandas as pd\n",
    "\n",
    "# create a DataFrame\n",
    "df = pd.DataFrame({'A': [1, 2, 3], 'B': [4, 5, 6]})\n",
    "\n",
    "# create a list of new rows\n",
    "new_rows = [{'A': 7, 'B': 8}, {'A': 9, 'B': 10}]\n",
    "\n",
    "# append the new rows to the DataFrame\n",
    "df = df.append(new_rows, ignore_index=True)\n",
    "\n",
    "print(df)\n"
   ]
  },
  {
   "cell_type": "code",
   "execution_count": 6,
   "metadata": {},
   "outputs": [
    {
     "data": {
      "text/plain": [
       "{'/1194-dried-apples': 'none'}"
      ]
     },
     "execution_count": 6,
     "metadata": {},
     "output_type": "execute_result"
    }
   ],
   "source": [
    "test_sp.prod_tree[list(test_sp.prod_tree.keys())[8]]"
   ]
  },
  {
   "cell_type": "code",
   "execution_count": 10,
   "metadata": {},
   "outputs": [
    {
     "data": {
      "text/plain": [
       "array([16,\n",
       "       {'/1063-salad-toppings': {'/5341-croutons': 'none', '/5343-bacon-bits': 'none', '/5531-tortilla-strip-toppings': 'none'}, '/957-boxed-meals-and-sides': {'/958-boxed-asian-meals-sides': 'none', '/959-boxed-grain-meal-sides': 'none', '/960-boxed-pasta-meals-sides': 'none', '/961-boxed-potato-sides': 'none', '/962-boxed-stuffing': 'none', '/963-polenta': 'none'}, '/1115-grains': {'/1116-amaranth': 'none', '/1117-barley': 'none', '/1118-buckwheat': 'none', '/1121-couscous': 'none', '/1123-farro': 'none', '/1125-quinoa': 'none', '/1127-risotto': 'none', '/1128-millet': 'none', '/3267-teff': 'none', '/3269-sorghum': 'none', '/3270-rye': 'none', '/3271-bulgur': 'none', '/3272-spelt': 'none', '/3273-wheat-berries': 'none', '/3274-wheat': 'none', '/3532-rices': {'/1119-basmati-rice': 'none', '/1120-brown-rice': 'none', '/1122-enriched-rice': 'none', '/1124-jasmine-rice': 'none', '/1126-wild-rice': 'none', '/3533-sushi-rice': 'none', '/5091-other-rice': 'none', '/5349-white-rice': 'none'}, '/6183-other-grains': 'none'}, '/1216-nuts': {'/1217-almonds': 'none', '/1218-brazil-nuts': 'none', '/1219-cashews': 'none', '/1220-chestnuts': 'none', '/1221-hazelnuts': 'none', '/1222-macadamia-nuts': 'none', '/1223-mixed-nuts': 'none', '/1224-peanuts': 'none', '/1225-pecans': 'none', '/1226-pine-nuts': 'none', '/1227-pistachios': 'none', '/1228-shredded-coconuts': 'none', '/1229-soy-nuts': 'none', '/1230-trail-mix': 'none', '/1231-walnuts': 'none', '/5392-nut-clusters': 'none', '/6010-chocolate-covered-nuts': 'none'}, '/1232-seeds': {'/1233-sunflower-seeds': 'none', '/1234-pumpkin-seeds': 'none', '/1235-sesame-seeds': 'none', '/1236-poppy-seeds': 'none', '/1237-hemp-seeds': 'none', '/1238-chia-seeds': 'none'}, '/1043-condiments': {'/1044-ketchup': 'none', '/1045-mustard': {'/3342-yellow-mustard': 'none', '/3343-spicy-brown-mustard': 'none', '/3344-dijon-mustard': 'none', '/3345-honey-mustard': 'none', '/3346-other-mustard': 'none'}, '/1046-mayonnaise': 'none', '/1047-prepared-horseradish': 'none', '/1048-aioli': 'none', '/1049-olives': 'none', '/1050-relish': 'none', '/1051-pickles': 'none', '/1052-peppers': 'none', '/1053-sauerkraut': 'none', '/1054-kimchi': 'none', '/1055-capers': 'none', '/1056-pickled-vegetables': {'/5846-pickled-mustard': 'none', '/5847-pickled-radish': 'none', '/5848-pickled-bean-curd': 'none'}, '/1057-wasabi': 'none', '/1059-pickled-ginger': 'none', '/1060-salad-dressings': {'/3347-italian-dressing': 'none', '/3348-caesar-dressing': 'none', '/3349-ranch-dressing': 'none', '/3350-french-dressing': 'none', '/3351-thousand-island-dressing': 'none', '/3352-vinaigrette-dressing': 'none', '/3353-honey-mustard-dressing': 'none', '/3354-blue-cheese-dressing': 'none', '/3355-poppy-seed-dressing': 'none', '/3356-yogurt-dressing': 'none', '/3357-asian-dressing': 'none', '/3358-other-dressing': 'none', '/5967-coleslaw-dressing': 'none', '/5968-greek-dressing': 'none'}, '/1062-tapenade': 'none', '/1130-sauces': {'/1058-cocktail-sauce': 'none', '/1131-barbecue-sauces': 'none', '/1132-cheese-sauces': 'none', '/1133-chili-sauces': 'none', '/1134-coconut-aminos': 'none', '/1135-cream-sauces': 'none', '/1136-curry-sauces': 'none', '/1137-duck-sauces': 'none', '/1138-enchilada-sauces': 'none', '/1139-fish-sauce': 'none', '/1140-gravies': 'none', '/1141-hoisin-sauce': 'none', '/1142-hollandaise-sauce': 'none', '/1143-hot-sauces': 'none', '/1144-mole-sauces': 'none', '/1145-oyster-sauces': 'none', '/1146-pastes': {'/5288-curry-paste': 'none', '/5289-miso-paste': 'none', '/5290-minced-garlic-and-pastes': 'none', '/5291-ginger-paste': 'none', '/5292-seafood-paste': 'none', '/5293-guava-paste': 'none', '/5294-harissa-paste': 'none', '/5295-almond-paste': 'none', '/5296-bean-paste': 'none', '/5297-other-pastes': 'none', '/5852-soy-bean-paste': 'none'}, '/1147-peanut-sauces': 'none', '/1148-pesto': 'none', '/1149-pizza-sauce': 'none', '/1151-seafood-sauces': 'none', '/1153-soy-sauces': 'none', '/1154-sweet-and-sour-sauces': 'none', '/1155-steak-sauces': 'none', '/1156-tartar-sauces': 'none', '/1157-teriyaki-sauces': 'none', '/1158-tomato-based-sauces': 'none', '/3319-brown-sauces': 'none', '/3320-other-sauces': 'none', '/3324-buffalo-sauces': 'none', '/3359-alfredo-sauce': 'none', '/3360-pad-thai-sauce': 'none', '/3361-sesame-sauce': 'none', '/3362-sloppy-joe-sauce': 'none', '/3363-stir-fry-sauce': 'none', '/5374-taco-sauces': 'none', '/5465-black-bean-sauce': 'none'}, '/1150-salsas': 'none', '/1188-shelf-stable-dips': 'none', '/3321-other-pickled-goods': 'none', '/3323-other-condiments': 'none', '/3341-chutney': 'none', '/5464-chili-oil': 'none', '/5466-hot-pepper-paste': 'none'}, '/964-breakfast': {'/965-cereal': 'none', '/966-breakfast-bars': 'none', '/967-pancake-waffle-mix': 'none', '/968-granola': 'none', '/969-packaged-toaster-pastries': 'none', '/970-oatmeal': {'/971-quick-oats': 'none', '/972-steel-cut-oats': 'none', '/973-rolled-oats': 'none', '/3326-grits': 'none', '/5092-other-oats': 'none'}}, '/1071-noodles': {'/1073-instant-noodles': 'none', '/1074-ramen-noodles': 'none', '/1075-stir-fry-noodles': 'none', '/1076-udon-noodles': 'none', '/1077-vermicelli-noodles': 'none', '/5487-rice-noodles': 'none', '/5488-soba-noodles': 'none', '/5817-other-noodles': 'none', '/5849-bean-thread-noodles': 'none'}, '/3157-dried-goods': {'/3158-dried-peas': 'none', '/3159-dried-lentils': 'none', '/3160-other-dried-vegetables': 'none', '/3161-dried-seeds': 'none', '/3162-dried-mushrooms': 'none', '/3163-dried-meats': 'none', '/3164-dried-seafood': 'none', '/5382-dried-seaweed': 'none'}, '/974-canned-goods': {'/975-canned-beans': {'/976-canned-black-beans': 'none', '/977-canned-lima-beans': 'none', '/978-canned-pinto-beans': 'none', '/979-canned-refried-beans': 'none', '/980-canned-baked-beans': 'none', '/981-canned-white-beans': 'none', '/982-canned-kidney-beans': 'none', '/984-canned-mixed-beans': 'none', '/985-canned-navy-beans': 'none', '/3328-other-canned-beans': 'none', '/3338-canned-chickpeas': 'none', '/5477-canned-lentils': 'none'}, '/988-coconut-cream': 'none', '/989-canned-chili': 'none', '/990-canned-fruit': {'/991-canned-apples': 'none', '/992-applesauce': 'none', '/993-canned-apricots': 'none', '/994-canned-berries': 'none', '/995-canned-cranberries': 'none', '/996-canned-grapefruit': 'none', '/997-canned-mixed-fruit': 'none', '/998-canned-oranges': 'none', '/999-canned-peaches': 'none', '/1000-canned-pears': 'none', '/1001-canned-pineapple': 'none', '/3329-canned-cherries': 'none', '/3330-canned-lychee': 'none', '/3331-canned-mango': 'none', '/3332-other-canned-fruit': 'none'}, '/1002-canned-meals': {'/1003-canned-pasta-meals': 'none'}, '/1004-canned-meat': {'/830-canned-sausage': 'none', '/3333-canned-beef': 'none', '/3334-canned-chicken': 'none', '/3335-canned-pork': 'none', '/3336-other-canned-meat': 'none'}, '/1005-canned-seafood': {'/1006-canned-anchovies': 'none', '/1007-canned-tuna': 'none', '/1008-canned-oysters': 'none', '/1009-canned-sardines': 'none', '/1010-canned-salmon': 'none', '/1011-clam-juice': 'none', '/1012-canned-clams': 'none', '/1013-canned-crab-meat': 'none', '/1014-canned-herring': 'none', '/1015-canned-shrimp': 'none', '/5707-other-canned-seafood': 'none', '/5842-gefilte-fish': 'none', '/5843-canned-eel': 'none', '/5844-canned-mackerel': 'none'}, '/1017-canned-tomatoes': {'/1018-canned-tomato-sauce': 'none', '/1019-canned-whole-tomatoes': 'none', '/1020-canned-crushed-tomatoes': 'none', '/1021-canned-diced-tomatoes': 'none', '/1022-tomato-paste': 'none', '/1023-sun-dried-tomatoes': 'none'}, '/1024-canned-vegetables': {'/1025-canned-artichokes': 'none', '/1026-canned-asparagus': 'none', '/1027-canned-beets': 'none', '/1028-canned-cabbage': 'none', '/1029-canned-carrots': 'none', '/1030-canned-green-chiles': 'none', '/1031-canned-mushrooms': 'none', '/1032-canned-spinach': 'none', '/1033-canned-water-chestnuts': 'none', '/1034-canned-corn': 'none', '/1035-canned-green-beans': 'none', '/1036-canned-hearts-of-palm': 'none', '/1037-canned-mixed-vegetables': 'none', '/1038-canned-peas': 'none', '/1039-canned-potatoes': 'none', '/1040-canned-okra': 'none', '/1041-canned-onion': 'none', '/1042-canned-pumpkin': 'none', '/3337-canned-bamboo-shoots': 'none', '/3339-canned-peppers': {'/5919-canned-chipotle-peppers': 'none', '/5920-canned-roasted-red-peppers': 'none', '/5921-canned-jalapenos': 'none', '/5922-canned-banana-peppers': 'none', '/6146-canned-chili-peppers': 'none'}, '/3340-other-canned-vegetables': 'none', '/5855-canned-hominy': 'none', '/5856-canned-cactus': 'none'}, '/5308-matzo-balls': 'none', '/5845-canned-eggs': 'none'}, '/1159-snacks': {'/1160-candy': {'/1161-hard-candies': 'none', '/1162-lollipops': 'none', '/1163-gummy-candies': 'none', '/1164-jelly-beans': 'none', '/1165-mints': 'none', '/1166-chocolate-candies': 'none', '/1168-variety-pack-candies': 'none', '/3065-cotton-candy': 'none', '/3364-caramel-candies': 'none', '/3365-other-candies': 'none', '/4906-candy-canes': 'none', '/5100-licorice-candy': 'none', '/5314-sour-candy': 'none', '/5354-chewy-candy': 'none'}, '/1167-chewing-gum': 'none', '/1169-chips': {'/1170-tortilla-chips': 'none', '/1171-potato-chips': 'none', '/1173-pork-rinds': 'none', '/1174-variety-pack-chips': 'none', '/1175-bagel-and-pita-chips': 'none', '/1176-vegetable-chips': 'none', '/1177-grain-chips': 'none', '/1178-seafood-chips': 'none', '/1179-onion-ring-chips': 'none', '/1180-seaweed-chips': 'none', '/1181-fruit-chips': 'none', '/1182-puff-chips': 'none', '/1183-cheese-crisps': 'none', '/5080-other-chips': 'none'}, '/1185-mixed-dry-snacks': 'none', '/1186-pudding-snacks': 'none', '/1187-gelatin-snacks': 'none', '/1189-popcorn': 'none', '/1192-rice-cakes': 'none', '/1193-dried-fruit': {'/1194-dried-apples': 'none', '/1195-dried-apricots': 'none', '/1196-dried-bananas': 'none', '/1197-dried-berries': 'none', '/1198-dried-coconut-chips': 'none', '/1199-dried-figs': 'none', '/1201-dried-pineapples': 'none', '/1202-dried-plums': 'none', '/1203-dried-prunes': 'none', '/1204-dried-raisins': 'none', '/1205-dried-dates': 'none', '/1206-dried-mango': 'none', '/1207-dried-mixed-fruit': 'none', '/3366-dried-papaya': 'none', '/3367-dried-kiwis': 'none', '/3368-other-dried-fruit': 'none', '/4908-dried-cranberries': 'none', '/6011-chocolate-covered-dried-fruit': 'none'}, '/1208-freeze-dried-fruit': 'none', '/1209-gummy-fruit-snacks': 'none', '/1210-fruit-snack-cups': 'none', '/1213-ice-cream-cones': 'none', '/1214-meat-jerky': 'none', '/1215-variety-pack-snacks': 'none', '/5309-packaged-baked-goods': {'/4788-packaged-cookies': 'none', '/5275-packaged-snack-cakes': 'none', '/5310-packaged-brownies': 'none', '/5311-packaged-biscuits': 'none', '/5312-other-packaged-treats': 'none', '/5330-packaged-donuts': 'none', '/6141-packaged-muffins': 'none'}, '/5322-snack-bites': 'none', '/5390-other-snacks': 'none', '/5399-squeeze-snack-pouches': 'none'}, '/1064-dried-beans': {'/1065-black-beans': 'none', '/1067-pinto-beans': 'none', '/3120-black-eyed-peas': 'none', '/3121-cannellini-beans': 'none', '/3122-chickpeas': 'none', '/3123-great-northern-beans': 'none', '/3124-kidney-beans': 'none', '/3125-lima-beans': 'none', '/3126-fava-beans': 'none', '/3127-soy-beans': 'none', '/3128-navy-beans': 'none', '/3129-adzuki-beans': 'none', '/3130-mung-beans': 'none', '/3131-cranberry-beans': 'none', '/3133-anasazi-beans': 'none', '/3138-european-soldier-beans': 'none', '/3139-eye-of-the-goat-beans': 'none', '/3140-flageolet-beans': 'none', '/3141-tongues-of-fire-beans': 'none', '/3142-jackson-wonder-beans': 'none', '/3144-lupini-beans': 'none', '/3145-mayocoba-beans': 'none', '/3146-mortgage-runner-beans': 'none', '/3148-rice-beans': 'none', '/3149-other-dried-beans': 'none', '/3150-brown-beans': 'none', '/3152-roman-beans': 'none', '/3153-red-beans': 'none', '/3154-white-beans': 'none'}, '/845-baking-and-cooking': {'/917-cooking-vinegar': {'/918-apple-cider-vinegar': 'none', '/919-balsamic-vinegar': 'none', '/920-black-vinegar': 'none', '/921-champagne-vinegar': 'none', '/922-cooking-wine': 'none', '/923-malt-vinegar': 'none', '/924-red-vinegar': 'none', '/925-red-wine-vinegar': 'none', '/926-rice-vinegar': 'none', '/927-white-vinegar': 'none', '/928-white-wine-vinegar': 'none'}, '/940-marshmallows': 'none', '/944-powdered-milk': 'none', '/884-baking-powders': {'/881-cocoa-powder': 'none', '/885-baking-powder': 'none', '/886-baking-soda': 'none', '/887-cream-of-tartar': 'none', '/888-yeast': 'none', '/889-corn-starch': 'none', '/890-xanthan-gum': 'none'}, '/240-mirin': 'none', '/951-sweeteners': {'/952-sugars': {'/3301-granulated-sugars': 'none', '/3302-brown-sugars': 'none', '/3303-powdered-sugars': 'none', '/3304-castor-sugars': 'none', '/5112-other-sugars': 'none'}, '/953-sugar-substitutes': 'none', '/954-honey': 'none', '/955-maple-syrup': 'none', '/956-corn-syrup': 'none', '/3295-agave-syrup': 'none', '/3296-glucose-syrup': 'none', '/3297-palm-syrup': 'none', '/3298-rose-syrup': 'none', '/3299-cane-syrup': 'none', '/3300-molasses': 'none'}, '/663-ice-cream-syrups-and-sauces': 'none', '/930-dried-peppers': 'none', '/864-baking-mixes': {'/865-cookie-mixes': 'none', '/866-brownie-mixes': 'none', '/867-pie-mixes': 'none', '/868-pastry-mixes': 'none', '/869-cake-mixes': 'none', '/870-biscuit-mixes': 'none', '/871-bread-mixes': 'none', '/872-no-bake-mixes': 'none', '/873-pudding-mixes': 'none', '/874-matzo-ball-mixes': 'none', '/875-gelatin-mixes': 'none', '/876-breakfast-mixes': 'none', '/6110-pizza-crust-mixes': 'none'}, '/900-cooking-oils': {'/901-avocado-oil': 'none', '/902-canola-oil': 'none', '/903-coconut-oil': 'none', '/904-cooking-oil-sprays': 'none', '/905-corn-oil': 'none', '/906-seed-oil': 'none', '/907-hemp-oil': 'none', '/908-lard': 'none', '/909-nut-oil': 'none', '/910-olive-oils': 'none', '/911-specialty-oil': 'none', '/912-sesame-oil': 'none', '/913-shortening': 'none', '/914-soybean-oil': 'none', '/915-truffle-oil': 'none', '/916-vegetable-oil': 'none', '/5345-other-oils': 'none', '/5587-peanut-oil': 'none'}, '/847-baking-flours': {'/848-all-purpose-flour': 'none', '/849-almond-flour': 'none', '/850-arrowroot-flour': 'none', '/851-cassava-flour': 'none', '/852-coconut-flour': 'none', '/853-corn-flour': 'none', '/854-cornmeal': 'none', '/855-flaxseed-meal': 'none', '/856-mixed-flour': 'none', '/857-oat-flour': 'none', '/858-rice-flour': 'none', '/859-self-rising-flour': 'none', '/860-tapioca-flour': 'none', '/861-whole-wheat-flour': 'none', '/862-bran-flour': 'none', '/863-garbanzo-bean-flour': 'none', '/3186-other-flours': 'none', '/3290-cake-flour': 'none', '/3291-pastry-flour': 'none', '/3292-bread-flour': 'none', '/3293-00-flour': 'none', '/3294-white-wheat-flour': 'none'}, '/943-pie-fillings': 'none', '/945-refrigerated-doughs': {'/946-biscuit-doughs': 'none', '/947-cookie-doughs': 'none', '/948-pastry-doughs': 'none', '/949-pie-dough': 'none', '/950-pizza-dough': 'none'}, '/931-seasonings': {'/932-boullions': 'none', '/933-bread-crumbs': 'none', '/934-coating-mixes': 'none', '/936-pepper': 'none', '/937-salts': 'none', '/938-seasoning-mixes': {'/4904-gravy-mix': 'none', '/5034-italian-seasoning': 'none', '/5218-dip-and-sauce-mixes': 'none', '/5278-poultry-seasoning': 'none', '/5279-mexican-seasoning-mixes': 'none', '/5280-cajun-seasoning': 'none', '/5281-lemon-pepper': 'none', '/5282-seafood-seasoning': 'none', '/5283-garlic-salt': 'none', '/5284-asian-seasoning-mixes': 'none', '/5285-seasoning-rubs': 'none', '/5286-indian-seasoning-mixes': 'none', '/5287-other-seasoning-mixes': 'none', '/6005-pumpkin-pie-spice-mixes': 'none'}, '/939-dried-herbs-and-spices': {'/5022-dried-garlic': 'none', '/5023-chili-powder': 'none', '/5024-dried-cumin': 'none', '/5025-dried-onion': 'none', '/5026-dried-nutmeg': 'none', '/5027-dried-cinnamon': 'none', '/5028-dried-ginger': 'none', '/5029-curry-powder': 'none', '/5030-dried-oregano': 'none', '/5031-dried-thyme': 'none', '/5032-ground-paprika': 'none', '/5033-cayenne-powder': 'none', '/5035-dried-cardamom': 'none', '/5036-crushed-red-pepper': 'none', '/5037-dried-coriander': 'none', '/5038-dried-turmeric': 'none', '/5039-dried-basil': 'none', '/5040-dried-saffron': 'none', '/5041-dried-sage': 'none', '/5042-dried-bay-leaf': 'none', '/5043-dried-rosemary': 'none', '/5044-dried-anise': 'none', '/5045-dried-fenugreek': 'none', '/5046-dried-parsley': 'none', '/5047-dried-dill': 'none', '/5048-dried-tarragon': 'none', '/5049-dried-allspice': 'none', '/5050-dried-fennel-seeds': 'none', '/5051-dried-five-spice': 'none', '/5052-dried-cloves': 'none', '/5053-other-spices': 'none', '/5452-dried-coriander-seeds': 'none', '/5455-dried-cilantro': 'none', '/5456-dried-chives': 'none', '/5975-dried-vanilla-bean': 'none', '/5997-dried-annatto': 'none', '/5998-dried-caraway': 'none', '/5999-deleting-dried-caraway-seeds': 'none', '/6000-dried-celery-seeds': 'none', '/6001-dried-lemongrass': 'none', '/6002-dried-marjoram': 'none', '/6003-dried-mustard': 'none', '/6004-dried-mustard-seeds': 'none'}, '/1129-marinades': 'none'}, '/941-wrapping-dough': 'none', '/893-cake-decorations': {'/894-baking-cups': 'none', '/895-sprinkles': 'none', '/896-cake-candles': 'none', '/897-icing': 'none', '/898-cake-decorating-kits': 'none', '/899-cake-frosting': 'none', '/6114-other-cake-decorations': 'none'}, '/929-food-coloring': 'none', '/846-baking-extracts': {'/3275-vanilla-extract': 'none', '/3276-almond-extract': 'none', '/3278-coffee-extract': 'none', '/3279-lemon-extract': 'none', '/3280-peppermint-extract': 'none', '/3281-cherry-extract': 'none', '/3282-butter-extract': 'none', '/3283-maple-extract': 'none', '/3284-coconut-extract': 'none', '/3285-anise-extract': 'none', '/3286-lime-extract': 'none', '/3287-rum-extract': 'none', '/3288-other-extracts': 'none'}, '/942-pie-crusts': 'none', '/877-baking-morsels': {'/878-chocolate-chips': 'none', '/879-candy-pieces': 'none', '/880-coconut-morsels': 'none', '/882-baking-bars': 'none', '/883-carob-powder': 'none', '/5584-other-baking-morsels': 'none', '/5945-butterscotch-chips': 'none'}}, '/1068-jams-jellies-and-preserves': {'/1069-jams-and-jellies': 'none', '/1070-fruit-butters': 'none', '/3313-marmalades': 'none', '/3314-chutnies': 'none', '/3315-compotes': 'none', '/3316-fruit-confits': 'none', '/3317-fruit-curds': 'none', '/5342-fruit-preserves': 'none', '/5386-fruit-spreads': 'none'}, '/1090-pasta': {'/1072-egg-noodles': 'none', '/1091-angel-hair-pasta': 'none', '/1092-campanelle-pasta': 'none', '/1093-ditalini-pasta': 'none', '/1094-farfalle-pasta': 'none', '/1095-fettuccine-pasta': 'none', '/1096-gemelli-pasta': 'none', '/1097-gnocchi-pasta': 'none', '/1098-lasagna-pasta': 'none', '/1099-linguine-pasta': 'none', '/1100-elbow-pasta': 'none', '/1101-orzo-pasta': 'none', '/1102-penne-pasta': 'none', '/1103-ravioli-pasta': 'none', '/1104-rigatoni-pasta': 'none', '/1105-rotelle-pasta': 'none', '/1106-rotini-pasta': 'none', '/1107-shell-pasta': 'none', '/1108-shaped-pasta': 'none', '/1109-spaghetti-pasta': 'none', '/1110-tortellini-pasta': 'none', '/1111-ziti-pasta': 'none', '/1112-sprouted-grain-pasta': 'none', '/1113-grain-free-pasta': 'none', '/1114-fusilli-pasta': 'none', '/5583-other-pasta': 'none'}, '/1078-nut-butters': {'/1079-almond-butter': 'none', '/1080-coconut-butter': 'none', '/1081-peanut-butter': 'none', '/1082-hazelnut-spread': 'none', '/1083-cashew-butter': 'none', '/1085-spread-combinations': 'none', '/1086-soy-nut-butter': 'none', '/3306-walnut-butter': 'none', '/3307-brazil-nut-butter': 'none', '/3308-tahini-sesame-paste': 'none', '/3309-sunflower-butter': 'none', '/3310-pumpkin-seed-butter': 'none', '/3311-pistachio-butter': 'none', '/3312-other-nut-butters': 'none'}, '/1239-soups': {'/1016-canned-soup': 'none', '/1240-dry-soup-kits': 'none', '/1241-instant-soup': 'none', '/1242-broths-stocks': {'/3374-beef-broth': 'none', '/3375-chicken-broth': 'none', '/3376-bone-broth': 'none', '/3377-vegetable-broth': 'none', '/3378-other-broths': 'none'}}},\n",
       "       'https://www.instacart.com/categories/316-food/844-pantry'],\n",
       "      dtype=object)"
      ]
     },
     "execution_count": 10,
     "metadata": {},
     "output_type": "execute_result"
    }
   ],
   "source": [
    "loaded_file = np.load('316-food_844-pantry_type-dict.npy', allow_pickle=True)\n",
    "loaded_file"
   ]
  },
  {
   "cell_type": "code",
   "execution_count": 9,
   "metadata": {},
   "outputs": [
    {
     "data": {
      "text/plain": [
       "17"
      ]
     },
     "execution_count": 9,
     "metadata": {},
     "output_type": "execute_result"
    }
   ],
   "source": [
    "len(list(loaded_file[1].keys()))"
   ]
  },
  {
   "cell_type": "code",
   "execution_count": null,
   "metadata": {},
   "outputs": [
    {
     "name": "stdout",
     "output_type": "stream",
     "text": [
      "/1160-candy {'/1161-hard-candies': 'none', '/1162-lollipops': 'none', '/1163-gummy-candies': 'none', '/1164-jelly-beans': 'none', '/1165-mints': 'none', '/1166-chocolate-candies': 'none', '/1168-variety-pack-candies': 'none', '/3065-cotton-candy': 'none', '/3364-caramel-candies': 'none', '/3365-other-candies': 'none', '/4906-candy-canes': 'none', '/5100-licorice-candy': 'none', '/5314-sour-candy': 'none', '/5354-chewy-candy': 'none'}\n",
      "/1167-chewing-gum none\n",
      "/1169-chips {'/1170-tortilla-chips': 'none', '/1171-potato-chips': 'none', '/1173-pork-rinds': 'none', '/1174-variety-pack-chips': 'none', '/1175-bagel-and-pita-chips': 'none', '/1176-vegetable-chips': 'none', '/1177-grain-chips': 'none', '/1178-seafood-chips': 'none', '/1179-onion-ring-chips': 'none', '/1180-seaweed-chips': 'none', '/1181-fruit-chips': 'none', '/1182-puff-chips': 'none', '/1183-cheese-crisps': 'none', '/5080-other-chips': 'none'}\n",
      "/1185-mixed-dry-snacks none\n",
      "/1186-pudding-snacks none\n",
      "/1187-gelatin-snacks none\n",
      "/1189-popcorn none\n",
      "/1192-rice-cakes none\n",
      "/1193-dried-fruit {'/1194-dried-apples': 'none', '/1195-dried-apricots': 'none', '/1196-dried-bananas': 'none', '/1197-dried-berries': 'none', '/1198-dried-coconut-chips': 'none', '/1199-dried-figs': 'none', '/1201-dried-pineapples': 'none', '/1202-dried-plums': 'none', '/1203-dried-prunes': 'none', '/1204-dried-raisins': 'none', '/1205-dried-dates': 'none', '/1206-dried-mango': 'none', '/1207-dried-mixed-fruit': 'none', '/3366-dried-papaya': 'none', '/3367-dried-kiwis': 'none', '/3368-other-dried-fruit': 'none', '/4908-dried-cranberries': 'none', '/6011-chocolate-covered-dried-fruit': 'none'}\n",
      "/1208-freeze-dried-fruit none\n",
      "/1209-gummy-fruit-snacks none\n",
      "/1210-fruit-snack-cups none\n",
      "/1213-ice-cream-cones none\n",
      "/1214-meat-jerky none\n",
      "/1215-variety-pack-snacks none\n",
      "/5309-packaged-baked-goods {'/4788-packaged-cookies': 'none', '/5275-packaged-snack-cakes': 'none', '/5310-packaged-brownies': 'none', '/5311-packaged-biscuits': 'none', '/5312-other-packaged-treats': 'none', '/5330-packaged-donuts': 'none', '/6141-packaged-muffins': 'none'}\n",
      "/5322-snack-bites none\n",
      "/5390-other-snacks none\n",
      "/5399-squeeze-snack-pouches none\n"
     ]
    }
   ],
   "source": [
    "tree = test_sp.prod_tree\n",
    "for key in tree.keys():\n",
    "    print(key, tree[key])"
   ]
  }
 ],
 "metadata": {
  "kernelspec": {
   "display_name": "Python 3",
   "language": "python",
   "name": "python3"
  },
  "language_info": {
   "codemirror_mode": {
    "name": "ipython",
    "version": 3
   },
   "file_extension": ".py",
   "mimetype": "text/x-python",
   "name": "python",
   "nbconvert_exporter": "python",
   "pygments_lexer": "ipython3",
   "version": "3.9.19"
  }
 },
 "nbformat": 4,
 "nbformat_minor": 2
}
